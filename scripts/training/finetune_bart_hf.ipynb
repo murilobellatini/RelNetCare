{
 "cells": [
  {
   "cell_type": "code",
   "execution_count": null,
   "metadata": {},
   "outputs": [],
   "source": [
    "%load_ext autoreload\n",
    "%autoreload 2\n",
    "!source /home/murilo/RelNetCare/.env"
   ]
  },
  {
   "cell_type": "code",
   "execution_count": 58,
   "metadata": {},
   "outputs": [
    {
     "name": "stderr",
     "output_type": "stream",
     "text": [
      "Downloading (…)okenizer_config.json: 100%|██████████| 26.0/26.0 [00:00<00:00, 14.9kB/s]\n",
      "Downloading (…)lve/main/config.json: 100%|██████████| 1.63k/1.63k [00:00<00:00, 1.45MB/s]\n",
      "Downloading (…)olve/main/vocab.json: 100%|██████████| 899k/899k [00:00<00:00, 19.4MB/s]\n",
      "Downloading (…)olve/main/merges.txt: 100%|██████████| 456k/456k [00:00<00:00, 78.7MB/s]\n",
      "Downloading (…)/main/tokenizer.json: 100%|██████████| 1.36M/1.36M [00:00<00:00, 14.5MB/s]\n"
     ]
    }
   ],
   "source": [
    "from transformers import AutoTokenizer\n",
    "import torch\n",
    "import wandb\n",
    "\n",
    "device = torch.device(\"cuda\" if torch.cuda.is_available() else \"cpu\")\n",
    "\n",
    "exp_group = \"DialogREBARTSummarizeRelationsLargerModel\"  # Change this for each run\n",
    "data_folder = \"/home/murilo/RelNetCare/data/processed/dialog-re-llama-11cls-rebalPairs-rwrtKeys-instrC-mxTrnCp3-skpTps-prepBART\"\n",
    "freeze_encoder = False\n",
    "\n",
    "# Initialize Weights and Biases with more args\n",
    "args_dict = {\n",
    "    \"per_device_train_batch_size\": 8, #bart-base 32\n",
    "    \"per_device_eval_batch_size\": 12, #bart-base 64\n",
    "    \"num_train_epochs\": 5,\n",
    "    'learning_rate': 2e-5,  # good starting point\n",
    "    \"exp_group\": exp_group,\n",
    "    \"data_stem\": data_folder.split('/')[-1],\n",
    "    \"data_folder\": data_folder,\n",
    "    \"freeze_encoder\": freeze_encoder,\n",
    "    'truncation': True,\n",
    "    'max_length': 1024,\n",
    "    'model_name':'facebook/bart-large',\n",
    "    'memorization_task': False,\n",
    "    'fp16': False,\n",
    "    'merge_train_dev': False\n",
    "}\n",
    "args_dict['output_dir'] = f\"/mnt/vdb1/murilo/models/fine-tuned/{args_dict['model_name']}/{args_dict['data_stem']}\"\n",
    "\n",
    "\n",
    "checkpoint = args_dict['model_name']\n",
    "tokenizer = AutoTokenizer.from_pretrained(args_dict['model_name'])"
   ]
  },
  {
   "cell_type": "code",
   "execution_count": 59,
   "metadata": {},
   "outputs": [
    {
     "data": {
      "text/plain": [
       "DatasetDict({\n",
       "    train: Dataset({\n",
       "        features: ['text', 'summary', 'title'],\n",
       "        num_rows: 2304\n",
       "    })\n",
       "    test: Dataset({\n",
       "        features: ['text', 'summary', 'title'],\n",
       "        num_rows: 841\n",
       "    })\n",
       "    dev: Dataset({\n",
       "        features: ['text', 'summary', 'title'],\n",
       "        num_rows: 705\n",
       "    })\n",
       "})"
      ]
     },
     "execution_count": 59,
     "metadata": {},
     "output_type": "execute_result"
    }
   ],
   "source": [
    "from datasets import Dataset, DatasetDict\n",
    "import os\n",
    "import json\n",
    "\n",
    "data_cap = -1\n",
    "set_data = None\n",
    "dataset_sets = {}\n",
    "dict_sets = {}\n",
    "for set_ in ('train', 'test', 'dev'):\n",
    "\n",
    "    data_path = os.path.join(data_folder, f'{set_}.json')\n",
    "\n",
    "    with open(data_path, 'r') as f:\n",
    "        data = json.load(f)\n",
    "            \n",
    "    # Remap keys and separate into train/test\n",
    "    if args_dict['memorization_task']:\n",
    "        if not set_data:\n",
    "            set_data = [{\"text\": item[\"input\"], \"summary\": item[\"output\"], \"title\": \"\"} for item in data[data_cap:]]\n",
    "    else:\n",
    "        set_data = [{\"text\": item[\"input\"], \"summary\": item[\"output\"], \"title\": \"\"} for item in data]\n",
    "        \n",
    "    # Merge 'train' and 'dev' if the flag is set\n",
    "    if args_dict['merge_train_dev']:\n",
    "        if set_ == 'dev':\n",
    "            dict_sets['train'] = dict_sets['train'] + set_data\n",
    "        else:\n",
    "           dict_sets[set_] = set_data\n",
    "    else:\n",
    "        dict_sets[set_] = set_data\n",
    "        \n",
    "\n",
    "    \n",
    "for set_ in ('train', 'test', 'dev'):\n",
    "    if args_dict['merge_train_dev']:\n",
    "        if set_ == 'dev':\n",
    "            continue\n",
    "    set_data = dict_sets[set_]\n",
    "    dataset_sets[set_] = Dataset.from_dict(\n",
    "        {\"text\": [item[\"text\"] for item in set_data],\n",
    "         \"summary\": [item[\"summary\"] for item in set_data],\n",
    "         \"title\": [item[\"title\"] for item in set_data]}\n",
    "        )\n",
    "    \n",
    "\n",
    "# Create DatasetDict\n",
    "dataset_dict = DatasetDict(dataset_sets)\n",
    "dataset_dict"
   ]
  },
  {
   "cell_type": "code",
   "execution_count": 60,
   "metadata": {},
   "outputs": [
    {
     "name": "stderr",
     "output_type": "stream",
     "text": [
      "Map: 100%|██████████| 2304/2304 [00:00<00:00, 9513.49 examples/s] \n",
      "Map: 100%|██████████| 841/841 [00:00<00:00, 8412.96 examples/s]\n",
      "Map: 100%|██████████| 705/705 [00:00<00:00, 8209.58 examples/s]\n"
     ]
    }
   ],
   "source": [
    "def preprocess_function(examples, model_max_length=args_dict['max_length'], tokenizer_max_length=args_dict['max_length']):\n",
    "    inputs = [doc for doc in examples[\"text\"]]\n",
    "    model_inputs = tokenizer(inputs, max_length=model_max_length, truncation=True)\n",
    "\n",
    "    labels = tokenizer(text_target=examples[\"summary\"], max_length=model_max_length, truncation=True)\n",
    "\n",
    "    model_inputs[\"labels\"] = labels[\"input_ids\"]\n",
    "    return model_inputs\n",
    "\n",
    "tokenized_data = dataset_dict.map(preprocess_function, batched=True)\n"
   ]
  },
  {
   "cell_type": "code",
   "execution_count": 61,
   "metadata": {},
   "outputs": [],
   "source": [
    "from transformers import DataCollatorForSeq2Seq\n",
    "\n",
    "data_collator = DataCollatorForSeq2Seq(tokenizer=tokenizer, model=args_dict['model_name'])"
   ]
  },
  {
   "cell_type": "code",
   "execution_count": 62,
   "metadata": {},
   "outputs": [],
   "source": [
    "import evaluate\n",
    "\n",
    "rouge = evaluate.load(\"rouge\")"
   ]
  },
  {
   "cell_type": "code",
   "execution_count": 63,
   "metadata": {},
   "outputs": [],
   "source": [
    "import numpy as np\n",
    "\n",
    "\n",
    "def compute_metrics(eval_pred):\n",
    "    predictions, labels = eval_pred\n",
    "    decoded_preds = tokenizer.batch_decode(predictions, skip_special_tokens=True)\n",
    "    labels = np.where(labels != -100, labels, tokenizer.pad_token_id)\n",
    "    decoded_labels = tokenizer.batch_decode(labels, skip_special_tokens=True)\n",
    "\n",
    "    result = rouge.compute(predictions=decoded_preds, references=decoded_labels, use_stemmer=True)\n",
    "\n",
    "    prediction_lens = [np.count_nonzero(pred != tokenizer.pad_token_id) for pred in predictions]\n",
    "    result[\"gen_len\"] = np.mean(prediction_lens)\n",
    "\n",
    "    return {k: round(v, 4) for k, v in result.items()}"
   ]
  },
  {
   "cell_type": "code",
   "execution_count": 64,
   "metadata": {},
   "outputs": [
    {
     "name": "stderr",
     "output_type": "stream",
     "text": [
      "Downloading pytorch_model.bin: 100%|██████████| 1.02G/1.02G [00:05<00:00, 197MB/s]\n"
     ]
    },
    {
     "data": {
      "text/plain": [
       "{'per_device_train_batch_size': 8,\n",
       " 'per_device_eval_batch_size': 12,\n",
       " 'num_train_epochs': 5,\n",
       " 'learning_rate': 2e-05,\n",
       " 'exp_group': 'DialogREBARTSummarizeRelationsLargerModel',\n",
       " 'data_stem': 'dialog-re-llama-11cls-rebalPairs-rwrtKeys-instrC-mxTrnCp3-skpTps-prepBART',\n",
       " 'data_folder': '/home/murilo/RelNetCare/data/processed/dialog-re-llama-11cls-rebalPairs-rwrtKeys-instrC-mxTrnCp3-skpTps-prepBART',\n",
       " 'freeze_encoder': False,\n",
       " 'truncation': True,\n",
       " 'max_length': 1024,\n",
       " 'model_name': 'facebook/bart-large',\n",
       " 'memorization_task': False,\n",
       " 'fp16': False,\n",
       " 'merge_train_dev': False,\n",
       " 'output_dir': '/mnt/vdb1/murilo/models/fine-tuned/facebook/bart-large/dialog-re-llama-11cls-rebalPairs-rwrtKeys-instrC-mxTrnCp3-skpTps-prepBART'}"
      ]
     },
     "execution_count": 64,
     "metadata": {},
     "output_type": "execute_result"
    }
   ],
   "source": [
    "from transformers import AutoModelForSeq2SeqLM, Seq2SeqTrainingArguments, Seq2SeqTrainer\n",
    "\n",
    "model = AutoModelForSeq2SeqLM.from_pretrained(checkpoint)\n",
    "model.to(device)\n",
    "args_dict\n"
   ]
  },
  {
   "cell_type": "code",
   "execution_count": 65,
   "metadata": {},
   "outputs": [
    {
     "data": {
      "text/html": [
       "Finishing last run (ID:tzwavx4x) before initializing another..."
      ],
      "text/plain": [
       "<IPython.core.display.HTML object>"
      ]
     },
     "metadata": {},
     "output_type": "display_data"
    },
    {
     "data": {
      "text/html": [
       "Waiting for W&B process to finish... <strong style=\"color:green\">(success).</strong>"
      ],
      "text/plain": [
       "<IPython.core.display.HTML object>"
      ]
     },
     "metadata": {},
     "output_type": "display_data"
    },
    {
     "name": "stderr",
     "output_type": "stream",
     "text": [
      "wandb: WARNING Source type is set to 'repo' but some required information is missing from the environment. A job will not be created from this run. See https://docs.wandb.ai/guides/launch/create-job\n"
     ]
    },
    {
     "data": {
      "text/html": [
       "<style>\n",
       "    table.wandb td:nth-child(1) { padding: 0 10px; text-align: left ; width: auto;} td:nth-child(2) {text-align: left ; width: 100%}\n",
       "    .wandb-row { display: flex; flex-direction: row; flex-wrap: wrap; justify-content: flex-start; width: 100% }\n",
       "    .wandb-col { display: flex; flex-direction: column; flex-basis: 100%; flex: 1; padding: 10px; }\n",
       "    </style>\n",
       "<div class=\"wandb-row\"><div class=\"wandb-col\"><h3>Run history:</h3><br/><table class=\"wandb\"><tr><td>eval/gen_len</td><td>▇█▇▁▅</td></tr><tr><td>eval/loss</td><td>█▃▁▁▂</td></tr><tr><td>eval/rouge1</td><td>▁▇█▁▆</td></tr><tr><td>eval/rouge2</td><td>▁▇█▄▇</td></tr><tr><td>eval/rougeL</td><td>▁▇█▃▇</td></tr><tr><td>eval/rougeLsum</td><td>▁▇█▂▇</td></tr><tr><td>eval/runtime</td><td>█▂▁▆▃</td></tr><tr><td>eval/samples_per_second</td><td>▁▇█▃▅</td></tr><tr><td>eval/steps_per_second</td><td>▁▇█▃▅</td></tr><tr><td>train/epoch</td><td>▁▁▁▁▂▂▂▂▂▃▃▃▃▃▄▄▄▄▄▄▅▅▅▅▅▅▆▆▆▆▆▇▇▇▇▇████</td></tr><tr><td>train/global_step</td><td>▁▁▁▁▂▂▂▂▂▃▃▃▃▃▄▄▄▄▄▄▅▅▅▅▅▅▆▆▆▆▆▇▇▇▇▇████</td></tr><tr><td>train/learning_rate</td><td>████▇▇▇▇▇▆▆▆▆▆▆▅▅▅▅▅▄▄▄▄▄▄▃▃▃▃▃▂▂▂▂▂▂▁▁▁</td></tr><tr><td>train/loss</td><td>█▄▃▃▂▂▂▂▂▂▂▂▂▁▂▂▁▂▂▁▂▁▁▁▁▁▂▂▁▁▁▁▁▁▁▁▁▁▁▁</td></tr><tr><td>train/total_flos</td><td>▁</td></tr><tr><td>train/train_loss</td><td>▁</td></tr><tr><td>train/train_runtime</td><td>▁</td></tr><tr><td>train/train_samples_per_second</td><td>▁</td></tr><tr><td>train/train_steps_per_second</td><td>▁</td></tr></table><br/></div><div class=\"wandb-col\"><h3>Run summary:</h3><br/><table class=\"wandb\"><tr><td>eval/gen_len</td><td>19.2901</td></tr><tr><td>eval/loss</td><td>0.36467</td></tr><tr><td>eval/rouge1</td><td>0.523</td></tr><tr><td>eval/rouge2</td><td>0.3908</td></tr><tr><td>eval/rougeL</td><td>0.4644</td></tr><tr><td>eval/rougeLsum</td><td>0.4642</td></tr><tr><td>eval/runtime</td><td>17.0861</td></tr><tr><td>eval/samples_per_second</td><td>49.221</td></tr><tr><td>eval/steps_per_second</td><td>0.819</td></tr><tr><td>train/epoch</td><td>5.0</td></tr><tr><td>train/global_step</td><td>360</td></tr><tr><td>train/learning_rate</td><td>0.0</td></tr><tr><td>train/loss</td><td>0.299</td></tr><tr><td>train/total_flos</td><td>973863449395200.0</td></tr><tr><td>train/train_loss</td><td>0.4262</td></tr><tr><td>train/train_runtime</td><td>201.7262</td></tr><tr><td>train/train_samples_per_second</td><td>57.107</td></tr><tr><td>train/train_steps_per_second</td><td>1.785</td></tr></table><br/></div></div>"
      ],
      "text/plain": [
       "<IPython.core.display.HTML object>"
      ]
     },
     "metadata": {},
     "output_type": "display_data"
    },
    {
     "data": {
      "text/html": [
       " View run <strong style=\"color:#cdcd00\">stoic-rain-192</strong> at: <a href='https://wandb.ai/mbellatini/huggingface/runs/tzwavx4x' target=\"_blank\">https://wandb.ai/mbellatini/huggingface/runs/tzwavx4x</a><br/>Synced 6 W&B file(s), 0 media file(s), 0 artifact file(s) and 0 other file(s)"
      ],
      "text/plain": [
       "<IPython.core.display.HTML object>"
      ]
     },
     "metadata": {},
     "output_type": "display_data"
    },
    {
     "data": {
      "text/html": [
       "Find logs at: <code>./wandb/run-20231003_093029-tzwavx4x/logs</code>"
      ],
      "text/plain": [
       "<IPython.core.display.HTML object>"
      ]
     },
     "metadata": {},
     "output_type": "display_data"
    },
    {
     "data": {
      "text/html": [
       "Successfully finished last run (ID:tzwavx4x). Initializing new run:<br/>"
      ],
      "text/plain": [
       "<IPython.core.display.HTML object>"
      ]
     },
     "metadata": {},
     "output_type": "display_data"
    },
    {
     "data": {
      "text/html": [
       "wandb version 0.15.11 is available!  To upgrade, please run:\n",
       " $ pip install wandb --upgrade"
      ],
      "text/plain": [
       "<IPython.core.display.HTML object>"
      ]
     },
     "metadata": {},
     "output_type": "display_data"
    },
    {
     "data": {
      "text/html": [
       "Tracking run with wandb version 0.15.8"
      ],
      "text/plain": [
       "<IPython.core.display.HTML object>"
      ]
     },
     "metadata": {},
     "output_type": "display_data"
    },
    {
     "data": {
      "text/html": [
       "Run data is saved locally in <code>/home/murilo/RelNetCare/scripts/training/wandb/run-20231003_114335-wsu5f3tx</code>"
      ],
      "text/plain": [
       "<IPython.core.display.HTML object>"
      ]
     },
     "metadata": {},
     "output_type": "display_data"
    },
    {
     "data": {
      "text/html": [
       "Syncing run <strong><a href='https://wandb.ai/mbellatini/huggingface/runs/wsu5f3tx' target=\"_blank\">soft-voice-193</a></strong> to <a href='https://wandb.ai/mbellatini/huggingface' target=\"_blank\">Weights & Biases</a> (<a href='https://wandb.me/run' target=\"_blank\">docs</a>)<br/>"
      ],
      "text/plain": [
       "<IPython.core.display.HTML object>"
      ]
     },
     "metadata": {},
     "output_type": "display_data"
    },
    {
     "data": {
      "text/html": [
       " View project at <a href='https://wandb.ai/mbellatini/huggingface' target=\"_blank\">https://wandb.ai/mbellatini/huggingface</a>"
      ],
      "text/plain": [
       "<IPython.core.display.HTML object>"
      ]
     },
     "metadata": {},
     "output_type": "display_data"
    },
    {
     "data": {
      "text/html": [
       " View run at <a href='https://wandb.ai/mbellatini/huggingface/runs/wsu5f3tx' target=\"_blank\">https://wandb.ai/mbellatini/huggingface/runs/wsu5f3tx</a>"
      ],
      "text/plain": [
       "<IPython.core.display.HTML object>"
      ]
     },
     "metadata": {},
     "output_type": "display_data"
    },
    {
     "name": "stderr",
     "output_type": "stream",
     "text": [
      "/home/murilo/miniconda3/envs/llama-lora/lib/python3.10/site-packages/transformers/optimization.py:411: FutureWarning: This implementation of AdamW is deprecated and will be removed in a future version. Use the PyTorch implementation torch.optim.AdamW instead, or set `no_deprecation_warning=True` to disable this warning\n",
      "  warnings.warn(\n",
      "You're using a BartTokenizerFast tokenizer. Please note that with a fast tokenizer, using the `__call__` method is faster than using a method to encode the text followed by a call to the `pad` method to get a padded encoding.\n"
     ]
    },
    {
     "data": {
      "text/html": [
       "\n",
       "    <div>\n",
       "      \n",
       "      <progress value='1440' max='1440' style='width:300px; height:20px; vertical-align: middle;'></progress>\n",
       "      [1440/1440 08:57, Epoch 5/5]\n",
       "    </div>\n",
       "    <table border=\"1\" class=\"dataframe\">\n",
       "  <thead>\n",
       " <tr style=\"text-align: left;\">\n",
       "      <th>Epoch</th>\n",
       "      <th>Training Loss</th>\n",
       "      <th>Validation Loss</th>\n",
       "      <th>Rouge1</th>\n",
       "      <th>Rouge2</th>\n",
       "      <th>Rougel</th>\n",
       "      <th>Rougelsum</th>\n",
       "      <th>Gen Len</th>\n",
       "    </tr>\n",
       "  </thead>\n",
       "  <tbody>\n",
       "    <tr>\n",
       "      <td>1</td>\n",
       "      <td>0.214300</td>\n",
       "      <td>0.678556</td>\n",
       "      <td>0.525900</td>\n",
       "      <td>0.373400</td>\n",
       "      <td>0.479400</td>\n",
       "      <td>0.479300</td>\n",
       "      <td>19.605700</td>\n",
       "    </tr>\n",
       "    <tr>\n",
       "      <td>2</td>\n",
       "      <td>0.278500</td>\n",
       "      <td>0.546711</td>\n",
       "      <td>0.441600</td>\n",
       "      <td>0.330600</td>\n",
       "      <td>0.394400</td>\n",
       "      <td>0.395000</td>\n",
       "      <td>16.628400</td>\n",
       "    </tr>\n",
       "    <tr>\n",
       "      <td>3</td>\n",
       "      <td>0.201200</td>\n",
       "      <td>0.480069</td>\n",
       "      <td>0.435000</td>\n",
       "      <td>0.333900</td>\n",
       "      <td>0.396100</td>\n",
       "      <td>0.396600</td>\n",
       "      <td>15.764500</td>\n",
       "    </tr>\n",
       "    <tr>\n",
       "      <td>4</td>\n",
       "      <td>0.220100</td>\n",
       "      <td>0.557999</td>\n",
       "      <td>0.473900</td>\n",
       "      <td>0.362500</td>\n",
       "      <td>0.434400</td>\n",
       "      <td>0.434600</td>\n",
       "      <td>16.253900</td>\n",
       "    </tr>\n",
       "    <tr>\n",
       "      <td>5</td>\n",
       "      <td>0.167200</td>\n",
       "      <td>0.554783</td>\n",
       "      <td>0.490600</td>\n",
       "      <td>0.370700</td>\n",
       "      <td>0.447300</td>\n",
       "      <td>0.447600</td>\n",
       "      <td>17.173000</td>\n",
       "    </tr>\n",
       "  </tbody>\n",
       "</table><p>"
      ],
      "text/plain": [
       "<IPython.core.display.HTML object>"
      ]
     },
     "metadata": {},
     "output_type": "display_data"
    },
    {
     "data": {
      "text/plain": [
       "TrainOutput(global_step=1440, training_loss=0.26480197492573, metrics={'train_runtime': 536.8558, 'train_samples_per_second': 21.458, 'train_steps_per_second': 2.682, 'total_flos': 2631186666553344.0, 'train_loss': 0.26480197492573, 'epoch': 5.0})"
      ]
     },
     "execution_count": 65,
     "metadata": {},
     "output_type": "execute_result"
    }
   ],
   "source": [
    "wandb.init(project=\"huggingface\", config=args_dict, reinit=True)\n",
    "\n",
    "training_args = Seq2SeqTrainingArguments(\n",
    "    output_dir=args_dict['output_dir'],\n",
    "    evaluation_strategy=\"epoch\",\n",
    "    save_strategy=\"epoch\",\n",
    "    logging_steps=1,\n",
    "    learning_rate=args_dict['learning_rate'],\n",
    "    per_device_train_batch_size=args_dict['per_device_train_batch_size'],\n",
    "    per_device_eval_batch_size=args_dict['per_device_eval_batch_size'],\n",
    "    weight_decay=0.01,\n",
    "    save_total_limit=1,\n",
    "    num_train_epochs=args_dict['num_train_epochs'],\n",
    "    predict_with_generate=True,\n",
    "    fp16=args_dict['fp16'],\n",
    "    load_best_model_at_end=True\n",
    "    # push_to_hub=True,\n",
    ")\n",
    "\n",
    "trainer = Seq2SeqTrainer(\n",
    "    model=model,\n",
    "    args=training_args,\n",
    "    train_dataset=tokenized_data[\"train\"],\n",
    "    eval_dataset=tokenized_data[\"dev\"],\n",
    "    tokenizer=tokenizer,\n",
    "    data_collator=data_collator,\n",
    "    compute_metrics=compute_metrics,\n",
    ")\n",
    "# @todo: set random seed fo training\n",
    "trainer.train()"
   ]
  },
  {
   "attachments": {
    "image.png": {
     "image/png": "[encoded data removed]"
    }
   },
   "cell_type": "markdown",
   "metadata": {},
   "source": [
    "# Metrics for train and dev split\n",
    "![image.png](attachment:image.png)"
   ]
  },
  {
   "cell_type": "markdown",
   "metadata": {},
   "source": [
    "# Inference"
   ]
  },
  {
   "cell_type": "code",
   "execution_count": 66,
   "metadata": {},
   "outputs": [
    {
     "name": "stdout",
     "output_type": "stream",
     "text": [
      "input= Speaker 1: No, I-I mean your-your old best friend, here. Lily, from high school. Remember? Speaker 2: Oh gosh, Lily, yes. Of course I remember Lily. I... Then you must be? Speaker 1: Phoebe. Phoebe. Phoebe, yeah. She named me after you I guess.\n",
      "ground truth= Speaker 1 is a parent of Lily. Lily is a child of Speaker 1.\n",
      "raw inference= Speaker 2 is a parent of Lily. Lily is a child of Speaker 2.\n"
     ]
    },
    {
     "ename": "",
     "evalue": "",
     "output_type": "error",
     "traceback": [
      "\u001b[1;31mThe Kernel crashed while executing code in the the current cell or a previous cell. Please review the code in the cell(s) to identify a possible cause of the failure. Click <a href='https://aka.ms/vscodeJupyterKernelCrash'>here</a> for more info. View Jupyter <a href='command:jupyter.viewOutput'>log</a> for further details."
     ]
    }
   ],
   "source": [
    "from transformers import AutoTokenizer\n",
    "\n",
    "idx = -69\n",
    "text = dataset_dict['train'][idx]['text']\n",
    "inputs = tokenizer(text, return_tensors=\"pt\").input_ids.to(device)\n",
    "outputs = model.generate(inputs, max_new_tokens=100, do_sample=False)\n",
    "summary = tokenizer.decode(outputs[0], skip_special_tokens=True)\n",
    "# overfit_accomplished = dataset_dict['train'][0]['summary'] == summary\n",
    "# print(\"overfit_accomplished=\",overfit_accomplished)\n",
    "print(\"input=\", dataset_dict['train'][idx]['text'])\n",
    "print(\"ground truth=\",dataset_dict['train'][idx]['summary'])\n",
    "print(\"raw inference=\",summary )\n"
   ]
  },
  {
   "cell_type": "code",
   "execution_count": 54,
   "metadata": {},
   "outputs": [],
   "source": [
    "# @todo: create a custom loss\n",
    "# first inspect this\n",
    "\n",
    "import inspect\n",
    "from transformers import Seq2SeqTrainer\n",
    "\n",
    "# print(inspect.getsource(Seq2SeqTrainer.training_step))\n",
    "# print(inspect.getsource(Seq2SeqTrainer.compute_loss))\n",
    "# print(inspect.getsource(Seq2SeqTrainer.label_smoother))\n",
    "\n",
    "# # then overwrite the methods (either compute_loss or training_step, or even both)\n",
    "\n",
    "# from transformers import Seq2SeqTrainer\n",
    "\n",
    "# class CustomSeq2SeqTrainer(Seq2SeqTrainer):\n",
    "#     def training_step(self, model, inputs):\n",
    "#         outputs = model(**inputs)\n",
    "#         loss = outputs.loss\n",
    "#         logits = outputs.logits\n",
    "\n",
    "#         # Add your custom loss here, let's say L1 regularization\n",
    "#         lambda_l1 = 0.01  # regularization coefficient\n",
    "#         l1_norm = sum(p.abs().sum() for p in model.parameters())\n",
    "#         loss = loss + lambda_l1 * l1_norm\n",
    "\n",
    "#         self.log(\"train_loss\", loss, on_step=True, on_epoch=True, prog_bar=True, logger=True)\n",
    "#         return {\"loss\": loss}\n",
    "\n",
    "# # lastly the trainer\n",
    "\n",
    "# trainer = CustomSeq2SeqTrainer(\n",
    "#     model=model,\n",
    "#     args=training_args,\n",
    "#     train_dataset=tokenized_data[\"train\"],\n",
    "#     eval_dataset=tokenized_data[\"test\"],\n",
    "#     tokenizer=tokenizer,\n",
    "#     data_collator=data_collator,\n",
    "#     compute_metrics=compute_metrics,\n",
    "# )\n",
    "\n"
   ]
  },
  {
   "cell_type": "code",
   "execution_count": 56,
   "metadata": {},
   "outputs": [],
   "source": [
    "\n",
    "# model = AutoModelForSeq2SeqLM.from_pretrained(\"stevhliu/my_awesome_billsum_model\")"
   ]
  },
  {
   "cell_type": "code",
   "execution_count": null,
   "metadata": {},
   "outputs": [],
   "source": []
  }
 ],
 "metadata": {
  "kernelspec": {
   "display_name": "llama-lora",
   "language": "python",
   "name": "python3"
  },
  "language_info": {
   "codemirror_mode": {
    "name": "ipython",
    "version": 3
   },
   "file_extension": ".py",
   "mimetype": "text/x-python",
   "name": "python",
   "nbconvert_exporter": "python",
   "pygments_lexer": "ipython3",
   "version": "3.10.12"
  },
  "orig_nbformat": 4
 },
 "nbformat": 4,
 "nbformat_minor": 2
}
