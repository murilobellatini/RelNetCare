{
 "cells": [
  {
   "cell_type": "code",
   "execution_count": 1,
   "metadata": {},
   "outputs": [],
   "source": [
    "%load_ext autoreload\n",
    "%autoreload 2"
   ]
  },
  {
   "cell_type": "code",
   "execution_count": 5,
   "metadata": {},
   "outputs": [
    {
     "name": "stdout",
     "output_type": "stream",
     "text": [
      "Initializing CustomTripletExtractor...\n"
     ]
    },
    {
     "name": "stderr",
     "output_type": "stream",
     "text": [
      "[nltk_data] Downloading package punkt to /home/ubuntu/nltk_data...\n",
      "[nltk_data]   Package punkt is already up-to-date!\n"
     ]
    },
    {
     "name": "stdout",
     "output_type": "stream",
     "text": [
      "CustomTripletExtractor init successfully concluded!\n",
      "Extracting triplets...\n",
      "Entity extraction completed.\n"
     ]
    },
    {
     "name": "stderr",
     "output_type": "stream",
     "text": [
      "100%|██████████| 1/1 [00:00<00:00, 58.24it/s]"
     ]
    },
    {
     "name": "stdout",
     "output_type": "stream",
     "text": [
      "Dialogues enriched.\n"
     ]
    },
    {
     "name": "stderr",
     "output_type": "stream",
     "text": [
      "\n"
     ]
    },
    {
     "name": "stdout",
     "output_type": "stream",
     "text": [
      "Predicted labels obtained.\n",
      "Relation inference completed.\n",
      "Dumping triplets to Neo4j...\n",
      "Triplets dumped to Neo4j successfully.\n"
     ]
    }
   ],
   "source": [
    "from src.infering import CustomTripletExtractor\n",
    "\n",
    "\n",
    "dialogue = [\n",
    "    \"User: Alice moved to Munich.\",\n",
    "    \"Agent: That's interesting. What does she do there?\",\n",
    "    \"User: She works for Google.\",\n",
    "    \"Agent: And what is your relation to her?\",\n",
    "    \"User: She is my sister.\",\n",
    "]\n",
    "\n",
    "extractor = CustomTripletExtractor()\n",
    "triplets = extractor.extract_triplets(dialogue)\n",
    "extractor.dump_to_neo4j(dialogue,triplets)"
   ]
  }
 ],
 "metadata": {
  "kernelspec": {
   "display_name": "relnet",
   "language": "python",
   "name": "python3"
  },
  "language_info": {
   "codemirror_mode": {
    "name": "ipython",
    "version": 3
   },
   "file_extension": ".py",
   "mimetype": "text/x-python",
   "name": "python",
   "nbconvert_exporter": "python",
   "pygments_lexer": "ipython3",
   "version": "3.8.16"
  },
  "orig_nbformat": 4
 },
 "nbformat": 4,
 "nbformat_minor": 2
}
