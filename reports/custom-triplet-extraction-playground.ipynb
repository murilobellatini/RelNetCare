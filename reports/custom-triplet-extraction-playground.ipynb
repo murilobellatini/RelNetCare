{
 "cells": [
  {
   "cell_type": "code",
   "execution_count": 1,
   "metadata": {},
   "outputs": [],
   "source": [
    "%load_ext autoreload\n",
    "%autoreload 2"
   ]
  },
  {
   "cell_type": "code",
   "execution_count": 4,
   "metadata": {},
   "outputs": [
    {
     "name": "stdout",
     "output_type": "stream",
     "text": [
      "Initializing CustomTripletExtractor...\n"
     ]
    },
    {
     "name": "stderr",
     "output_type": "stream",
     "text": [
      "[nltk_data] Downloading package punkt to /home/ubuntu/nltk_data...\n",
      "[nltk_data]   Package punkt is already up-to-date!\n"
     ]
    },
    {
     "name": "stdout",
     "output_type": "stream",
     "text": [
      "CustomTripletExtractor init successfully concluded!\n",
      "Extracting triplets...\n"
     ]
    },
    {
     "ename": "UnboundLocalError",
     "evalue": "local variable 'resolved_dialogue' referenced before assignment",
     "output_type": "error",
     "traceback": [
      "\u001b[0;31m---------------------------------------------------------------------------\u001b[0m",
      "\u001b[0;31mUnboundLocalError\u001b[0m                         Traceback (most recent call last)",
      "Cell \u001b[0;32mIn[4], line 13\u001b[0m\n\u001b[1;32m      4\u001b[0m dialogue \u001b[39m=\u001b[39m [\n\u001b[1;32m      5\u001b[0m     \u001b[39m\"\u001b[39m\u001b[39mUser: Alice moved to Munich.\u001b[39m\u001b[39m\"\u001b[39m,\n\u001b[1;32m      6\u001b[0m     \u001b[39m\"\u001b[39m\u001b[39mAgent: That\u001b[39m\u001b[39m'\u001b[39m\u001b[39ms interesting. What does she do there?\u001b[39m\u001b[39m\"\u001b[39m,\n\u001b[0;32m   (...)\u001b[0m\n\u001b[1;32m      9\u001b[0m     \u001b[39m\"\u001b[39m\u001b[39mUser: She is my sister.\u001b[39m\u001b[39m\"\u001b[39m,\n\u001b[1;32m     10\u001b[0m ]\n\u001b[1;32m     12\u001b[0m extractor \u001b[39m=\u001b[39m CustomTripletExtractor(apply_coref_resolution\u001b[39m=\u001b[39m\u001b[39mFalse\u001b[39;00m)\n\u001b[0;32m---> 13\u001b[0m triplets \u001b[39m=\u001b[39m extractor\u001b[39m.\u001b[39;49mextract_triplets(dialogue)\n\u001b[1;32m     14\u001b[0m extractor\u001b[39m.\u001b[39mdump_to_neo4j(dialogue,triplets)\n",
      "File \u001b[0;32m/mnt/vdb1/Development/murilo/RelNetCare/src/infering.py:206\u001b[0m, in \u001b[0;36mCustomTripletExtractor.extract_triplets\u001b[0;34m(self, dialogue)\u001b[0m\n\u001b[1;32m    204\u001b[0m     resolved_dialogue \u001b[39m=\u001b[39m \u001b[39mself\u001b[39m\u001b[39m.\u001b[39mcoref_resolver\u001b[39m.\u001b[39mprocess_dialogue(dialogue)\n\u001b[1;32m    205\u001b[0m     \u001b[39mprint\u001b[39m(\u001b[39m\"\u001b[39m\u001b[39mCoreference resolution completed.\u001b[39m\u001b[39m\"\u001b[39m)\n\u001b[0;32m--> 206\u001b[0m entity_pairs \u001b[39m=\u001b[39m \u001b[39mself\u001b[39m\u001b[39m.\u001b[39mentity_extractor\u001b[39m.\u001b[39mprocess(\u001b[39m'\u001b[39m\u001b[39m \u001b[39m\u001b[39m'\u001b[39m\u001b[39m.\u001b[39mjoin(resolved_dialogue), ignore_types\u001b[39m=\u001b[39m[\u001b[39m'\u001b[39m\u001b[39mCARDINAL\u001b[39m\u001b[39m'\u001b[39m])\n\u001b[1;32m    207\u001b[0m \u001b[39mprint\u001b[39m(\u001b[39m\"\u001b[39m\u001b[39mEntity extraction completed.\u001b[39m\u001b[39m\"\u001b[39m)\n\u001b[1;32m    208\u001b[0m dialogues \u001b[39m=\u001b[39m [(resolved_dialogue, entity_pairs)]\n",
      "\u001b[0;31mUnboundLocalError\u001b[0m: local variable 'resolved_dialogue' referenced before assignment"
     ]
    }
   ],
   "source": [
    "from src.infering import CustomTripletExtractor\n",
    "\n",
    "\n",
    "dialogue = [\n",
    "    \"User: Alice moved to Munich.\",\n",
    "    \"Agent: That's interesting. What does she do there?\",\n",
    "    \"User: She works for Google.\",\n",
    "    \"Agent: And what is your relation to her?\",\n",
    "    \"User: She is my sister.\",\n",
    "]\n",
    "\n",
    "extractor = CustomTripletExtractor(apply_coref_resolution=False)\n",
    "triplets = extractor.extract_triplets(dialogue)\n",
    "extractor.dump_to_neo4j(dialogue,triplets)"
   ]
  }
 ],
 "metadata": {
  "kernelspec": {
   "display_name": "relnet",
   "language": "python",
   "name": "python3"
  },
  "language_info": {
   "codemirror_mode": {
    "name": "ipython",
    "version": 3
   },
   "file_extension": ".py",
   "mimetype": "text/x-python",
   "name": "python",
   "nbconvert_exporter": "python",
   "pygments_lexer": "ipython3",
   "version": "3.8.16"
  },
  "orig_nbformat": 4
 },
 "nbformat": 4,
 "nbformat_minor": 2
}
