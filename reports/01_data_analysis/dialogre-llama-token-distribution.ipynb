{
 "cells": [
  {
   "cell_type": "code",
   "execution_count": null,
   "metadata": {},
   "outputs": [],
   "source": [
    "%load_ext autoreload\n",
    "%autoreload 2"
   ]
  },
  {
   "cell_type": "code",
   "execution_count": null,
   "metadata": {},
   "outputs": [],
   "source": [
    "import pickle\n",
    "tok_path = \"/home/murilo/RelNetCare/data/raw/lora/tokenizer.pkl\"\n",
    "with open(tok_path, \"rb\") as f:\n",
    "    tokenizer = pickle.load(f)\n",
    "\n",
    "print(f\"Tokenizer loaded from '{tok_path}'\")\n"
   ]
  },
  {
   "cell_type": "code",
   "execution_count": null,
   "metadata": {},
   "outputs": [],
   "source": [
    "import pandas as pd\n",
    "\n",
    "turn_count = 2\n",
    "\n",
    "if turn_count is None:\n",
    "    data_path = '/home/murilo/RelNetCare/data/processed/dialog-re-llama-11cls-rebalPairs-rwrtKeys-instrC/dialog-re-llama-11cls-rebalPairs-rwrtKeys-instrC-train-dev.json'\n",
    "else:\n",
    "    data_path = f'/home/murilo/RelNetCare/data/processed/dialog-re-llama-11cls-rebalPairs-rwrtKeys-instrC-mxTrnCp{turn_count}/dialog-re-llama-11cls-rebalPairs-rwrtKeys-instrC-mxTrnCp{turn_count}-train-dev.json'\n",
    "\n",
    "df = pd.read_json(data_path, orient='records')\n",
    "\n",
    "print(\"JSON list loaded into DataFrame!\")\n",
    "\n",
    "df['prompt'] = df['conversations'].apply(lambda x: x[0].get('value') if x else None)\n",
    "df['reply'] = df['conversations'].apply(lambda x: x[1].get('value') if x else None)\n",
    "df['prompt_reply'] = df.apply(lambda row: \"A system that extracts entities and their relations from dialogues. It returns results in jsonl format. USER: \" + row['prompt'] + \" ASSISTANT: \" + row['reply'], axis=1)\n",
    "\n",
    "from tqdm import tqdm\n",
    "tqdm.pandas()\n",
    "\n",
    "# Tokenize 'prompt_reply' and get the token count\n",
    "df['prompt_reply_tokens'] = df['prompt_reply'].progress_apply(lambda x: tokenizer.tokenize(x))\n",
    "df['token_count'] = df['prompt_reply_tokens'].progress_apply(len)\n",
    "\n",
    "# Get the character count for comparison\n",
    "df['char_count'] = df['prompt_reply'].progress_apply(len)\n",
    "df\n",
    "\n"
   ]
  },
  {
   "cell_type": "code",
   "execution_count": null,
   "metadata": {},
   "outputs": [],
   "source": [
    "import seaborn as sns\n",
    "sns.set()\n",
    "data_stem = data_path.split('/')[-1].replace('-train-dev', '').replace('-test', '').replace('.json', '')\n",
    "ax = df.token_count.hist(bins=100, figsize=(12, 2), alpha=0.8)\n",
    "\n",
    "print(\"Input + Output Token Count Distribution Token Count Distribution\")\n",
    "ax.set_title(f'Dataset: {data_stem}')\n",
    "ax.axvline(x=512, color='r', linestyle='--', label='512 Limit')\n",
    "ax.axvline(x=1024, color='g', linestyle='--', label='1024 Limit')\n",
    "\n",
    "# Add legend to help interpret the lines\n",
    "ax.legend()\n",
    "ax.set_xlim([200, 1700])\n",
    "ax.set_ylim([0, 300])\n"
   ]
  },
  {
   "cell_type": "code",
   "execution_count": null,
   "metadata": {},
   "outputs": [],
   "source": [
    "import matplotlib.pyplot as plt\n",
    "import pandas as pd\n",
    "from tqdm import tqdm\n",
    "\n",
    "sns.set(style=\"white\")\n",
    "\n",
    "tqdm.pandas()\n",
    "counts_list = [None, 2, 3, 5, 7, 10]\n",
    "sample_counts = {}\n",
    "\n",
    "for turn_count in counts_list:\n",
    "    if turn_count is None:\n",
    "        data_path = '/home/murilo/RelNetCare/data/processed/dialog-re-llama-11cls-rebalPairs-rwrtKeys-instrC/dialog-re-llama-11cls-rebalPairs-rwrtKeys-instrC-train-dev.json'\n",
    "    else:\n",
    "        data_path = f'/home/murilo/RelNetCare/data/processed/dialog-re-llama-11cls-rebalPairs-rwrtKeys-instrC-mxTrnCp{turn_count}/dialog-re-llama-11cls-rebalPairs-rwrtKeys-instrC-mxTrnCp{turn_count}-train-dev.json'\n",
    "    \n",
    "    cnt_df = pd.read_json(data_path, orient='records')\n",
    "    sample_counts[turn_count] = len(cnt_df)\n",
    "\n",
    "# Sort dictionary by value\n",
    "sorted_sample_counts = {k: v for k, v in reversed(sorted(sample_counts.items(), key=lambda item: item[1]))}\n",
    "\n",
    "# Plotting\n",
    "plt.figure(figsize=(5, 18), facecolor='white')\n",
    "bars = plt.barh(list(map(str, sorted_sample_counts.keys())), list(sorted_sample_counts.values()), height=0.3)\n",
    "plt.xlabel('Total Samples')\n",
    "plt.ylabel('Dataset Turn Count')\n",
    "plt.title('Total Samples per Dataset Turn Count')\n",
    "\n",
    "# Adding data labels inside the bar\n",
    "for bar in bars:\n",
    "    width = bar.get_width()\n",
    "    plt.text(width-0.15*max(sample_counts.values()), bar.get_y() + bar.get_height()/2, str(width), va='center', color='white')\n",
    "\n",
    "plt.show()\n",
    "\n"
   ]
  },
  {
   "cell_type": "code",
   "execution_count": 172,
   "metadata": {},
   "outputs": [
    {
     "data": {
      "text/plain": [
       "['dialog-re-llama-4cls-rebalPairs4x-rwrtKeys-instrC-mxTrnCp3-shfflDt']"
      ]
     },
     "metadata": {},
     "output_type": "display_data"
    }
   ],
   "source": [
    "\n",
    "# import re\n",
    "\n",
    "# def extract_cls_number(s):\n",
    "#     match = re.search(r'(\\d+)cls', s)\n",
    "#     if match:\n",
    "#         return int(match.group(1))\n",
    "#     return None\n",
    "\n",
    "# import wandb\n",
    "\n",
    "# # Initialize the API\n",
    "# api = wandb.Api()\n",
    "\n",
    "# # Your project name\n",
    "# project_name = \"huggingface\"\n",
    "\n",
    "# # Loop through runs in the project\n",
    "# runs = list(api.runs(f\"{project_name}\"))\n",
    "# runs = [r for r in runs if '4cls-rebalPairs4x' in r.config['data_stem']]\n",
    "# display([r.config['data_stem'] for r in runs])\n",
    "# # display({extract_cls_number(r.config['data_stem']) for r in runs})\n",
    "\n",
    "# for run in runs:\n",
    "#     run.config[\"exp_group\"] = 'DialogREExtractTriplets_LrnCorrelRels'\n",
    "#     run.update()\n"
   ]
  },
  {
   "cell_type": "code",
   "execution_count": 149,
   "metadata": {},
   "outputs": [
    {
     "data": {
      "text/plain": [
       "['dialog-re-llama-11cls-rebalPairs-rwrtKeys-instrC-mxCnvLgth2048',\n",
       " 'dialog-re-llama-11cls-rebalPairs-rwrtKeys-instrC-mxCnvLgth2048']"
      ]
     },
     "execution_count": 149,
     "metadata": {},
     "output_type": "execute_result"
    }
   ],
   "source": []
  },
  {
   "cell_type": "code",
   "execution_count": 157,
   "metadata": {},
   "outputs": [
    {
     "name": "stdout",
     "output_type": "stream",
     "text": [
      "11\n"
     ]
    }
   ],
   "source": []
  },
  {
   "cell_type": "code",
   "execution_count": null,
   "metadata": {},
   "outputs": [],
   "source": [
    "import re\n",
    "\n",
    "def extract_intent_and_context_names(text):\n",
    "    intent_pattern = r'intent {\\s+name: \"(.+?)\"'\n",
    "    context_pattern = r'output_contexts {\\s+name: \"(.+?)\"'\n",
    "    \n",
    "    intent_names = re.findall(intent_pattern, text)\n",
    "    context_names = re.findall(context_pattern, text)\n",
    "    \n",
    "    return {'intent_names': intent_names, 'context_names': context_names}\n",
    "\n",
    "def extract_info(text):\n",
    "    patterns = {\n",
    "        'query_text': r'query_text: \"(.+?)\"',\n",
    "        'fulfillment_texts': r'fulfillment_text: \"(.+?)\"',\n",
    "        'display_names': r'display_name: \"(.+?)\"',\n",
    "        'intent_detection_confidence': r'intent_detection_confidence: ([0-9.]+)',\n",
    "        'intent_names': r'intent {\\s+name: \"(.+?)\"',\n",
    "        'context_names': r'output_contexts {\\s+name: \"(.+?)\"',\n",
    "    }\n",
    "    \n",
    "    extracted_info = {}\n",
    "    for key, pattern in patterns.items():\n",
    "        extracted_info[key] = re.findall(pattern, text)\n",
    "        \n",
    "    return extracted_info\n",
    "\n",
    "info_dict = extract_info(tmp)\n",
    "\n",
    "for k,v_list in info_dict.items():\n",
    "    print(f\"# {k}:\")\n",
    "    for v in v_list:\n",
    "        if 'intent_names' in k or 'context' in k:\n",
    "            v = '/'.join([x for x in v.split('/') if 'dialog' in x])\n",
    "        print(v)\n",
    "    print()"
   ]
  },
  {
   "cell_type": "code",
   "execution_count": null,
   "metadata": {},
   "outputs": [],
   "source": [
    "tmp"
   ]
  }
 ],
 "metadata": {
  "kernelspec": {
   "display_name": "llama-lora",
   "language": "python",
   "name": "python3"
  },
  "language_info": {
   "codemirror_mode": {
    "name": "ipython",
    "version": 3
   },
   "file_extension": ".py",
   "mimetype": "text/x-python",
   "name": "python",
   "nbconvert_exporter": "python",
   "pygments_lexer": "ipython3",
   "version": "3.10.12"
  },
  "orig_nbformat": 4
 },
 "nbformat": 4,
 "nbformat_minor": 2
}
