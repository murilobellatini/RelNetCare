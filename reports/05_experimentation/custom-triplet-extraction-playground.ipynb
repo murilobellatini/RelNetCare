{
 "cells": [
  {
   "cell_type": "code",
   "execution_count": 2,
   "metadata": {},
   "outputs": [
    {
     "name": "stdout",
     "output_type": "stream",
     "text": [
      "The autoreload extension is already loaded. To reload it, use:\n",
      "  %reload_ext autoreload\n"
     ]
    }
   ],
   "source": [
    "%load_ext autoreload\n",
    "%autoreload 2"
   ]
  },
  {
   "cell_type": "code",
   "execution_count": 8,
   "metadata": {},
   "outputs": [
    {
     "name": "stdout",
     "output_type": "stream",
     "text": [
      "Initializing CustomTripletExtractor...\n"
     ]
    },
    {
     "name": "stderr",
     "output_type": "stream",
     "text": [
      "[nltk_data] Downloading package punkt to /home/ubuntu/nltk_data...\n",
      "[nltk_data]   Package punkt is already up-to-date!\n"
     ]
    },
    {
     "name": "stdout",
     "output_type": "stream",
     "text": [
      "CustomTripletExtractor init successfully concluded!\n",
      "Extracting triplets...\n",
      "Entity extraction completed.\n"
     ]
    },
    {
     "name": "stderr",
     "output_type": "stream",
     "text": [
      "100%|██████████| 1/1 [00:00<00:00, 25.64it/s]"
     ]
    },
    {
     "name": "stdout",
     "output_type": "stream",
     "text": [
      "Dialogues enriched.\n"
     ]
    },
    {
     "name": "stderr",
     "output_type": "stream",
     "text": [
      "\n"
     ]
    },
    {
     "ename": "TypeError",
     "evalue": "'float' object is not a mapping",
     "output_type": "error",
     "traceback": [
      "\u001b[0;31m---------------------------------------------------------------------------\u001b[0m",
      "\u001b[0;31mTypeError\u001b[0m                                 Traceback (most recent call last)",
      "Cell \u001b[0;32mIn[8], line 13\u001b[0m\n\u001b[1;32m      4\u001b[0m dialogue \u001b[39m=\u001b[39m [\n\u001b[1;32m      5\u001b[0m     \u001b[39m\"\u001b[39m\u001b[39mUser: My cousin landed a job at SpaceX!\u001b[39m\u001b[39m\"\u001b[39m,\n\u001b[1;32m      6\u001b[0m     \u001b[39m\"\u001b[39m\u001b[39mAgent: That\u001b[39m\u001b[39m'\u001b[39m\u001b[39ms amazing! What role is your cousin taking on?\u001b[39m\u001b[39m\"\u001b[39m,\n\u001b[0;32m   (...)\u001b[0m\n\u001b[1;32m      9\u001b[0m     \u001b[39m\"\u001b[39m\u001b[39mUser: Yes, our whole family is proud of him!\u001b[39m\u001b[39m\"\u001b[39m,\n\u001b[1;32m     10\u001b[0m ]\n\u001b[1;32m     12\u001b[0m extractor \u001b[39m=\u001b[39m CustomTripletExtractor(apply_coref_resolution\u001b[39m=\u001b[39m\u001b[39mFalse\u001b[39;00m)\n\u001b[0;32m---> 13\u001b[0m triplets \u001b[39m=\u001b[39m extractor\u001b[39m.\u001b[39;49mextract_triplets(dialogue)\n\u001b[1;32m     14\u001b[0m extractor\u001b[39m.\u001b[39mdump_to_neo4j(dialogue,triplets)\n",
      "File \u001b[0;32m/mnt/vdb1/Development/murilo/RelNetCare/src/infering.py:211\u001b[0m, in \u001b[0;36mCustomTripletExtractor.extract_triplets\u001b[0;34m(self, dialogue)\u001b[0m\n\u001b[1;32m    209\u001b[0m enriched_dialogues \u001b[39m=\u001b[39m \u001b[39mself\u001b[39m\u001b[39m.\u001b[39menricher\u001b[39m.\u001b[39menrich(dialogues)\n\u001b[1;32m    210\u001b[0m \u001b[39mprint\u001b[39m(\u001b[39m\"\u001b[39m\u001b[39mDialogues enriched.\u001b[39m\u001b[39m\"\u001b[39m)\n\u001b[0;32m--> 211\u001b[0m pred_labels \u001b[39m=\u001b[39m \u001b[39mself\u001b[39;49m\u001b[39m.\u001b[39;49mmodel\u001b[39m.\u001b[39;49mget_predicted_labels(enriched_dialogues)\n\u001b[1;32m    212\u001b[0m \u001b[39mprint\u001b[39m(\u001b[39m\"\u001b[39m\u001b[39mPredicted labels obtained.\u001b[39m\u001b[39m\"\u001b[39m)\n\u001b[1;32m    213\u001b[0m dialogue, predicted_relations \u001b[39m=\u001b[39m \u001b[39mself\u001b[39m\u001b[39m.\u001b[39minferer\u001b[39m.\u001b[39mperform_inference(enriched_dialogues[\u001b[39m0\u001b[39m], pred_labels)\n",
      "File \u001b[0;32m/mnt/vdb1/Development/murilo/RelNetCare/src/modelling.py:254\u001b[0m, in \u001b[0;36mInferenceRelationModel.get_predicted_labels\u001b[0;34m(self, enriched_dialogues, threshold)\u001b[0m\n\u001b[1;32m    248\u001b[0m df \u001b[39m=\u001b[39m pd\u001b[39m.\u001b[39mDataFrame(enriched_dialogues)\u001b[39m.\u001b[39mrename({\n\u001b[1;32m    249\u001b[0m     \u001b[39m0\u001b[39m: \u001b[39m'\u001b[39m\u001b[39mDialogue\u001b[39m\u001b[39m'\u001b[39m, \u001b[39m1\u001b[39m: \u001b[39m'\u001b[39m\u001b[39mRelations\u001b[39m\u001b[39m'\u001b[39m\n\u001b[1;32m    250\u001b[0m }, axis\u001b[39m=\u001b[39m\u001b[39m1\u001b[39m)\n\u001b[1;32m    252\u001b[0m df[\u001b[39m'\u001b[39m\u001b[39mOrigin\u001b[39m\u001b[39m'\u001b[39m] \u001b[39m=\u001b[39m \u001b[39m'\u001b[39m\u001b[39mtest\u001b[39m\u001b[39m'\u001b[39m\n\u001b[0;32m--> 254\u001b[0m df \u001b[39m=\u001b[39m \u001b[39mself\u001b[39;49m\u001b[39m.\u001b[39;49mpreprocess_data(df, mode\u001b[39m=\u001b[39;49m\u001b[39m'\u001b[39;49m\u001b[39minfer\u001b[39;49m\u001b[39m'\u001b[39;49m)\n\u001b[1;32m    255\u001b[0m _, X_test, _, _, _, _, _, _, _ \u001b[39m=\u001b[39m \u001b[39mself\u001b[39m\u001b[39m.\u001b[39mfeature_engineering(df, mode\u001b[39m=\u001b[39m\u001b[39m'\u001b[39m\u001b[39minfer\u001b[39m\u001b[39m'\u001b[39m, label_encoders\u001b[39m=\u001b[39mle_dict,\n\u001b[1;32m    256\u001b[0m                                                           vectorizers\u001b[39m=\u001b[39mvectorizer)\n\u001b[1;32m    258\u001b[0m D_test \u001b[39m=\u001b[39m xgb\u001b[39m.\u001b[39mDMatrix(X_test)\n",
      "File \u001b[0;32m/mnt/vdb1/Development/murilo/RelNetCare/src/modelling.py:71\u001b[0m, in \u001b[0;36mRelationModel.preprocess_data\u001b[0;34m(self, df, mode)\u001b[0m\n\u001b[1;32m     58\u001b[0m \u001b[39mdef\u001b[39;00m \u001b[39mpreprocess_data\u001b[39m(\u001b[39mself\u001b[39m, df, mode\u001b[39m=\u001b[39m\u001b[39m'\u001b[39m\u001b[39mtrain\u001b[39m\u001b[39m'\u001b[39m):\n\u001b[1;32m     59\u001b[0m     spacy_entity_map \u001b[39m=\u001b[39m {\n\u001b[1;32m     60\u001b[0m         \u001b[39m\"\u001b[39m\u001b[39mPER\u001b[39m\u001b[39m\"\u001b[39m: \u001b[39m\"\u001b[39m\u001b[39mPERSON\u001b[39m\u001b[39m\"\u001b[39m,\n\u001b[1;32m     61\u001b[0m         \u001b[39m\"\u001b[39m\u001b[39mSTRING\u001b[39m\u001b[39m\"\u001b[39m: \u001b[39m\"\u001b[39m\u001b[39mPRODUCT\u001b[39m\u001b[39m\"\u001b[39m,  \u001b[39m# Approximating common nouns to PRODUCT, @todo: use NOUN strategy.\u001b[39;00m\n\u001b[0;32m   (...)\u001b[0m\n\u001b[1;32m     68\u001b[0m         \u001b[39m\"\u001b[39m\u001b[39mDATE\u001b[39m\u001b[39m\"\u001b[39m: \u001b[39m\"\u001b[39m\u001b[39mQUANTITY\u001b[39m\u001b[39m\"\u001b[39m\n\u001b[1;32m     69\u001b[0m     }\n\u001b[0;32m---> 71\u001b[0m     df_relations \u001b[39m=\u001b[39m df\u001b[39m.\u001b[39;49mexplode(\u001b[39m'\u001b[39;49m\u001b[39mRelations\u001b[39;49m\u001b[39m'\u001b[39;49m)\u001b[39m.\u001b[39;49mapply(\n\u001b[1;32m     72\u001b[0m         \u001b[39mlambda\u001b[39;49;00m r: {\u001b[39m*\u001b[39;49m\u001b[39m*\u001b[39;49m{\u001b[39m\"\u001b[39;49m\u001b[39mOrigin\u001b[39;49m\u001b[39m\"\u001b[39;49m: r[\u001b[39m'\u001b[39;49m\u001b[39mOrigin\u001b[39;49m\u001b[39m'\u001b[39;49m], \u001b[39m'\u001b[39;49m\u001b[39mDialogue\u001b[39;49m\u001b[39m'\u001b[39;49m: r[\u001b[39m'\u001b[39;49m\u001b[39mDialogue\u001b[39;49m\u001b[39m'\u001b[39;49m]}, \u001b[39m*\u001b[39;49m\u001b[39m*\u001b[39;49mr[\u001b[39m'\u001b[39;49m\u001b[39mRelations\u001b[39;49m\u001b[39m'\u001b[39;49m]}, axis\u001b[39m=\u001b[39;49m\u001b[39m1\u001b[39;49m)\n\u001b[1;32m     73\u001b[0m     df_relations \u001b[39m=\u001b[39m pd\u001b[39m.\u001b[39mjson_normalize(df_relations)\n\u001b[1;32m     75\u001b[0m     mask \u001b[39m=\u001b[39m df_relations\u001b[39m.\u001b[39mmin_words_distance\u001b[39m.\u001b[39misna()\n",
      "File \u001b[0;32m~/.local/lib/python3.8/site-packages/pandas/core/frame.py:9423\u001b[0m, in \u001b[0;36mDataFrame.apply\u001b[0;34m(self, func, axis, raw, result_type, args, **kwargs)\u001b[0m\n\u001b[1;32m   9412\u001b[0m \u001b[39mfrom\u001b[39;00m \u001b[39mpandas\u001b[39;00m\u001b[39m.\u001b[39;00m\u001b[39mcore\u001b[39;00m\u001b[39m.\u001b[39;00m\u001b[39mapply\u001b[39;00m \u001b[39mimport\u001b[39;00m frame_apply\n\u001b[1;32m   9414\u001b[0m op \u001b[39m=\u001b[39m frame_apply(\n\u001b[1;32m   9415\u001b[0m     \u001b[39mself\u001b[39m,\n\u001b[1;32m   9416\u001b[0m     func\u001b[39m=\u001b[39mfunc,\n\u001b[0;32m   (...)\u001b[0m\n\u001b[1;32m   9421\u001b[0m     kwargs\u001b[39m=\u001b[39mkwargs,\n\u001b[1;32m   9422\u001b[0m )\n\u001b[0;32m-> 9423\u001b[0m \u001b[39mreturn\u001b[39;00m op\u001b[39m.\u001b[39;49mapply()\u001b[39m.\u001b[39m__finalize__(\u001b[39mself\u001b[39m, method\u001b[39m=\u001b[39m\u001b[39m\"\u001b[39m\u001b[39mapply\u001b[39m\u001b[39m\"\u001b[39m)\n",
      "File \u001b[0;32m~/.local/lib/python3.8/site-packages/pandas/core/apply.py:678\u001b[0m, in \u001b[0;36mFrameApply.apply\u001b[0;34m(self)\u001b[0m\n\u001b[1;32m    675\u001b[0m \u001b[39melif\u001b[39;00m \u001b[39mself\u001b[39m\u001b[39m.\u001b[39mraw:\n\u001b[1;32m    676\u001b[0m     \u001b[39mreturn\u001b[39;00m \u001b[39mself\u001b[39m\u001b[39m.\u001b[39mapply_raw()\n\u001b[0;32m--> 678\u001b[0m \u001b[39mreturn\u001b[39;00m \u001b[39mself\u001b[39;49m\u001b[39m.\u001b[39;49mapply_standard()\n",
      "File \u001b[0;32m~/.local/lib/python3.8/site-packages/pandas/core/apply.py:798\u001b[0m, in \u001b[0;36mFrameApply.apply_standard\u001b[0;34m(self)\u001b[0m\n\u001b[1;32m    797\u001b[0m \u001b[39mdef\u001b[39;00m \u001b[39mapply_standard\u001b[39m(\u001b[39mself\u001b[39m):\n\u001b[0;32m--> 798\u001b[0m     results, res_index \u001b[39m=\u001b[39m \u001b[39mself\u001b[39;49m\u001b[39m.\u001b[39;49mapply_series_generator()\n\u001b[1;32m    800\u001b[0m     \u001b[39m# wrap results\u001b[39;00m\n\u001b[1;32m    801\u001b[0m     \u001b[39mreturn\u001b[39;00m \u001b[39mself\u001b[39m\u001b[39m.\u001b[39mwrap_results(results, res_index)\n",
      "File \u001b[0;32m~/.local/lib/python3.8/site-packages/pandas/core/apply.py:814\u001b[0m, in \u001b[0;36mFrameApply.apply_series_generator\u001b[0;34m(self)\u001b[0m\n\u001b[1;32m    811\u001b[0m \u001b[39mwith\u001b[39;00m option_context(\u001b[39m\"\u001b[39m\u001b[39mmode.chained_assignment\u001b[39m\u001b[39m\"\u001b[39m, \u001b[39mNone\u001b[39;00m):\n\u001b[1;32m    812\u001b[0m     \u001b[39mfor\u001b[39;00m i, v \u001b[39min\u001b[39;00m \u001b[39menumerate\u001b[39m(series_gen):\n\u001b[1;32m    813\u001b[0m         \u001b[39m# ignore SettingWithCopy here in case the user mutates\u001b[39;00m\n\u001b[0;32m--> 814\u001b[0m         results[i] \u001b[39m=\u001b[39m \u001b[39mself\u001b[39;49m\u001b[39m.\u001b[39;49mf(v)\n\u001b[1;32m    815\u001b[0m         \u001b[39mif\u001b[39;00m \u001b[39misinstance\u001b[39m(results[i], ABCSeries):\n\u001b[1;32m    816\u001b[0m             \u001b[39m# If we have a view on v, we need to make a copy because\u001b[39;00m\n\u001b[1;32m    817\u001b[0m             \u001b[39m#  series_generator will swap out the underlying data\u001b[39;00m\n\u001b[1;32m    818\u001b[0m             results[i] \u001b[39m=\u001b[39m results[i]\u001b[39m.\u001b[39mcopy(deep\u001b[39m=\u001b[39m\u001b[39mFalse\u001b[39;00m)\n",
      "File \u001b[0;32m/mnt/vdb1/Development/murilo/RelNetCare/src/modelling.py:72\u001b[0m, in \u001b[0;36mRelationModel.preprocess_data.<locals>.<lambda>\u001b[0;34m(r)\u001b[0m\n\u001b[1;32m     58\u001b[0m \u001b[39mdef\u001b[39;00m \u001b[39mpreprocess_data\u001b[39m(\u001b[39mself\u001b[39m, df, mode\u001b[39m=\u001b[39m\u001b[39m'\u001b[39m\u001b[39mtrain\u001b[39m\u001b[39m'\u001b[39m):\n\u001b[1;32m     59\u001b[0m     spacy_entity_map \u001b[39m=\u001b[39m {\n\u001b[1;32m     60\u001b[0m         \u001b[39m\"\u001b[39m\u001b[39mPER\u001b[39m\u001b[39m\"\u001b[39m: \u001b[39m\"\u001b[39m\u001b[39mPERSON\u001b[39m\u001b[39m\"\u001b[39m,\n\u001b[1;32m     61\u001b[0m         \u001b[39m\"\u001b[39m\u001b[39mSTRING\u001b[39m\u001b[39m\"\u001b[39m: \u001b[39m\"\u001b[39m\u001b[39mPRODUCT\u001b[39m\u001b[39m\"\u001b[39m,  \u001b[39m# Approximating common nouns to PRODUCT, @todo: use NOUN strategy.\u001b[39;00m\n\u001b[0;32m   (...)\u001b[0m\n\u001b[1;32m     68\u001b[0m         \u001b[39m\"\u001b[39m\u001b[39mDATE\u001b[39m\u001b[39m\"\u001b[39m: \u001b[39m\"\u001b[39m\u001b[39mQUANTITY\u001b[39m\u001b[39m\"\u001b[39m\n\u001b[1;32m     69\u001b[0m     }\n\u001b[1;32m     71\u001b[0m     df_relations \u001b[39m=\u001b[39m df\u001b[39m.\u001b[39mexplode(\u001b[39m'\u001b[39m\u001b[39mRelations\u001b[39m\u001b[39m'\u001b[39m)\u001b[39m.\u001b[39mapply(\n\u001b[0;32m---> 72\u001b[0m         \u001b[39mlambda\u001b[39;00m r: {\u001b[39m*\u001b[39m\u001b[39m*\u001b[39m{\u001b[39m\"\u001b[39m\u001b[39mOrigin\u001b[39m\u001b[39m\"\u001b[39m: r[\u001b[39m'\u001b[39m\u001b[39mOrigin\u001b[39m\u001b[39m'\u001b[39m], \u001b[39m'\u001b[39m\u001b[39mDialogue\u001b[39m\u001b[39m'\u001b[39m: r[\u001b[39m'\u001b[39m\u001b[39mDialogue\u001b[39m\u001b[39m'\u001b[39m]}, \u001b[39m*\u001b[39m\u001b[39m*\u001b[39mr[\u001b[39m'\u001b[39m\u001b[39mRelations\u001b[39m\u001b[39m'\u001b[39m]}, axis\u001b[39m=\u001b[39m\u001b[39m1\u001b[39m)\n\u001b[1;32m     73\u001b[0m     df_relations \u001b[39m=\u001b[39m pd\u001b[39m.\u001b[39mjson_normalize(df_relations)\n\u001b[1;32m     75\u001b[0m     mask \u001b[39m=\u001b[39m df_relations\u001b[39m.\u001b[39mmin_words_distance\u001b[39m.\u001b[39misna()\n",
      "\u001b[0;31mTypeError\u001b[0m: 'float' object is not a mapping"
     ]
    }
   ],
   "source": [
    "from src.infering import CustomTripletExtractor\n",
    "\n",
    "\n",
    "dialogue = [\n",
    "    \"User: My cousin landed a job at SpaceX!\",\n",
    "    \"Agent: That's amazing! What role is your cousin taking on?\",\n",
    "    \"User: He'll be working as a mechanical engineer in their rocket development team.\",\n",
    "    \"Agent: That's a remarkable opportunity! I'm sure he'll do great things there.\",\n",
    "    \"User: Yes, our whole family is proud of him!\",\n",
    "]\n",
    "\n",
    "extractor = CustomTripletExtractor(apply_coref_resolution=False)\n",
    "triplets = extractor.extract_triplets(dialogue)\n",
    "extractor.dump_to_neo4j(dialogue,triplets)"
   ]
  },
  {
   "cell_type": "code",
   "execution_count": null,
   "metadata": {},
   "outputs": [],
   "source": [
    "[\n",
    "    \"User: My cousin landed a job at SpaceX!\",\n",
    "    \"Agent: That's amazing! What role is your cousin taking on?\",\n",
    "    \"User: He'll be working as a mechanical engineer in their rocket development team.\",\n",
    "    \"Agent: That's a remarkable opportunity! I'm sure he'll do great things there.\",\n",
    "    \"User: Yes, our whole family is proud of him!\"\n",
    "]"
   ]
  },
  {
   "cell_type": "code",
   "execution_count": 5,
   "metadata": {},
   "outputs": [
    {
     "ename": "NameError",
     "evalue": "name 'triplets' is not defined",
     "output_type": "error",
     "traceback": [
      "\u001b[0;31m---------------------------------------------------------------------------\u001b[0m",
      "\u001b[0;31mNameError\u001b[0m                                 Traceback (most recent call last)",
      "Cell \u001b[0;32mIn[5], line 1\u001b[0m\n\u001b[0;32m----> 1\u001b[0m triplets\n",
      "\u001b[0;31mNameError\u001b[0m: name 'triplets' is not defined"
     ]
    }
   ],
   "source": [
    "triplets"
   ]
  }
 ],
 "metadata": {
  "kernelspec": {
   "display_name": "relnet",
   "language": "python",
   "name": "python3"
  },
  "language_info": {
   "codemirror_mode": {
    "name": "ipython",
    "version": 3
   },
   "file_extension": ".py",
   "mimetype": "text/x-python",
   "name": "python",
   "nbconvert_exporter": "python",
   "pygments_lexer": "ipython3",
   "version": "3.8.16"
  },
  "orig_nbformat": 4
 },
 "nbformat": 4,
 "nbformat_minor": 2
}
