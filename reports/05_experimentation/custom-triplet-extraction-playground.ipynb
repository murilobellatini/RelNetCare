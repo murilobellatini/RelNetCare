{
 "cells": [
  {
   "cell_type": "code",
   "execution_count": 2,
   "metadata": {},
   "outputs": [
    {
     "name": "stdout",
     "output_type": "stream",
     "text": [
      "The autoreload extension is already loaded. To reload it, use:\n",
      "  %reload_ext autoreload\n"
     ]
    }
   ],
   "source": [
    "%load_ext autoreload\n",
    "%autoreload 2"
   ]
  },
  {
   "cell_type": "code",
   "execution_count": 9,
   "metadata": {},
   "outputs": [
    {
     "name": "stderr",
     "output_type": "stream",
     "text": [
      "[nltk_data] Downloading package stopwords to /home/ubuntu/nltk_data...\n",
      "[nltk_data]   Package stopwords is already up-to-date!\n"
     ]
    },
    {
     "name": "stdout",
     "output_type": "stream",
     "text": [
      "Initializing CustomTripletExtractor...\n"
     ]
    },
    {
     "name": "stderr",
     "output_type": "stream",
     "text": [
      "[nltk_data] Downloading package punkt to /home/ubuntu/nltk_data...\n",
      "[nltk_data]   Package punkt is already up-to-date!\n"
     ]
    },
    {
     "name": "stdout",
     "output_type": "stream",
     "text": [
      "CustomTripletExtractor init successfully concluded!\n",
      "Extracting triplets...\n",
      "Entity extraction completed.\n"
     ]
    },
    {
     "name": "stderr",
     "output_type": "stream",
     "text": [
      "100%|██████████| 1/1 [00:00<00:00, 37.19it/s]\n"
     ]
    },
    {
     "name": "stdout",
     "output_type": "stream",
     "text": [
      "Dialogues enriched.\n",
      "Predicted labels obtained.\n",
      "Relation inference completed.\n",
      "Dumping triplets to Neo4j...\n",
      "Triplets dumped to Neo4j successfully.\n"
     ]
    }
   ],
   "source": [
    "from src.infering import CustomTripletExtractor\n",
    "\n",
    "\n",
    "dialogue = [\n",
    "    \"User: My cousin landed a job at SpaceX!\",\n",
    "    \"Agent: That's amazing! What role is your cousin taking on?\",\n",
    "    \"User: He'll be working as a mechanical engineer in their rocket development team.\",\n",
    "    \"Agent: That's a remarkable opportunity! I'm sure he'll do great things there.\",\n",
    "    \"User: Yes, our whole family is proud of him!\",\n",
    "]\n",
    "\n",
    "extractor = CustomTripletExtractor(apply_coref_resolution=False)\n",
    "triplets = extractor.extract_triplets(dialogue)\n",
    "extractor.dump_to_neo4j(dialogue,triplets)"
   ]
  },
  {
   "cell_type": "code",
   "execution_count": null,
   "metadata": {},
   "outputs": [],
   "source": [
    "[\n",
    "    \"User: My cousin landed a job at SpaceX!\",\n",
    "    \"Agent: That's amazing! What role is your cousin taking on?\",\n",
    "    \"User: He'll be working as a mechanical engineer in their rocket development team.\",\n",
    "    \"Agent: That's a remarkable opportunity! I'm sure he'll do great things there.\",\n",
    "    \"User: Yes, our whole family is proud of him!\"\n",
    "]"
   ]
  },
  {
   "cell_type": "code",
   "execution_count": 5,
   "metadata": {},
   "outputs": [
    {
     "ename": "NameError",
     "evalue": "name 'triplets' is not defined",
     "output_type": "error",
     "traceback": [
      "\u001b[0;31m---------------------------------------------------------------------------\u001b[0m",
      "\u001b[0;31mNameError\u001b[0m                                 Traceback (most recent call last)",
      "Cell \u001b[0;32mIn[5], line 1\u001b[0m\n\u001b[0;32m----> 1\u001b[0m triplets\n",
      "\u001b[0;31mNameError\u001b[0m: name 'triplets' is not defined"
     ]
    }
   ],
   "source": [
    "triplets"
   ]
  }
 ],
 "metadata": {
  "kernelspec": {
   "display_name": "relnet",
   "language": "python",
   "name": "python3"
  },
  "language_info": {
   "codemirror_mode": {
    "name": "ipython",
    "version": 3
   },
   "file_extension": ".py",
   "mimetype": "text/x-python",
   "name": "python",
   "nbconvert_exporter": "python",
   "pygments_lexer": "ipython3",
   "version": "3.8.16"
  },
  "orig_nbformat": 4
 },
 "nbformat": 4,
 "nbformat_minor": 2
}
