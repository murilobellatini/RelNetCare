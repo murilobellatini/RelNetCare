{
 "cells": [
  {
   "cell_type": "code",
   "execution_count": 1,
   "id": "6a89b2e8-39bc-4996-8556-fa8e460afcf5",
   "metadata": {},
   "outputs": [],
   "source": [
    "%load_ext autoreload\n",
    "%autoreload 2"
   ]
  },
  {
   "cell_type": "markdown",
   "id": "ef7d3ba5",
   "metadata": {},
   "source": [
    "# 🚨 Disclaimer:  Training Procedure Deprecated 🚨\n",
    "\n",
    "Use `scripts/training/train-xgboost-for-relation-identification.py` instead."
   ]
  },
  {
   "cell_type": "markdown",
   "id": "e768e568-a2e6-448c-801e-a044a7f7169f",
   "metadata": {},
   "source": [
    "# Train XGBoost for Relation Identification\n",
    "\n",
    "## `Experiment Goal`\n",
    "\n",
    "1. The goal of this experiment is to test the effectiveness of enriched features in solving the task of relation identification.\n",
    "2. We will train an XGBoost model using these features and evaluate its performance.\n",
    "\n",
    "\n",
    "\n",
    "\n"
   ]
  },
  {
   "cell_type": "code",
   "execution_count": 8,
   "id": "bc50534d-46d0-4f5b-be38-fd6c23be1b28",
   "metadata": {},
   "outputs": [
    {
     "data": {
      "text/html": [
       "<div>\n",
       "<style scoped>\n",
       "    .dataframe tbody tr th:only-of-type {\n",
       "        vertical-align: middle;\n",
       "    }\n",
       "\n",
       "    .dataframe tbody tr th {\n",
       "        vertical-align: top;\n",
       "    }\n",
       "\n",
       "    .dataframe thead th {\n",
       "        text-align: right;\n",
       "    }\n",
       "</style>\n",
       "<table border=\"1\" class=\"dataframe\">\n",
       "  <thead>\n",
       "    <tr style=\"text-align: right;\">\n",
       "      <th></th>\n",
       "      <th>0</th>\n",
       "      <th>1</th>\n",
       "      <th>2</th>\n",
       "    </tr>\n",
       "  </thead>\n",
       "  <tbody>\n",
       "    <tr>\n",
       "      <th>Origin</th>\n",
       "      <td>train</td>\n",
       "      <td>train</td>\n",
       "      <td>train</td>\n",
       "    </tr>\n",
       "    <tr>\n",
       "      <th>Dialogue</th>\n",
       "      <td>[Speaker 1: It's been an hour and not one of m...</td>\n",
       "      <td>[Speaker 1: It's been an hour and not one of m...</td>\n",
       "      <td>[Speaker 1: It's been an hour and not one of m...</td>\n",
       "    </tr>\n",
       "    <tr>\n",
       "      <th>x</th>\n",
       "      <td>Speaker 2</td>\n",
       "      <td>Speaker 2</td>\n",
       "      <td>Speaker 4</td>\n",
       "    </tr>\n",
       "    <tr>\n",
       "      <th>y</th>\n",
       "      <td>Chandler Bing</td>\n",
       "      <td>Speaker 4</td>\n",
       "      <td>Tom Gordon</td>\n",
       "    </tr>\n",
       "    <tr>\n",
       "      <th>rid</th>\n",
       "      <td>[2]</td>\n",
       "      <td>[2]</td>\n",
       "      <td>[2]</td>\n",
       "    </tr>\n",
       "    <tr>\n",
       "      <th>r</th>\n",
       "      <td>[with_relation]</td>\n",
       "      <td>[with_relation]</td>\n",
       "      <td>[with_relation]</td>\n",
       "    </tr>\n",
       "    <tr>\n",
       "      <th>t</th>\n",
       "      <td>[]</td>\n",
       "      <td>[]</td>\n",
       "      <td>[]</td>\n",
       "    </tr>\n",
       "    <tr>\n",
       "      <th>x_type</th>\n",
       "      <td>PER</td>\n",
       "      <td>PER</td>\n",
       "      <td>PER</td>\n",
       "    </tr>\n",
       "    <tr>\n",
       "      <th>y_type</th>\n",
       "      <td>PER</td>\n",
       "      <td>PER</td>\n",
       "      <td>PER</td>\n",
       "    </tr>\n",
       "    <tr>\n",
       "      <th>x_token_span</th>\n",
       "      <td>[35, 37]</td>\n",
       "      <td>[35, 37]</td>\n",
       "      <td>[88, 90]</td>\n",
       "    </tr>\n",
       "    <tr>\n",
       "      <th>y_token_span</th>\n",
       "      <td>[95, 97]</td>\n",
       "      <td>[88, 90]</td>\n",
       "      <td>[102, 104]</td>\n",
       "    </tr>\n",
       "    <tr>\n",
       "      <th>x_char_span</th>\n",
       "      <td>[149, 158]</td>\n",
       "      <td>[149, 158]</td>\n",
       "      <td>[333, 342]</td>\n",
       "    </tr>\n",
       "    <tr>\n",
       "      <th>y_char_span</th>\n",
       "      <td>[355, 368]</td>\n",
       "      <td>[333, 342]</td>\n",
       "      <td>[381, 391]</td>\n",
       "    </tr>\n",
       "    <tr>\n",
       "      <th>min_words_distance</th>\n",
       "      <td>58</td>\n",
       "      <td>51</td>\n",
       "      <td>12</td>\n",
       "    </tr>\n",
       "    <tr>\n",
       "      <th>min_words_distance_pct</th>\n",
       "      <td>0.050699</td>\n",
       "      <td>0.04458</td>\n",
       "      <td>0.01049</td>\n",
       "    </tr>\n",
       "    <tr>\n",
       "      <th>min_turn_distance</th>\n",
       "      <td>1.0</td>\n",
       "      <td>1.0</td>\n",
       "      <td>0.0</td>\n",
       "    </tr>\n",
       "    <tr>\n",
       "      <th>min_turn_distance_pct</th>\n",
       "      <td>0.000874</td>\n",
       "      <td>0.000874</td>\n",
       "      <td>0.0</td>\n",
       "    </tr>\n",
       "    <tr>\n",
       "      <th>spacy_features.x_pos</th>\n",
       "      <td>PROPN</td>\n",
       "      <td>PROPN</td>\n",
       "      <td>PROPN</td>\n",
       "    </tr>\n",
       "    <tr>\n",
       "      <th>spacy_features.x_dep</th>\n",
       "      <td>npadvmod</td>\n",
       "      <td>npadvmod</td>\n",
       "      <td>npadvmod</td>\n",
       "    </tr>\n",
       "    <tr>\n",
       "      <th>spacy_features.x_tag</th>\n",
       "      <td>NNP</td>\n",
       "      <td>NNP</td>\n",
       "      <td>NNP</td>\n",
       "    </tr>\n",
       "    <tr>\n",
       "      <th>spacy_features.y_pos</th>\n",
       "      <td>PROPN</td>\n",
       "      <td>NUM</td>\n",
       "      <td>PROPN</td>\n",
       "    </tr>\n",
       "    <tr>\n",
       "      <th>spacy_features.y_dep</th>\n",
       "      <td>attr</td>\n",
       "      <td>nummod</td>\n",
       "      <td>attr</td>\n",
       "    </tr>\n",
       "    <tr>\n",
       "      <th>spacy_features.y_tag</th>\n",
       "      <td>NNP</td>\n",
       "      <td>CD</td>\n",
       "      <td>NNP</td>\n",
       "    </tr>\n",
       "  </tbody>\n",
       "</table>\n",
       "</div>"
      ],
      "text/plain": [
       "                                                                        0  \\\n",
       "Origin                                                              train   \n",
       "Dialogue                [Speaker 1: It's been an hour and not one of m...   \n",
       "x                                                               Speaker 2   \n",
       "y                                                           Chandler Bing   \n",
       "rid                                                                   [2]   \n",
       "r                                                         [with_relation]   \n",
       "t                                                                      []   \n",
       "x_type                                                                PER   \n",
       "y_type                                                                PER   \n",
       "x_token_span                                                     [35, 37]   \n",
       "y_token_span                                                     [95, 97]   \n",
       "x_char_span                                                    [149, 158]   \n",
       "y_char_span                                                    [355, 368]   \n",
       "min_words_distance                                                     58   \n",
       "min_words_distance_pct                                           0.050699   \n",
       "min_turn_distance                                                     1.0   \n",
       "min_turn_distance_pct                                            0.000874   \n",
       "spacy_features.x_pos                                                PROPN   \n",
       "spacy_features.x_dep                                             npadvmod   \n",
       "spacy_features.x_tag                                                  NNP   \n",
       "spacy_features.y_pos                                                PROPN   \n",
       "spacy_features.y_dep                                                 attr   \n",
       "spacy_features.y_tag                                                  NNP   \n",
       "\n",
       "                                                                        1  \\\n",
       "Origin                                                              train   \n",
       "Dialogue                [Speaker 1: It's been an hour and not one of m...   \n",
       "x                                                               Speaker 2   \n",
       "y                                                               Speaker 4   \n",
       "rid                                                                   [2]   \n",
       "r                                                         [with_relation]   \n",
       "t                                                                      []   \n",
       "x_type                                                                PER   \n",
       "y_type                                                                PER   \n",
       "x_token_span                                                     [35, 37]   \n",
       "y_token_span                                                     [88, 90]   \n",
       "x_char_span                                                    [149, 158]   \n",
       "y_char_span                                                    [333, 342]   \n",
       "min_words_distance                                                     51   \n",
       "min_words_distance_pct                                            0.04458   \n",
       "min_turn_distance                                                     1.0   \n",
       "min_turn_distance_pct                                            0.000874   \n",
       "spacy_features.x_pos                                                PROPN   \n",
       "spacy_features.x_dep                                             npadvmod   \n",
       "spacy_features.x_tag                                                  NNP   \n",
       "spacy_features.y_pos                                                  NUM   \n",
       "spacy_features.y_dep                                               nummod   \n",
       "spacy_features.y_tag                                                   CD   \n",
       "\n",
       "                                                                        2  \n",
       "Origin                                                              train  \n",
       "Dialogue                [Speaker 1: It's been an hour and not one of m...  \n",
       "x                                                               Speaker 4  \n",
       "y                                                              Tom Gordon  \n",
       "rid                                                                   [2]  \n",
       "r                                                         [with_relation]  \n",
       "t                                                                      []  \n",
       "x_type                                                                PER  \n",
       "y_type                                                                PER  \n",
       "x_token_span                                                     [88, 90]  \n",
       "y_token_span                                                   [102, 104]  \n",
       "x_char_span                                                    [333, 342]  \n",
       "y_char_span                                                    [381, 391]  \n",
       "min_words_distance                                                     12  \n",
       "min_words_distance_pct                                            0.01049  \n",
       "min_turn_distance                                                     0.0  \n",
       "min_turn_distance_pct                                                 0.0  \n",
       "spacy_features.x_pos                                                PROPN  \n",
       "spacy_features.x_dep                                             npadvmod  \n",
       "spacy_features.x_tag                                                  NNP  \n",
       "spacy_features.y_pos                                                PROPN  \n",
       "spacy_features.y_dep                                                 attr  \n",
       "spacy_features.y_tag                                                  NNP  "
      ]
     },
     "execution_count": 8,
     "metadata": {},
     "output_type": "execute_result"
    }
   ],
   "source": [
    "# Import dependecies\n",
    "import wandb\n",
    "import numpy as np\n",
    "import pandas as pd\n",
    "import xgboost as xgb\n",
    "from sklearn.metrics import f1_score, classification_report, accuracy_score\n",
    "from sklearn.feature_extraction.text import TfidfVectorizer\n",
    "from sklearn.preprocessing import LabelEncoder, StandardScaler\n",
    "\n",
    "from src.utils import to_camel_case\n",
    "from src.paths import LOCAL_PROCESSED_DATA_PATH\n",
    "from src.processing.dialogre_processing import DialogREDatasetTransformer\n",
    "from src.processing.dataframe_utils import get_counts_and_percentages\n",
    "\n",
    "# Set add_dialogue_as_features to True if you want to include dialogue as features\n",
    "add_dialogue_as_features = True\n",
    "epoch_cnt = 20\n",
    "data_dir = 'dialog-re-2cls-undersampled-enriched'\n",
    "\n",
    "# Load data and transform it using DialogREDatasetTransformer\n",
    "dt = DialogREDatasetTransformer(LOCAL_PROCESSED_DATA_PATH / data_dir)\n",
    "df = dt.load_data_to_dataframe()\n",
    "\n",
    "# Explode Relations column and normalize the resulting JSON data\n",
    "df_relations = df.explode('Relations').apply(lambda r: {**{\"Origin\": r['Origin'], 'Dialogue': r['Dialogue']}, **r['Relations']}, axis=1)\n",
    "df_relations = pd.json_normalize(df_relations)\n",
    "\n",
    "# Define XGBoost parameters\n",
    "xgb_params = {\n",
    "    'eta': 0.5,\n",
    "    'max_depth': 3,\n",
    "    'objective': 'multi:softprob',\n",
    "    'num_class': df_relations['r'].value_counts().shape[0]\n",
    "}\n",
    "\n",
    "# Display the first 3 rows of the transformed data\n",
    "df_relations.head(3).T"
   ]
  },
  {
   "cell_type": "code",
   "execution_count": 9,
   "id": "4b1f2f71-6f98-42f4-82c3-29a8ffccfbf5",
   "metadata": {},
   "outputs": [
    {
     "data": {
      "text/html": [
       "<div>\n",
       "<style scoped>\n",
       "    .dataframe tbody tr th:only-of-type {\n",
       "        vertical-align: middle;\n",
       "    }\n",
       "\n",
       "    .dataframe tbody tr th {\n",
       "        vertical-align: top;\n",
       "    }\n",
       "\n",
       "    .dataframe thead th {\n",
       "        text-align: right;\n",
       "    }\n",
       "</style>\n",
       "<table border=\"1\" class=\"dataframe\">\n",
       "  <thead>\n",
       "    <tr style=\"text-align: right;\">\n",
       "      <th></th>\n",
       "      <th>Counts</th>\n",
       "      <th>%</th>\n",
       "    </tr>\n",
       "    <tr>\n",
       "      <th>r</th>\n",
       "      <th></th>\n",
       "      <th></th>\n",
       "    </tr>\n",
       "  </thead>\n",
       "  <tbody>\n",
       "    <tr>\n",
       "      <th>no_relation</th>\n",
       "      <td>11282</td>\n",
       "      <td>50.0</td>\n",
       "    </tr>\n",
       "    <tr>\n",
       "      <th>with_relation</th>\n",
       "      <td>11282</td>\n",
       "      <td>50.0</td>\n",
       "    </tr>\n",
       "  </tbody>\n",
       "</table>\n",
       "</div>"
      ],
      "text/plain": [
       "               Counts     %\n",
       "r                          \n",
       "no_relation     11282  50.0\n",
       "with_relation   11282  50.0"
      ]
     },
     "execution_count": 9,
     "metadata": {},
     "output_type": "execute_result"
    }
   ],
   "source": [
    "get_counts_and_percentages(df_relations.explode('r'), ['r'])"
   ]
  },
  {
   "cell_type": "code",
   "execution_count": 10,
   "id": "ef7f4ac2-2cde-449c-9cf2-ba1266fcc6a0",
   "metadata": {},
   "outputs": [
    {
     "data": {
      "text/html": [
       "Finishing last run (ID:jo24fiek) before initializing another..."
      ],
      "text/plain": [
       "<IPython.core.display.HTML object>"
      ]
     },
     "metadata": {},
     "output_type": "display_data"
    },
    {
     "data": {
      "text/html": [
       "Waiting for W&B process to finish... <strong style=\"color:green\">(success).</strong>"
      ],
      "text/plain": [
       "<IPython.core.display.HTML object>"
      ]
     },
     "metadata": {},
     "output_type": "display_data"
    },
    {
     "name": "stderr",
     "output_type": "stream",
     "text": [
      "wandb: WARNING Source type is set to 'repo' but some required information is missing from the environment. A job will not be created from this run. See https://docs.wandb.ai/guides/launch/create-job\n"
     ]
    },
    {
     "data": {
      "application/vnd.jupyter.widget-view+json": {
       "model_id": "585d589e4e14445789644a9c54cca490",
       "version_major": 2,
       "version_minor": 0
      },
      "text/plain": [
       "VBox(children=(Label(value='0.004 MB of 0.018 MB uploaded (0.000 MB deduped)\\r'), FloatProgress(value=0.215917…"
      ]
     },
     "metadata": {},
     "output_type": "display_data"
    },
    {
     "data": {
      "text/html": [
       " View run <strong style=\"color:#cdcd00\">snowy-wildflower-127</strong> at: <a href='https://wandb.ai/mbellatini/RelNetCare/runs/jo24fiek' target=\"_blank\">https://wandb.ai/mbellatini/RelNetCare/runs/jo24fiek</a><br/>Synced 6 W&B file(s), 0 media file(s), 0 artifact file(s) and 0 other file(s)"
      ],
      "text/plain": [
       "<IPython.core.display.HTML object>"
      ]
     },
     "metadata": {},
     "output_type": "display_data"
    },
    {
     "data": {
      "text/html": [
       "Find logs at: <code>./wandb/run-20231022_101406-jo24fiek/logs</code>"
      ],
      "text/plain": [
       "<IPython.core.display.HTML object>"
      ]
     },
     "metadata": {},
     "output_type": "display_data"
    },
    {
     "data": {
      "text/html": [
       "Successfully finished last run (ID:jo24fiek). Initializing new run:<br/>"
      ],
      "text/plain": [
       "<IPython.core.display.HTML object>"
      ]
     },
     "metadata": {},
     "output_type": "display_data"
    },
    {
     "data": {
      "application/vnd.jupyter.widget-view+json": {
       "model_id": "6e732bd91c7240529ef522b2a8ea0ecc",
       "version_major": 2,
       "version_minor": 0
      },
      "text/plain": [
       "VBox(children=(Label(value='Waiting for wandb.init()...\\r'), FloatProgress(value=0.01666951842295627, max=1.0)…"
      ]
     },
     "metadata": {},
     "output_type": "display_data"
    },
    {
     "data": {
      "text/html": [
       "wandb version 0.15.12 is available!  To upgrade, please run:\n",
       " $ pip install wandb --upgrade"
      ],
      "text/plain": [
       "<IPython.core.display.HTML object>"
      ]
     },
     "metadata": {},
     "output_type": "display_data"
    },
    {
     "data": {
      "text/html": [
       "Tracking run with wandb version 0.15.8"
      ],
      "text/plain": [
       "<IPython.core.display.HTML object>"
      ]
     },
     "metadata": {},
     "output_type": "display_data"
    },
    {
     "data": {
      "text/html": [
       "Run data is saved locally in <code>/home/murilo/RelNetCare/reports/03_model_training/wandb/run-20231022_105724-vfwuu1ft</code>"
      ],
      "text/plain": [
       "<IPython.core.display.HTML object>"
      ]
     },
     "metadata": {},
     "output_type": "display_data"
    },
    {
     "data": {
      "text/html": [
       "Syncing run <strong><a href='https://wandb.ai/mbellatini/RelNetCare/runs/vfwuu1ft' target=\"_blank\">glorious-energy-128</a></strong> to <a href='https://wandb.ai/mbellatini/RelNetCare' target=\"_blank\">Weights & Biases</a> (<a href='https://wandb.me/run' target=\"_blank\">docs</a>)<br/>"
      ],
      "text/plain": [
       "<IPython.core.display.HTML object>"
      ]
     },
     "metadata": {},
     "output_type": "display_data"
    },
    {
     "data": {
      "text/html": [
       " View project at <a href='https://wandb.ai/mbellatini/RelNetCare' target=\"_blank\">https://wandb.ai/mbellatini/RelNetCare</a>"
      ],
      "text/plain": [
       "<IPython.core.display.HTML object>"
      ]
     },
     "metadata": {},
     "output_type": "display_data"
    },
    {
     "data": {
      "text/html": [
       " View run at <a href='https://wandb.ai/mbellatini/RelNetCare/runs/vfwuu1ft' target=\"_blank\">https://wandb.ai/mbellatini/RelNetCare/runs/vfwuu1ft</a>"
      ],
      "text/plain": [
       "<IPython.core.display.HTML object>"
      ]
     },
     "metadata": {},
     "output_type": "display_data"
    },
    {
     "name": "stdout",
     "output_type": "stream",
     "text": [
      "[0]\ttrain-mlogloss:0.63201\teval-mlogloss:0.63694\n",
      "[1]\ttrain-mlogloss:0.60974\teval-mlogloss:0.61672\n",
      "[2]\ttrain-mlogloss:0.59484\teval-mlogloss:0.60486\n",
      "[3]\ttrain-mlogloss:0.58809\teval-mlogloss:0.60169\n",
      "[4]\ttrain-mlogloss:0.58262\teval-mlogloss:0.60203\n",
      "[5]\ttrain-mlogloss:0.57600\teval-mlogloss:0.59964\n",
      "[6]\ttrain-mlogloss:0.56837\teval-mlogloss:0.59417\n",
      "[7]\ttrain-mlogloss:0.56541\teval-mlogloss:0.59297\n",
      "[8]\ttrain-mlogloss:0.56289\teval-mlogloss:0.59291\n",
      "[9]\ttrain-mlogloss:0.55988\teval-mlogloss:0.59366\n",
      "[10]\ttrain-mlogloss:0.55765\teval-mlogloss:0.59546\n",
      "[11]\ttrain-mlogloss:0.55589\teval-mlogloss:0.59635\n",
      "[12]\ttrain-mlogloss:0.55249\teval-mlogloss:0.59529\n",
      "[13]\ttrain-mlogloss:0.55081\teval-mlogloss:0.59667\n",
      "[14]\ttrain-mlogloss:0.54880\teval-mlogloss:0.59917\n",
      "[15]\ttrain-mlogloss:0.54689\teval-mlogloss:0.59856\n",
      "[16]\ttrain-mlogloss:0.54536\teval-mlogloss:0.59904\n",
      "[17]\ttrain-mlogloss:0.54328\teval-mlogloss:0.60051\n",
      "[18]\ttrain-mlogloss:0.54235\teval-mlogloss:0.60147\n",
      "[19]\ttrain-mlogloss:0.54051\teval-mlogloss:0.60158\n"
     ]
    },
    {
     "data": {
      "text/html": [
       "Waiting for W&B process to finish... <strong style=\"color:green\">(success).</strong>"
      ],
      "text/plain": [
       "<IPython.core.display.HTML object>"
      ]
     },
     "metadata": {},
     "output_type": "display_data"
    },
    {
     "name": "stderr",
     "output_type": "stream",
     "text": [
      "wandb: WARNING Source type is set to 'repo' but some required information is missing from the environment. A job will not be created from this run. See https://docs.wandb.ai/guides/launch/create-job\n"
     ]
    },
    {
     "data": {
      "application/vnd.jupyter.widget-view+json": {
       "model_id": "1ed74a833f0346639fd54e4601590b72",
       "version_major": 2,
       "version_minor": 0
      },
      "text/plain": [
       "VBox(children=(Label(value='0.003 MB of 0.004 MB uploaded (0.000 MB deduped)\\r'), FloatProgress(value=0.763736…"
      ]
     },
     "metadata": {},
     "output_type": "display_data"
    },
    {
     "data": {
      "text/html": [
       "<style>\n",
       "    table.wandb td:nth-child(1) { padding: 0 10px; text-align: left ; width: auto;} td:nth-child(2) {text-align: left ; width: 100%}\n",
       "    .wandb-row { display: flex; flex-direction: row; flex-wrap: wrap; justify-content: flex-start; width: 100% }\n",
       "    .wandb-col { display: flex; flex-direction: column; flex-basis: 100%; flex: 1; padding: 10px; }\n",
       "    </style>\n",
       "<div class=\"wandb-row\"><div class=\"wandb-col\"><h3>Run history:</h3><br/><table class=\"wandb\"><tr><td>epoch</td><td>▁▁▂▂▂▃▃▄▄▄▅▅▅▆▆▇▇▇██</td></tr><tr><td>eval_loss</td><td>█▅▃▂▂▂▁▁▁▁▁▂▁▂▂▂▂▂▂▂</td></tr><tr><td>f1</td><td>▁▃▃▄▅▅▆▆▇▇▇▇▇▇▇▇▇███</td></tr><tr><td>loss</td><td>█▆▅▅▄▄▃▃▃▂▂▂▂▂▂▁▁▁▁▁</td></tr></table><br/></div><div class=\"wandb-col\"><h3>Run summary:</h3><br/><table class=\"wandb\"><tr><td>epoch</td><td>20</td></tr><tr><td>eval_loss</td><td>0.60158</td></tr><tr><td>f1</td><td>0.71426</td></tr><tr><td>loss</td><td>0.54051</td></tr></table><br/></div></div>"
      ],
      "text/plain": [
       "<IPython.core.display.HTML object>"
      ]
     },
     "metadata": {},
     "output_type": "display_data"
    },
    {
     "data": {
      "text/html": [
       " View run <strong style=\"color:#cdcd00\">glorious-energy-128</strong> at: <a href='https://wandb.ai/mbellatini/RelNetCare/runs/vfwuu1ft' target=\"_blank\">https://wandb.ai/mbellatini/RelNetCare/runs/vfwuu1ft</a><br/>Synced 6 W&B file(s), 0 media file(s), 0 artifact file(s) and 0 other file(s)"
      ],
      "text/plain": [
       "<IPython.core.display.HTML object>"
      ]
     },
     "metadata": {},
     "output_type": "display_data"
    },
    {
     "data": {
      "text/html": [
       "Find logs at: <code>./wandb/run-20231022_105724-vfwuu1ft/logs</code>"
      ],
      "text/plain": [
       "<IPython.core.display.HTML object>"
      ]
     },
     "metadata": {},
     "output_type": "display_data"
    },
    {
     "name": "stdout",
     "output_type": "stream",
     "text": [
      "Test Accuracy = 0.6718273516303073\n",
      "Dev Accuracy = 0.6763619575253924\n",
      "Test Classification Report:\n",
      "              precision    recall  f1-score   support\n",
      "\n",
      "           0       0.74      0.52      0.61      2121\n",
      "           1       0.63      0.82      0.72      2142\n",
      "\n",
      "    accuracy                           0.67      4263\n",
      "   macro avg       0.69      0.67      0.66      4263\n",
      "weighted avg       0.69      0.67      0.66      4263\n",
      "\n",
      "Dev Classification Report:\n",
      "              precision    recall  f1-score   support\n",
      "\n",
      "           0       0.75      0.52      0.61      2149\n",
      "           1       0.64      0.83      0.72      2183\n",
      "\n",
      "    accuracy                           0.68      4332\n",
      "   macro avg       0.69      0.68      0.67      4332\n",
      "weighted avg       0.69      0.68      0.67      4332\n",
      "\n"
     ]
    },
    {
     "data": {
      "text/html": [
       "<div>\n",
       "<style scoped>\n",
       "    .dataframe tbody tr th:only-of-type {\n",
       "        vertical-align: middle;\n",
       "    }\n",
       "\n",
       "    .dataframe tbody tr th {\n",
       "        vertical-align: top;\n",
       "    }\n",
       "\n",
       "    .dataframe thead th {\n",
       "        text-align: right;\n",
       "    }\n",
       "</style>\n",
       "<table border=\"1\" class=\"dataframe\">\n",
       "  <thead>\n",
       "    <tr style=\"text-align: right;\">\n",
       "      <th></th>\n",
       "      <th>Feature</th>\n",
       "      <th>Score</th>\n",
       "    </tr>\n",
       "  </thead>\n",
       "  <tbody>\n",
       "    <tr>\n",
       "      <th>4</th>\n",
       "      <td>min_turn_distance</td>\n",
       "      <td>93.967400</td>\n",
       "    </tr>\n",
       "    <tr>\n",
       "      <th>10</th>\n",
       "      <td>spacy_features.y_tag</td>\n",
       "      <td>56.096607</td>\n",
       "    </tr>\n",
       "    <tr>\n",
       "      <th>0</th>\n",
       "      <td>x_type</td>\n",
       "      <td>31.195114</td>\n",
       "    </tr>\n",
       "    <tr>\n",
       "      <th>1</th>\n",
       "      <td>y_type</td>\n",
       "      <td>26.989944</td>\n",
       "    </tr>\n",
       "    <tr>\n",
       "      <th>14</th>\n",
       "      <td>y_token_span_end</td>\n",
       "      <td>21.638149</td>\n",
       "    </tr>\n",
       "    <tr>\n",
       "      <th>5</th>\n",
       "      <td>min_turn_distance_pct</td>\n",
       "      <td>21.183718</td>\n",
       "    </tr>\n",
       "    <tr>\n",
       "      <th>52</th>\n",
       "      <td>pheebs</td>\n",
       "      <td>19.218647</td>\n",
       "    </tr>\n",
       "    <tr>\n",
       "      <th>58</th>\n",
       "      <td>sex</td>\n",
       "      <td>19.102518</td>\n",
       "    </tr>\n",
       "    <tr>\n",
       "      <th>11</th>\n",
       "      <td>x_token_span_start</td>\n",
       "      <td>18.221525</td>\n",
       "    </tr>\n",
       "    <tr>\n",
       "      <th>31</th>\n",
       "      <td>dude</td>\n",
       "      <td>17.899677</td>\n",
       "    </tr>\n",
       "    <tr>\n",
       "      <th>30</th>\n",
       "      <td>does</td>\n",
       "      <td>15.823689</td>\n",
       "    </tr>\n",
       "    <tr>\n",
       "      <th>7</th>\n",
       "      <td>spacy_features.x_dep</td>\n",
       "      <td>15.684006</td>\n",
       "    </tr>\n",
       "    <tr>\n",
       "      <th>54</th>\n",
       "      <td>rach</td>\n",
       "      <td>15.340854</td>\n",
       "    </tr>\n",
       "    <tr>\n",
       "      <th>35</th>\n",
       "      <td>get</td>\n",
       "      <td>14.738176</td>\n",
       "    </tr>\n",
       "    <tr>\n",
       "      <th>47</th>\n",
       "      <td>loves</td>\n",
       "      <td>14.640741</td>\n",
       "    </tr>\n",
       "    <tr>\n",
       "      <th>37</th>\n",
       "      <td>have</td>\n",
       "      <td>14.379099</td>\n",
       "    </tr>\n",
       "    <tr>\n",
       "      <th>66</th>\n",
       "      <td>the</td>\n",
       "      <td>13.222232</td>\n",
       "    </tr>\n",
       "    <tr>\n",
       "      <th>22</th>\n",
       "      <td>bing</td>\n",
       "      <td>12.506145</td>\n",
       "    </tr>\n",
       "    <tr>\n",
       "      <th>12</th>\n",
       "      <td>x_token_span_end</td>\n",
       "      <td>12.382563</td>\n",
       "    </tr>\n",
       "    <tr>\n",
       "      <th>70</th>\n",
       "      <td>why</td>\n",
       "      <td>11.726900</td>\n",
       "    </tr>\n",
       "  </tbody>\n",
       "</table>\n",
       "</div>"
      ],
      "text/plain": [
       "                  Feature      Score\n",
       "4       min_turn_distance  93.967400\n",
       "10   spacy_features.y_tag  56.096607\n",
       "0                  x_type  31.195114\n",
       "1                  y_type  26.989944\n",
       "14       y_token_span_end  21.638149\n",
       "5   min_turn_distance_pct  21.183718\n",
       "52                 pheebs  19.218647\n",
       "58                    sex  19.102518\n",
       "11     x_token_span_start  18.221525\n",
       "31                   dude  17.899677\n",
       "30                   does  15.823689\n",
       "7    spacy_features.x_dep  15.684006\n",
       "54                   rach  15.340854\n",
       "35                    get  14.738176\n",
       "47                  loves  14.640741\n",
       "37                   have  14.379099\n",
       "66                    the  13.222232\n",
       "22                   bing  12.506145\n",
       "12       x_token_span_end  12.382563\n",
       "70                    why  11.726900"
      ]
     },
     "execution_count": 10,
     "metadata": {},
     "output_type": "execute_result"
    }
   ],
   "source": [
    "# Filter out rows with missing values in the 'min_words_distance' column\n",
    "mask = df_relations.min_words_distance.isna()\n",
    "df_relations[mask].head(20).T\n",
    "\n",
    "# Drop rows with missing values\n",
    "df_relations = df_relations.dropna()\n",
    "\n",
    "# If 'r' is a list, extract the first element\n",
    "df_relations['r'] = df_relations['r'].str[0]\n",
    "\n",
    "# Encode the target variable 'r' if it is categorical\n",
    "le = LabelEncoder()\n",
    "df_relations['r'] = le.fit_transform(df_relations['r'])\n",
    "\n",
    "# Encode categorical columns using LabelEncoder\n",
    "for col in ['x_type', 'y_type', 'spacy_features.x_pos', 'spacy_features.x_dep', 'spacy_features.x_tag', 'spacy_features.y_pos', 'spacy_features.y_dep', 'spacy_features.y_tag']:\n",
    "    df_relations[col] = LabelEncoder().fit_transform(df_relations[col])\n",
    "\n",
    "# Initialize StandardScaler\n",
    "scaler = StandardScaler()\n",
    "\n",
    "# Scale numerical features\n",
    "scaled_data = scaler.fit_transform(df_relations['min_words_distance'].values.reshape(-1, 1))\n",
    "df_relations['min_words_distance_scaled'] = scaled_data\n",
    "df_relations['min_turn_distance_scaled'] = scaler.fit_transform(df_relations['min_turn_distance'].values.reshape(-1, 1))\n",
    "\n",
    "# Extract token span start and end positions from 'x_token_span' and 'y_token_span' columns\n",
    "df_relations['x_token_span_start'] = df_relations.x_token_span.apply(lambda x: x[0])\n",
    "df_relations['x_token_span_end'] = df_relations.x_token_span.apply(lambda x: x[1])\n",
    "df_relations['y_token_span_start'] = df_relations.y_token_span.apply(lambda x: x[0])\n",
    "df_relations['y_token_span_end'] = df_relations.y_token_span.apply(lambda x: x[1])\n",
    "\n",
    "suffix = \"\"\n",
    "\n",
    "if add_dialogue_as_features:\n",
    "    # Initialize the TfidfVectorizer\n",
    "    vectorizer = TfidfVectorizer(max_features=1000)  # Adjust the max_features parameter to your needs\n",
    "    \n",
    "    # Fit and transform the 'Dialogue' column using TfidfVectorizer\n",
    "    TFIDF = vectorizer.fit_transform(df_relations['Dialogue'].apply(lambda x: '\\\\n'.join(x))).toarray()\n",
    "    \n",
    "    # Convert TF-IDF to a DataFrame\n",
    "    tfidf_df = pd.DataFrame(TFIDF, columns=vectorizer.get_feature_names_out())\n",
    "    \n",
    "    # Merge the DataFrames\n",
    "    df_relations = pd.concat([df_relations.reset_index(drop=True), tfidf_df.reset_index(drop=True)], axis=1)\n",
    "\n",
    "    suffix = \"WithTFIDFDialogues\"\n",
    "\n",
    "# Define Weights & Biases configuration parameters\n",
    "config_dict = {\n",
    "    'data_dir': '/mnt/vdb1/Development/murilo/RelNetCare/data/processed/dialog-re-binary-enriched',\n",
    "    'task_name': 'xgboost',\n",
    "    'no_cuda': True,\n",
    "    'exp_group': f\"W04-004-TestWordDistance-XGBoost-{to_camel_case(data_dir)}{suffix}\",\n",
    "    'include_extra_features': True,\n",
    "    'epoch_cnt': epoch_cnt\n",
    "}\n",
    "\n",
    "# Split the data into train, test, and dev datasets\n",
    "train_data = df_relations[df_relations['Origin'] == 'train']\n",
    "test_data = df_relations[df_relations['Origin'] == 'test']\n",
    "dev_data = df_relations[df_relations['Origin'] == 'dev']\n",
    "\n",
    "\n",
    "# Drop unnecessary columns for each dataset\n",
    "drop_cols = ['x', 'y', 'r', 't', 'rid', \n",
    "             'Origin', 'Dialogue', \n",
    "             'x_token_span', 'y_token_span',\n",
    "             'x_char_span', 'y_char_span']\n",
    "\n",
    "X_train = train_data.drop(drop_cols, axis=1)\n",
    "X_test = test_data.drop(drop_cols, axis=1)\n",
    "X_dev = dev_data.drop(drop_cols, axis=1)\n",
    "\n",
    "# Define the target for each dataset\n",
    "y_train = train_data['r']\n",
    "y_test = test_data['r']\n",
    "y_dev = dev_data['r']\n",
    "\n",
    "# Create XGBoost matrices for each dataset\n",
    "D_train = xgb.DMatrix(X_train, label=y_train)\n",
    "D_test = xgb.DMatrix(X_test, label=y_test)\n",
    "D_dev = xgb.DMatrix(X_dev, label=y_dev)\n",
    "\n",
    "\n",
    "# Prefix xgb_params keys with 'xgb_'\n",
    "prefixed_xgb_params = {\"xgb_\" + key: value for key, value in xgb_params.items()}\n",
    "\n",
    "# Update config_dict with xgb_params and epoch_cnt\n",
    "config_dict.update(prefixed_xgb_params)\n",
    "\n",
    "# Initialize wandb\n",
    "run = wandb.init(reinit=True, project=\"RelNetCare\", config=config_dict)\n",
    "\n",
    "# Log parameters using wandb\n",
    "config = wandb.config\n",
    "config.update(xgb_params)\n",
    "\n",
    "# Train the model on training data and log metrics\n",
    "watchlist = [(D_train, 'train'), (D_dev, 'eval')]\n",
    "evals_result = {}\n",
    "model = xgb.train(xgb_params, D_train, num_boost_round=epoch_cnt, evals=watchlist, evals_result=evals_result)\n",
    "\n",
    "for i in range(config_dict['epoch_cnt']):\n",
    "    preds_train = model.predict(D_train, iteration_range=(0, i+1))\n",
    "    preds_dev = model.predict(D_dev, iteration_range=(0, i+1))\n",
    "\n",
    "    \n",
    "    best_preds_train = np.asarray([np.argmax(line) for line in preds_train])\n",
    "    best_preds_dev = np.asarray([np.argmax(line) for line in preds_dev])\n",
    "\n",
    "    f1_train = f1_score(y_train, best_preds_train, average='weighted')\n",
    "    f1_dev = f1_score(y_dev, best_preds_dev, average='weighted')\n",
    "\n",
    "    results = {\n",
    "        'loss': evals_result['train']['mlogloss'][i],\n",
    "        'eval_loss': evals_result['eval']['mlogloss'][i],\n",
    "        'f1': f1_train,\n",
    "        'epoch': i+1,\n",
    "    }\n",
    "\n",
    "    wandb.log(results)\n",
    "\n",
    "# Finish the run\n",
    "run.finish()\n",
    "\n",
    "# Make predictions on test and dev data\n",
    "preds_test =model.predict(D_test)\n",
    "preds_dev = model.predict(D_dev)\n",
    "\n",
    "# Convert predictions to np arrays\n",
    "best_preds_test = np.asarray([np.argmax(line) for line in preds_test])\n",
    "best_preds_dev = np.asarray([np.argmax(line) for line in preds_dev])\n",
    "\n",
    "# Check accuracy\n",
    "print(\"Test Accuracy =\", accuracy_score(y_test, best_preds_test))\n",
    "print(\"Dev Accuracy =\", accuracy_score(y_dev, best_preds_dev))\n",
    "\n",
    "# Classification reports\n",
    "print(\"Test Classification Report:\")\n",
    "print(classification_report(y_test, best_preds_test))\n",
    "\n",
    "print(\"Dev Classification Report:\")\n",
    "print(classification_report(y_dev, best_preds_dev))\n",
    "\n",
    "# Get feature importance\n",
    "feature_importance = model.get_score(importance_type='gain')\n",
    "\n",
    "# Convert it to a DataFrame\n",
    "feature_importance = pd.DataFrame(list(feature_importance.items()), columns=['Feature', 'Score'])\n",
    "\n",
    "# Sort the DataFrame by importance score\n",
    "feature_importance = feature_importance.sort_values(by='Score', ascending=False)\n",
    "\n",
    "# Display the feature importance DataFrame\n",
    "feature_importance.head(20)"
   ]
  },
  {
   "cell_type": "code",
   "execution_count": null,
   "id": "448160c2",
   "metadata": {},
   "outputs": [],
   "source": []
  }
 ],
 "metadata": {
  "kernelspec": {
   "display_name": "llama-lora",
   "language": "python",
   "name": "python3"
  },
  "language_info": {
   "codemirror_mode": {
    "name": "ipython",
    "version": 3
   },
   "file_extension": ".py",
   "mimetype": "text/x-python",
   "name": "python",
   "nbconvert_exporter": "python",
   "pygments_lexer": "ipython3",
   "version": "3.10.12"
  }
 },
 "nbformat": 4,
 "nbformat_minor": 5
}
