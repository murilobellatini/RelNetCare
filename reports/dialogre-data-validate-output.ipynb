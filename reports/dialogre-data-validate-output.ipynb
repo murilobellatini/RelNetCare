{
 "cells": [
  {
   "cell_type": "code",
   "execution_count": 1,
   "metadata": {
    "scrolled": true
   },
   "outputs": [
    {
     "name": "stdout",
     "output_type": "stream",
     "text": [
      "kernel_on\n"
     ]
    }
   ],
   "source": [
    "print('kernel_on')"
   ]
  },
  {
   "cell_type": "markdown",
   "metadata": {},
   "source": [
    "# Exploratory Analysis on DialogRE:\n",
    "- **Objective**: Analyze dialogue relations data from JSON files & estimate data synthesization costs\n",
    "- **Process**: Convert data to DataFrame, flatten Relations column, and extract `relation_type`\n",
    "- **Analysis**: Study distribution of `relation_type`, with a special focus on excluding `no_relation`"
   ]
  },
  {
   "cell_type": "code",
   "execution_count": 8,
   "metadata": {},
   "outputs": [
    {
     "data": {
      "text/html": [
       "<div>\n",
       "<style scoped>\n",
       "    .dataframe tbody tr th:only-of-type {\n",
       "        vertical-align: middle;\n",
       "    }\n",
       "\n",
       "    .dataframe tbody tr th {\n",
       "        vertical-align: top;\n",
       "    }\n",
       "\n",
       "    .dataframe thead th {\n",
       "        text-align: right;\n",
       "    }\n",
       "</style>\n",
       "<table border=\"1\" class=\"dataframe\">\n",
       "  <thead>\n",
       "    <tr style=\"text-align: right;\">\n",
       "      <th></th>\n",
       "      <th>Counts</th>\n",
       "      <th>%</th>\n",
       "    </tr>\n",
       "    <tr>\n",
       "      <th>relation_type</th>\n",
       "      <th></th>\n",
       "      <th></th>\n",
       "    </tr>\n",
       "  </thead>\n",
       "  <tbody>\n",
       "    <tr>\n",
       "      <th>no_relation</th>\n",
       "      <td>16489</td>\n",
       "      <td>62.8</td>\n",
       "    </tr>\n",
       "    <tr>\n",
       "      <th>with_relation</th>\n",
       "      <td>9749</td>\n",
       "      <td>37.2</td>\n",
       "    </tr>\n",
       "  </tbody>\n",
       "</table>\n",
       "</div>"
      ],
      "text/plain": [
       "               Counts     %\n",
       "relation_type              \n",
       "no_relation     16489  62.8\n",
       "with_relation    9749  37.2"
      ]
     },
     "execution_count": 8,
     "metadata": {},
     "output_type": "execute_result"
    }
   ],
   "source": [
    "from src.paths import LOCAL_PROCESSED_DATA_PATH\n",
    "from src.statistics import get_counts_and_percentages\n",
    "\n",
    "from pathlib import Path\n",
    "import pandas as pd\n",
    "import json\n",
    "import glob\n",
    "import math\n",
    "\n",
    "# Get a list of all json files in the directory, excluding 'dev'\n",
    "for folder in (\"with-no-relation\", \"ternary\", \"binary\"):\n",
    "    files = [Path(f) for f in glob.glob(str(LOCAL_PROCESSED_DATA_PATH / f\"dialog-re-{folder}/*.json\"))]\n",
    "    \n",
    "    # Create an empty DataFrame\n",
    "    df1 = pd.DataFrame(columns=[\"Dialogue\", \"Relations\", \"Origin\"])\n",
    "    \n",
    "    # Loop over all json files in the directory\n",
    "    for file_name in files:\n",
    "        with open(file_name, 'r') as file:\n",
    "            data = json.load(file)\n",
    "    \n",
    "            # Convert the data to a DataFrame\n",
    "            df_temp = pd.DataFrame(data, columns=[\"Dialogue\", \"Relations\"])\n",
    "    \n",
    "            # Add a new column to this DataFrame for the origin\n",
    "            df_temp[\"Origin\"] = file_name.stem  # This will get just the file name without the extension\n",
    "    \n",
    "            # Append the temporary DataFrame to the main DataFrame\n",
    "            df1 = pd.concat([df1, df_temp], ignore_index=True)\n",
    "    \n",
    "    # flatten Relations column\n",
    "    relations = df1['Relations'].apply(pd.Series).stack().reset_index(drop=True)\n",
    "    \n",
    "    # create new dataframe\n",
    "    df2 = pd.DataFrame({'Relations': relations})\n",
    "    \n",
    "    # extract 'relation_type' from dictionary and add it as a new column in df2\n",
    "    df2['relation_type'] = df2['Relations'].apply(lambda x: x['r'][0])\n",
    "    \n",
    "    # drop the 'Relations' column\n",
    "    df2 = df2.drop('Relations', axis=1)\n",
    "    \n",
    "    # Now, we can count the amount of each 'relation_type'\n",
    "    relation_stats = get_counts_and_percentages(df2, ['relation_type'])\n",
    "    \n",
    "    relation_stats"
   ]
  },
  {
   "cell_type": "code",
   "execution_count": 6,
   "metadata": {},
   "outputs": [
    {
     "data": {
      "text/html": [
       "<div>\n",
       "<style scoped>\n",
       "    .dataframe tbody tr th:only-of-type {\n",
       "        vertical-align: middle;\n",
       "    }\n",
       "\n",
       "    .dataframe tbody tr th {\n",
       "        vertical-align: top;\n",
       "    }\n",
       "\n",
       "    .dataframe thead th {\n",
       "        text-align: right;\n",
       "    }\n",
       "</style>\n",
       "<table border=\"1\" class=\"dataframe\">\n",
       "  <thead>\n",
       "    <tr style=\"text-align: right;\">\n",
       "      <th></th>\n",
       "      <th>Counts</th>\n",
       "      <th>%</th>\n",
       "    </tr>\n",
       "    <tr>\n",
       "      <th>relation_type</th>\n",
       "      <th></th>\n",
       "      <th></th>\n",
       "    </tr>\n",
       "  </thead>\n",
       "  <tbody>\n",
       "    <tr>\n",
       "      <th>no_relation</th>\n",
       "      <td>16489</td>\n",
       "      <td>62.8</td>\n",
       "    </tr>\n",
       "    <tr>\n",
       "      <th>with_relation</th>\n",
       "      <td>9749</td>\n",
       "      <td>37.2</td>\n",
       "    </tr>\n",
       "  </tbody>\n",
       "</table>\n",
       "</div>"
      ],
      "text/plain": [
       "               Counts     %\n",
       "relation_type              \n",
       "no_relation     16489  62.8\n",
       "with_relation    9749  37.2"
      ]
     },
     "execution_count": 6,
     "metadata": {},
     "output_type": "execute_result"
    }
   ],
   "source": []
  }
 ],
 "metadata": {
  "kernelspec": {
   "display_name": "relnetcare",
   "language": "python",
   "name": "relnetcare"
  },
  "language_info": {
   "codemirror_mode": {
    "name": "ipython",
    "version": 3
   },
   "file_extension": ".py",
   "mimetype": "text/x-python",
   "name": "python",
   "nbconvert_exporter": "python",
   "pygments_lexer": "ipython3",
   "version": "3.10.4"
  },
  "vscode": {
   "interpreter": {
    "hash": "68f1423f69e1152743355b4b3ebe5d73df7b615464c645417a850060a12a7a65"
   }
  }
 },
 "nbformat": 4,
 "nbformat_minor": 4
}
