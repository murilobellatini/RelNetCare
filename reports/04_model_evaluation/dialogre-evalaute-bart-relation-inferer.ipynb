{
 "cells": [
  {
   "cell_type": "code",
   "execution_count": 1,
   "metadata": {},
   "outputs": [],
   "source": [
    "%load_ext autoreload\n",
    "%autoreload 2\n",
    "!source /home/murilo/RelNetCare/.env"
   ]
  },
  {
   "cell_type": "code",
   "execution_count": 2,
   "metadata": {},
   "outputs": [
    {
     "data": {
      "text/plain": [
       "DatasetDict({\n",
       "    train: Dataset({\n",
       "        features: ['text', 'summary', 'title'],\n",
       "        num_rows: 2304\n",
       "    })\n",
       "    test: Dataset({\n",
       "        features: ['text', 'summary', 'title'],\n",
       "        num_rows: 841\n",
       "    })\n",
       "    dev: Dataset({\n",
       "        features: ['text', 'summary', 'title'],\n",
       "        num_rows: 705\n",
       "    })\n",
       "})"
      ]
     },
     "execution_count": 2,
     "metadata": {},
     "output_type": "execute_result"
    }
   ],
   "source": [
    "from datasets import Dataset, DatasetDict\n",
    "import os\n",
    "import json\n",
    "import torch\n",
    "import wandb\n",
    "\n",
    "device = torch.device(\"cuda\" if torch.cuda.is_available() else \"cpu\")\n",
    "\n",
    "data_cap = -1\n",
    "set_data = None\n",
    "dataset_sets = {}\n",
    "dict_sets = {}\n",
    "# data_folder = \"/home/murilo/RelNetCare/data/processed/dialog-re-llama-11cls-rebalPairs-rwrtKeys-instrC-mxTrnCp3-skpTps-prepBART\"\n",
    "# data_folder = \"/home/murilo/RelNetCare/data/processed/dialog-re-babelscape-sredfm-llama-11cls-rebalPairs0.5x-rwrtKeys-instrC-mxTrnCp3-skpTps-BblscpSrdfm-prepBART\"\n",
    "data_folder = \"/home/murilo/RelNetCare/data/processed/dialog-re-llama-11cls-rebalPairs-rwrtKeys-instrC-mxTrnCp3-skpTps-prepBART\"\n",
    "\n",
    "data_stem = data_folder.split('/')[-1]\n",
    "base_model = 'facebook/bart-base'\n",
    "model_path = f\"/mnt/vdb1/murilo/models/fine-tuned/{base_model}/{data_stem}\"\n",
    "\n",
    "args_dict = {\n",
    "    'memorization_task': False,\n",
    "    'merge_train_dev': False\n",
    "}\n",
    "\n",
    "\n",
    "for set_ in ('train', 'test', 'dev'):\n",
    "\n",
    "    data_path = os.path.join(data_folder, f'{set_}.json')\n",
    "\n",
    "    with open(data_path, 'r') as f:\n",
    "        data = json.load(f)\n",
    "            \n",
    "    # Remap keys and separate into train/test\n",
    "    if args_dict['memorization_task']:\n",
    "        if not set_data:\n",
    "            set_data = [{\"text\": item[\"input\"], \"summary\": item[\"output\"], \"title\": \"\"} for item in data[data_cap:]]\n",
    "    else:\n",
    "        set_data = [{\"text\": item[\"input\"], \"summary\": item[\"output\"], \"title\": \"\"} for item in data]\n",
    "        \n",
    "    # Merge 'train' and 'dev' if the flag is set\n",
    "    if args_dict['merge_train_dev']:\n",
    "        if set_ == 'dev':\n",
    "            dict_sets['train'] = dict_sets['train'] + set_data\n",
    "        else:\n",
    "           dict_sets[set_] = set_data\n",
    "    else:\n",
    "        dict_sets[set_] = set_data\n",
    "        \n",
    "\n",
    "    \n",
    "for set_ in ('train', 'test', 'dev'):\n",
    "    if args_dict['merge_train_dev']:\n",
    "        if set_ == 'dev':\n",
    "            continue\n",
    "    set_data = dict_sets[set_]\n",
    "    dataset_sets[set_] = Dataset.from_dict(\n",
    "        {\"text\": [item[\"text\"] for item in set_data],\n",
    "         \"summary\": [item[\"summary\"] for item in set_data],\n",
    "         \"title\": [item[\"title\"] for item in set_data]}\n",
    "        )\n",
    "    \n",
    "\n",
    "# Create DatasetDict\n",
    "dataset_dict = DatasetDict(dataset_sets)\n",
    "dataset_dict"
   ]
  },
  {
   "cell_type": "code",
   "execution_count": 3,
   "metadata": {},
   "outputs": [
    {
     "name": "stdout",
     "output_type": "stream",
     "text": [
      "/mnt/vdb1/murilo/models/fine-tuned/facebook/bart-base/dialog-re-llama-11cls-rebalPairs-rwrtKeys-instrC-mxTrnCp3-skpTps-prepBART/checkpoint-480\n",
      "\n",
      "===================================BUG REPORT===================================\n",
      "Welcome to bitsandbytes. For bug reports, please submit your error trace to: https://github.com/TimDettmers/bitsandbytes/issues\n",
      "================================================================================\n",
      "CUDA SETUP: CUDA runtime path found: /home/murilo/miniconda3/envs/llama-lora/lib/libcudart.so\n",
      "CUDA SETUP: Highest compute capability among GPUs detected: 7.0\n",
      "CUDA SETUP: Detected CUDA version 116\n",
      "CUDA SETUP: Loading binary /home/murilo/miniconda3/envs/llama-lora/lib/python3.10/site-packages/bitsandbytes/libbitsandbytes_cuda116_nocublaslt.so...\n",
      "[2023-10-09 13:45:59,149] [INFO] [real_accelerator.py:133:get_accelerator] Setting ds_accelerator to cuda (auto detect)\n"
     ]
    },
    {
     "name": "stderr",
     "output_type": "stream",
     "text": [
      "/home/murilo/miniconda3/envs/llama-lora/lib/python3.10/site-packages/bitsandbytes/cuda_setup/main.py:136: UserWarning: WARNING: Compute capability < 7.5 detected! Only slow 8-bit matmul is supported for your GPU!\n",
      "  warn(msg)\n",
      "100%|██████████| 841/841 [02:35<00:00,  5.42it/s]\n"
     ]
    }
   ],
   "source": [
    "from transformers import AutoTokenizer, AutoModelForSeq2SeqLM\n",
    "from tqdm import tqdm\n",
    "\n",
    "# Specify your directory path\n",
    "\n",
    "all_folders = [f for f in os.listdir(model_path) if os.path.isdir(os.path.join(model_path, f))]\n",
    "\n",
    "# If there's only one folder, set it as the checkpoint folder\n",
    "if len(all_folders) == 1:\n",
    "    checkpoint_folder = all_folders[0]\n",
    "    full_checkpoint_path = os.path.join(model_path, checkpoint_folder)\n",
    "    print(full_checkpoint_path)\n",
    "    # Initialize tokenizer and model\n",
    "    tokenizer = AutoTokenizer.from_pretrained(full_checkpoint_path)\n",
    "    model = AutoModelForSeq2SeqLM.from_pretrained(full_checkpoint_path).to(device)\n",
    "else:\n",
    "    raise Exception(\"More than one checkpoint found. Be more specific!\")\n",
    "\n",
    "# Initialize an empty list to store raw_predicted_labels\n",
    "raw_predicted_labels = []\n",
    "\n",
    "# Loop through the test set\n",
    "for entry in tqdm(dataset_dict['test']):\n",
    "    text = entry['text']\n",
    "    inputs = tokenizer(text, return_tensors=\"pt\").input_ids.to(device)\n",
    "    outputs = model.generate(inputs, max_length=300, do_sample=False)\n",
    "    summary = tokenizer.decode(outputs[0], skip_special_tokens=True)\n",
    "    raw_predicted_labels.append(summary)\n",
    "\n",
    "# Confirm the shape\n",
    "assert len(raw_predicted_labels) == len(dataset_dict['test'])\n"
   ]
  },
  {
   "cell_type": "code",
   "execution_count": 4,
   "metadata": {},
   "outputs": [
    {
     "data": {
      "text/plain": [
       "['Speaker 5 is a parent of Speaker 1. Speaker 1 is a child of Speaker 5.',\n",
       " 'Speaker 2 is a parent of Speaker 1. Speaker 1 is a child of Speaker 2.',\n",
       " 'Speaker 2 is a parent of Speaker 3. Speaker 3 is a child of Speaker 2.',\n",
       " 'Speaker 3 is a parent of Speaker 1. Speaker 1 is a child of Speaker 3.',\n",
       " 'Speaker 1 is a sibling of Speaker 4. Speaker 4 is a parent of Speaker 1.',\n",
       " 'Speaker 4 is a parent of Speaker 1. Speaker 1 is a child of Speaker 4.',\n",
       " 'Speaker 4 is a parent of Speaker 1. Speaker 1 is a child of Speaker 4.',\n",
       " 'Speaker 4 is a parent of Speaker 1. Speaker 1 is a child of Speaker 4.',\n",
       " 'Speaker 4 is a parent of Speaker 1. Speaker 1 is a child of Speaker 4.',\n",
       " 'Speaker 4 is a parent of Speaker 6. Speaker 6 is a child of Speaker 4.']"
      ]
     },
     "execution_count": 4,
     "metadata": {},
     "output_type": "execute_result"
    }
   ],
   "source": [
    "raw_predicted_labels[:10]"
   ]
  },
  {
   "cell_type": "code",
   "execution_count": 5,
   "metadata": {},
   "outputs": [
    {
     "name": "stderr",
     "output_type": "stream",
     "text": [
      "[nltk_data] Downloading package punkt to /home/murilo/nltk_data...\n",
      "[nltk_data]   Package punkt is already up-to-date!\n"
     ]
    },
    {
     "name": "stdout",
     "output_type": "stream",
     "text": [
      "Initialized with input path: \n",
      "Output path set to         : -prepBART\n"
     ]
    },
    {
     "name": "stderr",
     "output_type": "stream",
     "text": [
      "100%|██████████| 841/841 [00:00<00:00, 20152.02it/s]"
     ]
    },
    {
     "name": "stdout",
     "output_type": "stream",
     "text": [
      "Errors: 7/841 (0.83%)\n",
      "[[{'subject': 'Speaker 5', 'relation': 'parents', 'object': 'Speaker 1'}, {'subject': 'Speaker 1', 'relation': 'children', 'object': 'Speaker 5'}], [{'subject': 'Speaker 2', 'relation': 'parents', 'object': 'Speaker 1'}, {'subject': 'Speaker 1', 'relation': 'children', 'object': 'Speaker 2'}], [{'subject': 'Speaker 2', 'relation': 'parents', 'object': 'Speaker 3'}, {'subject': 'Speaker 3', 'relation': 'children', 'object': 'Speaker 2'}]]\n"
     ]
    },
    {
     "name": "stderr",
     "output_type": "stream",
     "text": [
      "\n"
     ]
    }
   ],
   "source": [
    "from src.processing.bart_processing import RelationConverter\n",
    "from nltk.tokenize import sent_tokenize\n",
    "import nltk\n",
    "nltk.download('punkt')\n",
    "\n",
    "def convert_raw_labels_to_relations(raw_predicted_labels, input_path=''):\n",
    "    converter = RelationConverter(input_path=input_path)\n",
    "    predicted_labels = []\n",
    "    error_count = 0  # Initialize error counter\n",
    "    errors = []\n",
    "    for raw_label in tqdm(raw_predicted_labels):\n",
    "        label_relations = []\n",
    "        if raw_label:\n",
    "            for sent in sent_tokenize(raw_label): \n",
    "                try:\n",
    "                    sub, rel, obj = converter._convert_sentence_to_relation(sent[:-1] if sent.endswith('.') else sent)\n",
    "                except Exception as e:\n",
    "                    sub, rel, obj = (\"ERROR\", \"ERROR\", \"ERROR\")\n",
    "                    error = f'Exception `{e}` with sentence below:\\n`{sent}`'\n",
    "                    errors.append(error)\n",
    "                    error_count += 1  # Increment error counter\n",
    "                label_relations.append({'subject': sub, 'relation': rel, 'object': obj})\n",
    "\n",
    "        predicted_labels.append(label_relations)\n",
    "\n",
    "    # Confirm the shape\n",
    "    assert len(raw_predicted_labels) == len(predicted_labels)\n",
    "    \n",
    "    # Print out the error ratio\n",
    "    total_samples = len(raw_predicted_labels)\n",
    "    error_ratio = (error_count / total_samples) * 100\n",
    "    print(f'Errors: {error_count}/{total_samples} ({error_ratio:.2f}%)')\n",
    "\n",
    "    return predicted_labels, errors  # Return tuple with predicted_labels and error_count\n",
    "\n",
    "# Usage\n",
    "predicted_labels, pred_errors = convert_raw_labels_to_relations(raw_predicted_labels)\n",
    "print(predicted_labels[:3])\n"
   ]
  },
  {
   "cell_type": "code",
   "execution_count": 6,
   "metadata": {},
   "outputs": [
    {
     "name": "stdout",
     "output_type": "stream",
     "text": [
      "Initialized with input path: \n",
      "Output path set to         : -prepBART\n"
     ]
    },
    {
     "name": "stderr",
     "output_type": "stream",
     "text": [
      "  0%|          | 0/841 [00:00<?, ?it/s]"
     ]
    },
    {
     "name": "stderr",
     "output_type": "stream",
     "text": [
      "100%|██████████| 841/841 [00:00<00:00, 26344.01it/s]"
     ]
    },
    {
     "name": "stdout",
     "output_type": "stream",
     "text": [
      "Errors: 0/841 (0.00%)\n"
     ]
    },
    {
     "name": "stderr",
     "output_type": "stream",
     "text": [
      "\n"
     ]
    }
   ],
   "source": [
    "true_labels, true_errors = convert_raw_labels_to_relations(dataset_dict['test']['summary'])"
   ]
  },
  {
   "cell_type": "code",
   "execution_count": 7,
   "metadata": {},
   "outputs": [
    {
     "name": "stdout",
     "output_type": "stream",
     "text": [
      "output_dir= /home/murilo/RelNetCare/data/processed/dialog-re-llama-11cls-trToDial-rwrtKeys-instrA\n",
      "self.skip_types=True, forcing intruction_type to `C`...\n",
      "output_dir= /home/murilo/RelNetCare/data/processed/dialog-re-llama-11cls-balPairs-rebalPairs-rwrtKeys-instrC-skpTps\n",
      "Not output_path provided, nothing dump!\n",
      "# INFERENCE REPORT\n",
      "None\n",
      "\n"
     ]
    },
    {
     "data": {
      "text/html": [
       "<div>\n",
       "<style scoped>\n",
       "    .dataframe tbody tr th:only-of-type {\n",
       "        vertical-align: middle;\n",
       "    }\n",
       "\n",
       "    .dataframe tbody tr th {\n",
       "        vertical-align: top;\n",
       "    }\n",
       "\n",
       "    .dataframe thead th {\n",
       "        text-align: right;\n",
       "    }\n",
       "</style>\n",
       "<table border=\"1\" class=\"dataframe\">\n",
       "  <thead>\n",
       "    <tr style=\"text-align: right;\">\n",
       "      <th></th>\n",
       "      <th>id</th>\n",
       "      <th>prompt</th>\n",
       "      <th>dialogue</th>\n",
       "      <th>true_labels</th>\n",
       "      <th>raw_inference</th>\n",
       "      <th>predicted_labels</th>\n",
       "      <th>correct_labels</th>\n",
       "      <th>wrong_labels</th>\n",
       "      <th>missing_labels</th>\n",
       "      <th>f1s</th>\n",
       "      <th>precision</th>\n",
       "      <th>recall</th>\n",
       "      <th>error_message</th>\n",
       "    </tr>\n",
       "  </thead>\n",
       "  <tbody>\n",
       "    <tr>\n",
       "      <th>0</th>\n",
       "      <td>1</td>\n",
       "      <td></td>\n",
       "      <td>None</td>\n",
       "      <td>[\\n {\\n  \"subject\": \"Speaker 1\",\\n  \"relation\"...</td>\n",
       "      <td>None</td>\n",
       "      <td>[\\n {\\n  \"subject\": \"Speaker 5\",\\n  \"relation\"...</td>\n",
       "      <td>[]</td>\n",
       "      <td>[\\n {\\n  \"subject\": \"Speaker 1\",\\n  \"relation\"...</td>\n",
       "      <td>[\\n {\\n  \"subject\": \"Montauk\",\\n  \"relation\": ...</td>\n",
       "      <td>0.0</td>\n",
       "      <td>0.0</td>\n",
       "      <td>0.0</td>\n",
       "      <td></td>\n",
       "    </tr>\n",
       "    <tr>\n",
       "      <th>1</th>\n",
       "      <td>2</td>\n",
       "      <td></td>\n",
       "      <td>None</td>\n",
       "      <td>[]</td>\n",
       "      <td>None</td>\n",
       "      <td>[\\n {\\n  \"subject\": \"Speaker 2\",\\n  \"relation\"...</td>\n",
       "      <td>[]</td>\n",
       "      <td>[\\n {\\n  \"subject\": \"Speaker 2\",\\n  \"relation\"...</td>\n",
       "      <td>[]</td>\n",
       "      <td>0.0</td>\n",
       "      <td>0.0</td>\n",
       "      <td>0.0</td>\n",
       "      <td></td>\n",
       "    </tr>\n",
       "    <tr>\n",
       "      <th>2</th>\n",
       "      <td>3</td>\n",
       "      <td></td>\n",
       "      <td>None</td>\n",
       "      <td>[]</td>\n",
       "      <td>None</td>\n",
       "      <td>[\\n {\\n  \"subject\": \"Speaker 2\",\\n  \"relation\"...</td>\n",
       "      <td>[]</td>\n",
       "      <td>[\\n {\\n  \"subject\": \"Speaker 3\",\\n  \"relation\"...</td>\n",
       "      <td>[]</td>\n",
       "      <td>0.0</td>\n",
       "      <td>0.0</td>\n",
       "      <td>0.0</td>\n",
       "      <td></td>\n",
       "    </tr>\n",
       "    <tr>\n",
       "      <th>3</th>\n",
       "      <td>4</td>\n",
       "      <td></td>\n",
       "      <td>None</td>\n",
       "      <td>[]</td>\n",
       "      <td>None</td>\n",
       "      <td>[\\n {\\n  \"subject\": \"Speaker 3\",\\n  \"relation\"...</td>\n",
       "      <td>[]</td>\n",
       "      <td>[\\n {\\n  \"subject\": \"Speaker 3\",\\n  \"relation\"...</td>\n",
       "      <td>[]</td>\n",
       "      <td>0.0</td>\n",
       "      <td>0.0</td>\n",
       "      <td>0.0</td>\n",
       "      <td></td>\n",
       "    </tr>\n",
       "    <tr>\n",
       "      <th>4</th>\n",
       "      <td>5</td>\n",
       "      <td></td>\n",
       "      <td>None</td>\n",
       "      <td>[]</td>\n",
       "      <td>None</td>\n",
       "      <td>[\\n {\\n  \"subject\": \"Speaker 1\",\\n  \"relation\"...</td>\n",
       "      <td>[]</td>\n",
       "      <td>[\\n {\\n  \"subject\": \"Speaker 4\",\\n  \"relation\"...</td>\n",
       "      <td>[]</td>\n",
       "      <td>0.0</td>\n",
       "      <td>0.0</td>\n",
       "      <td>0.0</td>\n",
       "      <td></td>\n",
       "    </tr>\n",
       "    <tr>\n",
       "      <th>...</th>\n",
       "      <td>...</td>\n",
       "      <td>...</td>\n",
       "      <td>...</td>\n",
       "      <td>...</td>\n",
       "      <td>...</td>\n",
       "      <td>...</td>\n",
       "      <td>...</td>\n",
       "      <td>...</td>\n",
       "      <td>...</td>\n",
       "      <td>...</td>\n",
       "      <td>...</td>\n",
       "      <td>...</td>\n",
       "      <td>...</td>\n",
       "    </tr>\n",
       "    <tr>\n",
       "      <th>836</th>\n",
       "      <td>837</td>\n",
       "      <td></td>\n",
       "      <td>None</td>\n",
       "      <td>[\\n {\\n  \"subject\": \"Speaker 3\",\\n  \"relation\"...</td>\n",
       "      <td>None</td>\n",
       "      <td>[\\n {\\n  \"subject\": \"Speaker 3\",\\n  \"relation\"...</td>\n",
       "      <td>[\\n {\\n  \"subject\": \"Speaker 3\",\\n  \"relation\"...</td>\n",
       "      <td>[]</td>\n",
       "      <td>[]</td>\n",
       "      <td>1.0</td>\n",
       "      <td>1.0</td>\n",
       "      <td>1.0</td>\n",
       "      <td></td>\n",
       "    </tr>\n",
       "    <tr>\n",
       "      <th>837</th>\n",
       "      <td>838</td>\n",
       "      <td></td>\n",
       "      <td>None</td>\n",
       "      <td>[\\n {\\n  \"subject\": \"Speaker 3\",\\n  \"relation\"...</td>\n",
       "      <td>None</td>\n",
       "      <td>[\\n {\\n  \"subject\": \"Speaker 2\",\\n  \"relation\"...</td>\n",
       "      <td>[]</td>\n",
       "      <td>[\\n {\\n  \"subject\": \"Speaker 2\",\\n  \"relation\"...</td>\n",
       "      <td>[\\n {\\n  \"subject\": \"Speaker 3\",\\n  \"relation\"...</td>\n",
       "      <td>0.0</td>\n",
       "      <td>0.0</td>\n",
       "      <td>0.0</td>\n",
       "      <td></td>\n",
       "    </tr>\n",
       "    <tr>\n",
       "      <th>838</th>\n",
       "      <td>839</td>\n",
       "      <td></td>\n",
       "      <td>None</td>\n",
       "      <td>[\\n {\\n  \"subject\": \"Speaker 4\",\\n  \"relation\"...</td>\n",
       "      <td>None</td>\n",
       "      <td>[\\n {\\n  \"subject\": \"Speaker 2\",\\n  \"relation\"...</td>\n",
       "      <td>[]</td>\n",
       "      <td>[\\n {\\n  \"subject\": \"Speaker 3\",\\n  \"relation\"...</td>\n",
       "      <td>[\\n {\\n  \"subject\": \"New York\",\\n  \"relation\":...</td>\n",
       "      <td>0.0</td>\n",
       "      <td>0.0</td>\n",
       "      <td>0.0</td>\n",
       "      <td></td>\n",
       "    </tr>\n",
       "    <tr>\n",
       "      <th>839</th>\n",
       "      <td>840</td>\n",
       "      <td></td>\n",
       "      <td>None</td>\n",
       "      <td>[\\n {\\n  \"subject\": \"Speaker 4\",\\n  \"relation\"...</td>\n",
       "      <td>None</td>\n",
       "      <td>[\\n {\\n  \"subject\": \"Speaker 3\",\\n  \"relation\"...</td>\n",
       "      <td>[]</td>\n",
       "      <td>[\\n {\\n  \"subject\": \"New York\",\\n  \"relation\":...</td>\n",
       "      <td>[\\n {\\n  \"subject\": \"New York\",\\n  \"relation\":...</td>\n",
       "      <td>0.0</td>\n",
       "      <td>0.0</td>\n",
       "      <td>0.0</td>\n",
       "      <td></td>\n",
       "    </tr>\n",
       "    <tr>\n",
       "      <th>840</th>\n",
       "      <td>841</td>\n",
       "      <td></td>\n",
       "      <td>None</td>\n",
       "      <td>[\\n {\\n  \"subject\": \"Speaker 4\",\\n  \"relation\"...</td>\n",
       "      <td>None</td>\n",
       "      <td>[\\n {\\n  \"subject\": \"Speaker 3\",\\n  \"relation\"...</td>\n",
       "      <td>[]</td>\n",
       "      <td>[\\n {\\n  \"subject\": \"New York\",\\n  \"relation\":...</td>\n",
       "      <td>[\\n {\\n  \"subject\": \"New York\",\\n  \"relation\":...</td>\n",
       "      <td>0.0</td>\n",
       "      <td>0.0</td>\n",
       "      <td>0.0</td>\n",
       "      <td></td>\n",
       "    </tr>\n",
       "  </tbody>\n",
       "</table>\n",
       "<p>841 rows × 13 columns</p>\n",
       "</div>"
      ],
      "text/plain": [
       "      id prompt dialogue                                        true_labels  \\\n",
       "0      1            None  [\\n {\\n  \"subject\": \"Speaker 1\",\\n  \"relation\"...   \n",
       "1      2            None                                                 []   \n",
       "2      3            None                                                 []   \n",
       "3      4            None                                                 []   \n",
       "4      5            None                                                 []   \n",
       "..   ...    ...      ...                                                ...   \n",
       "836  837            None  [\\n {\\n  \"subject\": \"Speaker 3\",\\n  \"relation\"...   \n",
       "837  838            None  [\\n {\\n  \"subject\": \"Speaker 3\",\\n  \"relation\"...   \n",
       "838  839            None  [\\n {\\n  \"subject\": \"Speaker 4\",\\n  \"relation\"...   \n",
       "839  840            None  [\\n {\\n  \"subject\": \"Speaker 4\",\\n  \"relation\"...   \n",
       "840  841            None  [\\n {\\n  \"subject\": \"Speaker 4\",\\n  \"relation\"...   \n",
       "\n",
       "    raw_inference                                   predicted_labels  \\\n",
       "0            None  [\\n {\\n  \"subject\": \"Speaker 5\",\\n  \"relation\"...   \n",
       "1            None  [\\n {\\n  \"subject\": \"Speaker 2\",\\n  \"relation\"...   \n",
       "2            None  [\\n {\\n  \"subject\": \"Speaker 2\",\\n  \"relation\"...   \n",
       "3            None  [\\n {\\n  \"subject\": \"Speaker 3\",\\n  \"relation\"...   \n",
       "4            None  [\\n {\\n  \"subject\": \"Speaker 1\",\\n  \"relation\"...   \n",
       "..            ...                                                ...   \n",
       "836          None  [\\n {\\n  \"subject\": \"Speaker 3\",\\n  \"relation\"...   \n",
       "837          None  [\\n {\\n  \"subject\": \"Speaker 2\",\\n  \"relation\"...   \n",
       "838          None  [\\n {\\n  \"subject\": \"Speaker 2\",\\n  \"relation\"...   \n",
       "839          None  [\\n {\\n  \"subject\": \"Speaker 3\",\\n  \"relation\"...   \n",
       "840          None  [\\n {\\n  \"subject\": \"Speaker 3\",\\n  \"relation\"...   \n",
       "\n",
       "                                        correct_labels  \\\n",
       "0                                                   []   \n",
       "1                                                   []   \n",
       "2                                                   []   \n",
       "3                                                   []   \n",
       "4                                                   []   \n",
       "..                                                 ...   \n",
       "836  [\\n {\\n  \"subject\": \"Speaker 3\",\\n  \"relation\"...   \n",
       "837                                                 []   \n",
       "838                                                 []   \n",
       "839                                                 []   \n",
       "840                                                 []   \n",
       "\n",
       "                                          wrong_labels  \\\n",
       "0    [\\n {\\n  \"subject\": \"Speaker 1\",\\n  \"relation\"...   \n",
       "1    [\\n {\\n  \"subject\": \"Speaker 2\",\\n  \"relation\"...   \n",
       "2    [\\n {\\n  \"subject\": \"Speaker 3\",\\n  \"relation\"...   \n",
       "3    [\\n {\\n  \"subject\": \"Speaker 3\",\\n  \"relation\"...   \n",
       "4    [\\n {\\n  \"subject\": \"Speaker 4\",\\n  \"relation\"...   \n",
       "..                                                 ...   \n",
       "836                                                 []   \n",
       "837  [\\n {\\n  \"subject\": \"Speaker 2\",\\n  \"relation\"...   \n",
       "838  [\\n {\\n  \"subject\": \"Speaker 3\",\\n  \"relation\"...   \n",
       "839  [\\n {\\n  \"subject\": \"New York\",\\n  \"relation\":...   \n",
       "840  [\\n {\\n  \"subject\": \"New York\",\\n  \"relation\":...   \n",
       "\n",
       "                                        missing_labels  f1s  precision  \\\n",
       "0    [\\n {\\n  \"subject\": \"Montauk\",\\n  \"relation\": ...  0.0        0.0   \n",
       "1                                                   []  0.0        0.0   \n",
       "2                                                   []  0.0        0.0   \n",
       "3                                                   []  0.0        0.0   \n",
       "4                                                   []  0.0        0.0   \n",
       "..                                                 ...  ...        ...   \n",
       "836                                                 []  1.0        1.0   \n",
       "837  [\\n {\\n  \"subject\": \"Speaker 3\",\\n  \"relation\"...  0.0        0.0   \n",
       "838  [\\n {\\n  \"subject\": \"New York\",\\n  \"relation\":...  0.0        0.0   \n",
       "839  [\\n {\\n  \"subject\": \"New York\",\\n  \"relation\":...  0.0        0.0   \n",
       "840  [\\n {\\n  \"subject\": \"New York\",\\n  \"relation\":...  0.0        0.0   \n",
       "\n",
       "     recall error_message  \n",
       "0       0.0                \n",
       "1       0.0                \n",
       "2       0.0                \n",
       "3       0.0                \n",
       "4       0.0                \n",
       "..      ...           ...  \n",
       "836     1.0                \n",
       "837     0.0                \n",
       "838     0.0                \n",
       "839     0.0                \n",
       "840     0.0                \n",
       "\n",
       "[841 rows x 13 columns]"
      ]
     },
     "execution_count": 7,
     "metadata": {},
     "output_type": "execute_result"
    }
   ],
   "source": [
    "from src.processing.relation_extraction_evaluator import RelationExtractorEvaluator, RelationGranularMetrics\n",
    "from src.config import get_config_from_stem\n",
    "config = get_config_from_stem(data_stem)\n",
    "evaluator = RelationExtractorEvaluator(config=config)\n",
    "df = evaluator.assess_performance_on_lists(\n",
    "    true_labels_list=true_labels, pred_labels_list=predicted_labels, return_details=True,\n",
    "    # output_path=f'/home/murilo/RelNetCare/data/processed/dialog-re-llama-11cls-rebalPairs-rwrtKeys-instrC-mxTrnCp3-skpTps-prepBART/{base_model}'\n",
    "    )\n",
    "df"
   ]
  },
  {
   "cell_type": "code",
   "execution_count": 38,
   "metadata": {},
   "outputs": [
    {
     "data": {
      "text/plain": [
       "['place_of_residence',\n",
       " 'residents_of_place',\n",
       " 'siblings',\n",
       " 'spouse',\n",
       " 'other_family',\n",
       " 'pet',\n",
       " 'children',\n",
       " 'parents',\n",
       " 'acquaintance',\n",
       " 'visited_place',\n",
       " 'visitors_of_place']"
      ]
     },
     "execution_count": 38,
     "metadata": {},
     "output_type": "execute_result"
    }
   ],
   "source": []
  },
  {
   "cell_type": "code",
   "execution_count": 98,
   "metadata": {},
   "outputs": [
    {
     "name": "stdout",
     "output_type": "stream",
     "text": [
      "output_dir= /home/murilo/RelNetCare/data/processed/dialog-re-llama-11cls-trToDial-rwrtKeys-instrA\n"
     ]
    },
    {
     "data": {
      "image/png": "[encoded data removed]",
      "text/plain": [
       "<Figure size 640x480 with 1 Axes>"
      ]
     },
     "metadata": {},
     "output_type": "display_data"
    },
    {
     "data": {
      "image/png": "[encoded data removed]",
      "text/plain": [
       "<Figure size 800x800 with 1 Axes>"
      ]
     },
     "metadata": {},
     "output_type": "display_data"
    },
    {
     "ename": "KeyError",
     "evalue": "'tp'",
     "output_type": "error",
     "traceback": [
      "\u001b[0;31m---------------------------------------------------------------------------\u001b[0m",
      "\u001b[0;31mKeyError\u001b[0m                                  Traceback (most recent call last)",
      "File \u001b[0;32m~/miniconda3/envs/llama-lora/lib/python3.10/site-packages/pandas/core/indexes/base.py:3653\u001b[0m, in \u001b[0;36mIndex.get_loc\u001b[0;34m(self, key)\u001b[0m\n\u001b[1;32m   3652\u001b[0m \u001b[39mtry\u001b[39;00m:\n\u001b[0;32m-> 3653\u001b[0m     \u001b[39mreturn\u001b[39;00m \u001b[39mself\u001b[39;49m\u001b[39m.\u001b[39;49m_engine\u001b[39m.\u001b[39;49mget_loc(casted_key)\n\u001b[1;32m   3654\u001b[0m \u001b[39mexcept\u001b[39;00m \u001b[39mKeyError\u001b[39;00m \u001b[39mas\u001b[39;00m err:\n",
      "File \u001b[0;32m~/miniconda3/envs/llama-lora/lib/python3.10/site-packages/pandas/_libs/index.pyx:147\u001b[0m, in \u001b[0;36mpandas._libs.index.IndexEngine.get_loc\u001b[0;34m()\u001b[0m\n",
      "File \u001b[0;32m~/miniconda3/envs/llama-lora/lib/python3.10/site-packages/pandas/_libs/index.pyx:176\u001b[0m, in \u001b[0;36mpandas._libs.index.IndexEngine.get_loc\u001b[0;34m()\u001b[0m\n",
      "File \u001b[0;32mpandas/_libs/hashtable_class_helper.pxi:7080\u001b[0m, in \u001b[0;36mpandas._libs.hashtable.PyObjectHashTable.get_item\u001b[0;34m()\u001b[0m\n",
      "File \u001b[0;32mpandas/_libs/hashtable_class_helper.pxi:7088\u001b[0m, in \u001b[0;36mpandas._libs.hashtable.PyObjectHashTable.get_item\u001b[0;34m()\u001b[0m\n",
      "\u001b[0;31mKeyError\u001b[0m: 'tp'",
      "\nThe above exception was the direct cause of the following exception:\n",
      "\u001b[0;31mKeyError\u001b[0m                                  Traceback (most recent call last)",
      "Cell \u001b[0;32mIn[98], line 5\u001b[0m\n\u001b[1;32m      3\u001b[0m metric_visualizer\u001b[39m.\u001b[39mvisualize_class_metrics_distribution(df)\n\u001b[1;32m      4\u001b[0m df_metrics_sample \u001b[39m=\u001b[39m metric_visualizer\u001b[39m.\u001b[39mvisualize_class_metrics_distribution_per_class(df)\n\u001b[0;32m----> 5\u001b[0m output_metrics \u001b[39m=\u001b[39m metric_visualizer\u001b[39m.\u001b[39;49mdump_metrics(df_metrics_sample)\n",
      "File \u001b[0;32m~/RelNetCare/src/processing/relation_extraction_evaluator.py:636\u001b[0m, in \u001b[0;36mGranularMetricVisualizer.dump_metrics\u001b[0;34m(self, df_metrics_sample)\u001b[0m\n\u001b[1;32m    633\u001b[0m total_metric \u001b[39m=\u001b[39m \u001b[39m0\u001b[39m\n\u001b[1;32m    635\u001b[0m \u001b[39mfor\u001b[39;00m relation \u001b[39min\u001b[39;00m \u001b[39mself\u001b[39m\u001b[39m.\u001b[39mrelations:\n\u001b[0;32m--> 636\u001b[0m     tp \u001b[39m=\u001b[39m df_metrics_sample[df_metrics_sample[\u001b[39m'\u001b[39;49m\u001b[39mrelation\u001b[39;49m\u001b[39m'\u001b[39;49m] \u001b[39m==\u001b[39;49m relation][\u001b[39m'\u001b[39;49m\u001b[39mtp\u001b[39;49m\u001b[39m'\u001b[39;49m]\u001b[39m.\u001b[39msum()\n\u001b[1;32m    637\u001b[0m     fp \u001b[39m=\u001b[39m df_metrics_sample[df_metrics_sample[\u001b[39m'\u001b[39m\u001b[39mrelation\u001b[39m\u001b[39m'\u001b[39m] \u001b[39m==\u001b[39m relation][\u001b[39m'\u001b[39m\u001b[39mfp\u001b[39m\u001b[39m'\u001b[39m]\u001b[39m.\u001b[39msum()\n\u001b[1;32m    638\u001b[0m     fn \u001b[39m=\u001b[39m df_metrics_sample[df_metrics_sample[\u001b[39m'\u001b[39m\u001b[39mrelation\u001b[39m\u001b[39m'\u001b[39m] \u001b[39m==\u001b[39m relation][\u001b[39m'\u001b[39m\u001b[39mfn\u001b[39m\u001b[39m'\u001b[39m]\u001b[39m.\u001b[39msum()\n",
      "File \u001b[0;32m~/miniconda3/envs/llama-lora/lib/python3.10/site-packages/pandas/core/frame.py:3761\u001b[0m, in \u001b[0;36mDataFrame.__getitem__\u001b[0;34m(self, key)\u001b[0m\n\u001b[1;32m   3759\u001b[0m \u001b[39mif\u001b[39;00m \u001b[39mself\u001b[39m\u001b[39m.\u001b[39mcolumns\u001b[39m.\u001b[39mnlevels \u001b[39m>\u001b[39m \u001b[39m1\u001b[39m:\n\u001b[1;32m   3760\u001b[0m     \u001b[39mreturn\u001b[39;00m \u001b[39mself\u001b[39m\u001b[39m.\u001b[39m_getitem_multilevel(key)\n\u001b[0;32m-> 3761\u001b[0m indexer \u001b[39m=\u001b[39m \u001b[39mself\u001b[39;49m\u001b[39m.\u001b[39;49mcolumns\u001b[39m.\u001b[39;49mget_loc(key)\n\u001b[1;32m   3762\u001b[0m \u001b[39mif\u001b[39;00m is_integer(indexer):\n\u001b[1;32m   3763\u001b[0m     indexer \u001b[39m=\u001b[39m [indexer]\n",
      "File \u001b[0;32m~/miniconda3/envs/llama-lora/lib/python3.10/site-packages/pandas/core/indexes/base.py:3655\u001b[0m, in \u001b[0;36mIndex.get_loc\u001b[0;34m(self, key)\u001b[0m\n\u001b[1;32m   3653\u001b[0m     \u001b[39mreturn\u001b[39;00m \u001b[39mself\u001b[39m\u001b[39m.\u001b[39m_engine\u001b[39m.\u001b[39mget_loc(casted_key)\n\u001b[1;32m   3654\u001b[0m \u001b[39mexcept\u001b[39;00m \u001b[39mKeyError\u001b[39;00m \u001b[39mas\u001b[39;00m err:\n\u001b[0;32m-> 3655\u001b[0m     \u001b[39mraise\u001b[39;00m \u001b[39mKeyError\u001b[39;00m(key) \u001b[39mfrom\u001b[39;00m \u001b[39merr\u001b[39;00m\n\u001b[1;32m   3656\u001b[0m \u001b[39mexcept\u001b[39;00m \u001b[39mTypeError\u001b[39;00m:\n\u001b[1;32m   3657\u001b[0m     \u001b[39m# If we have a listlike key, _check_indexing_error will raise\u001b[39;00m\n\u001b[1;32m   3658\u001b[0m     \u001b[39m#  InvalidIndexError. Otherwise we fall through and re-raise\u001b[39;00m\n\u001b[1;32m   3659\u001b[0m     \u001b[39m#  the TypeError.\u001b[39;00m\n\u001b[1;32m   3660\u001b[0m     \u001b[39mself\u001b[39m\u001b[39m.\u001b[39m_check_indexing_error(key)\n",
      "\u001b[0;31mKeyError\u001b[0m: 'tp'"
     ]
    }
   ],
   "source": [
    "from src.processing.relation_extraction_evaluator import GranularMetricVisualizer\n",
    "metric_visualizer = GranularMetricVisualizer(df=df, model_name=base_model, test_dataset_stem=data_stem, dump_files=True)\n",
    "metric_visualizer.visualize_class_metrics_distribution(df)\n",
    "df_metrics_sample = metric_visualizer.visualize_class_metrics_distribution_per_class(df)\n",
    "output_metrics = metric_visualizer.dump_metrics(df_metrics_sample)\n"
   ]
  },
  {
   "cell_type": "code",
   "execution_count": 107,
   "metadata": {},
   "outputs": [
    {
     "data": {
      "text/plain": [
       "f1\n",
       "0.000000    9217\n",
       "1.000000     563\n",
       "0.666667     287\n",
       "0.500000      22\n",
       "0.400000       3\n",
       "Name: count, dtype: int64"
      ]
     },
     "execution_count": 107,
     "metadata": {},
     "output_type": "execute_result"
    }
   ],
   "source": [
    "df_metrics_sample['f1'].value_counts()"
   ]
  },
  {
   "cell_type": "code",
   "execution_count": 182,
   "metadata": {},
   "outputs": [
    {
     "name": "stdout",
     "output_type": "stream",
     "text": [
      "output_dir= /home/murilo/RelNetCare/data/processed/dialog-re-llama-11cls-trToDial-rwrtKeys-instrA\n"
     ]
    }
   ],
   "source": [
    "from src.processing.relation_extraction_evaluator import GranularMetricVisualizer\n",
    "metric_visualizer = GranularMetricVisualizer(df=df, model_name=base_model, test_dataset_stem=data_stem)\n",
    "# output_metrics = metric_visualizer.dump_metrics(df_metrics_sample)\n",
    "# output =  metric_visualizer.compute_metrics(df)\n",
    "# output"
   ]
  },
  {
   "cell_type": "code",
   "execution_count": 184,
   "metadata": {},
   "outputs": [
    {
     "data": {
      "text/plain": [
       "{'micro_avg': {'precision': 0.11233053582956747,\n",
       "  'recall': 0.11717171717171718,\n",
       "  'f1': 0.11470006591957813},\n",
       " 'macro_avg': {'precision': 0.017142290923503764,\n",
       "  'recall': 0.01198143744219844,\n",
       "  'f1': 0.013660985599154475},\n",
       " 'per_class': {'place_of_residence': {'precision': 0.18571428571428572,\n",
       "   'recall': 0.2653061224489796,\n",
       "   'f1': 0.21848739495798322},\n",
       "  'residents_of_place': {'precision': 0.13114754098360656,\n",
       "   'recall': 0.16326530612244897,\n",
       "   'f1': 0.14545454545454545},\n",
       "  'siblings': {'precision': 0.2166172106824926,\n",
       "   'recall': 0.19623655913978494,\n",
       "   'f1': 0.2059238363892807},\n",
       "  'spouse': {'precision': 0.05128205128205128,\n",
       "   'recall': 0.00819672131147541,\n",
       "   'f1': 0.014134275618374558},\n",
       "  'other_family': {'precision': 0.046153846153846156,\n",
       "   'recall': 0.18461538461538463,\n",
       "   'f1': 0.07384615384615385},\n",
       "  'pet': {'precision': 0.5,\n",
       "   'recall': 0.25925925925925924,\n",
       "   'f1': 0.3414634146341463},\n",
       "  'children': {'precision': 0.05934718100890208,\n",
       "   'recall': 0.10362694300518134,\n",
       "   'f1': 0.07547169811320754},\n",
       "  'parents': {'precision': 0.06,\n",
       "   'recall': 0.11428571428571428,\n",
       "   'f1': 0.07868852459016394},\n",
       "  'acquaintance': {'precision': 0.07692307692307693,\n",
       "   'recall': 0.006493506493506494,\n",
       "   'f1': 0.01197604790419162},\n",
       "  'visited_place': {'precision': 0.8,\n",
       "   'recall': 0.13114754098360656,\n",
       "   'f1': 0.22535211267605634},\n",
       "  'visitors_of_place': {'precision': 0.75,\n",
       "   'recall': 0.09836065573770492,\n",
       "   'f1': 0.17391304347826086},\n",
       "  'null_relation': {'precision': 0, 'recall': 0, 'f1': 0}}}"
      ]
     },
     "execution_count": 184,
     "metadata": {},
     "output_type": "execute_result"
    }
   ],
   "source": [
    "metric_visualizer.metrics"
   ]
  },
  {
   "cell_type": "code",
   "execution_count": 154,
   "metadata": {},
   "outputs": [
    {
     "data": {
      "text/plain": [
       "['place_of_residence',\n",
       " 'residents_of_place',\n",
       " 'siblings',\n",
       " 'spouse',\n",
       " 'other_family',\n",
       " 'pet',\n",
       " 'children',\n",
       " 'parents',\n",
       " 'acquaintance',\n",
       " 'visited_place',\n",
       " 'visitors_of_place',\n",
       " 'no_relation']"
      ]
     },
     "execution_count": 154,
     "metadata": {},
     "output_type": "execute_result"
    }
   ],
   "source": [
    "relations"
   ]
  },
  {
   "cell_type": "code",
   "execution_count": 173,
   "metadata": {},
   "outputs": [],
   "source": [
    "# row = {}\n",
    "# row['true_labels'] = \\\n",
    "# [{'subject': 'Speaker 2', 'relation': 'siblings', 'object': 'Speaker 1'}, # correct!\n",
    "#  {'subject': 'Speaker 1', 'relation': 'siblings', 'object': 'Speaker 2'}] # false!\n",
    "\n",
    "\n",
    "# row['predicted_labels'] = \\\n",
    "# [{'subject': 'Speaker 2', 'relation': 'siblings', 'object': 'Speaker 1'}, # correct\n",
    "#  {'subject': 'Speaker 1', 'relation': 'other_family', 'object': 'Speaker 2'}] #false\n",
    "\n",
    "# def compute_failure_modes(row, relations):\n",
    "#     output = {}\n",
    "#     true_label_dicts = row['true_labels']\n",
    "#     pred_label_dicts = row['predicted_labels']\n",
    "\n",
    "#     true_labels_str = [str(l) for l in true_label_dicts] if true_label_dicts else ['no_relation']\n",
    "#     pred_labels_str = [str(l) for l in pred_label_dicts] if pred_label_dicts else ['no_relation']\n",
    "    \n",
    "#     for r in relations:\n",
    "#         true_labels_with_rel = [l for l in true_labels_str if r in l]\n",
    "#         pred_labels_with_rel = [l for l in pred_labels_str if r in l]\n",
    "        \n",
    "#         tp_list = [l for l in true_labels_with_rel if l in pred_labels_with_rel]\n",
    "#         fp_list = [l for l in pred_labels_with_rel if l not in true_labels_with_rel]\n",
    "#         fn_list = [l for l in true_labels_with_rel if l not in pred_labels_with_rel]\n",
    "#         tn_list = [l for l in pred_labels_with_rel if l not in fp_list]  # Tweaked this line\n",
    "\n",
    "#         output[r] = {\n",
    "#             'list': {\n",
    "#                 'tp': tp_list,\n",
    "#                 'fp': fp_list,\n",
    "#                 'tn': tn_list,  # Also tweaked this\n",
    "#                 'fn': fn_list\n",
    "#             },\n",
    "#             'counts': {\n",
    "#                 'tp': len(tp_list),\n",
    "#                 'fp': len(fp_list),\n",
    "#                 'tn': len(tn_list),  # And this\n",
    "#                 'fn': len(fn_list),\n",
    "#             }\n",
    "#         }\n",
    "#     return output\n",
    "\n",
    "# relations = df.true_labels.apply(lambda rels: [r['relation'] for r in rels]).explode().dropna().unique().tolist() + ['no_relation']\n",
    "\n",
    "# compute_failure_modes(row, relations)"
   ]
  },
  {
   "cell_type": "code",
   "execution_count": 172,
   "metadata": {},
   "outputs": [],
   "source": [
    "# df['failure_modes'] = df.apply(compute_failure_modes, relations=relations, axis=1)"
   ]
  },
  {
   "cell_type": "code",
   "execution_count": 171,
   "metadata": {},
   "outputs": [],
   "source": [
    "# df['failure_modes'].iloc[0]"
   ]
  },
  {
   "cell_type": "code",
   "execution_count": 170,
   "metadata": {},
   "outputs": [],
   "source": [
    "# from collections import defaultdict\n",
    "\n",
    "# def calculate_metrics(failure_modes_df):\n",
    "#     # Initialize sums for micro-average\n",
    "#     micro_sum = defaultdict(int)\n",
    "    \n",
    "#     # Initialize lists for macro-average\n",
    "#     macro_precision = []\n",
    "#     macro_recall = []\n",
    "#     macro_f1 = []\n",
    "\n",
    "#     for row in failure_modes_df:\n",
    "#         for rel, data in row.items():\n",
    "#             tp = data['counts']['tp']\n",
    "#             fp = data['counts']['fp']\n",
    "#             fn = data['counts']['fn']\n",
    "            \n",
    "#             # Sum counts for micro-average\n",
    "#             micro_sum['tp'] += tp\n",
    "#             micro_sum['fp'] += fp\n",
    "#             micro_sum['fn'] += fn\n",
    "            \n",
    "#             # Calculate per-relation metrics\n",
    "#             if tp + fp == 0:\n",
    "#                 precision = 0\n",
    "#             else:\n",
    "#                 precision = tp / (tp + fp)\n",
    "            \n",
    "#             if tp + fn == 0:\n",
    "#                 recall = 0\n",
    "#             else:\n",
    "#                 recall = tp / (tp + fn)\n",
    "            \n",
    "#             if precision + recall == 0:\n",
    "#                 f1 = 0\n",
    "#             else:\n",
    "#                 f1 = 2 * (precision * recall) / (precision + recall)\n",
    "            \n",
    "#             # Append to lists for macro-average\n",
    "#             macro_precision.append(precision)\n",
    "#             macro_recall.append(recall)\n",
    "#             macro_f1.append(f1)\n",
    "\n",
    "#     # Micro-average\n",
    "#     micro_precision = micro_sum['tp'] / (micro_sum['tp'] + micro_sum['fp'])\n",
    "#     micro_recall = micro_sum['tp'] / (micro_sum['tp'] + micro_sum['fn'])\n",
    "#     micro_f1 = 2 * (micro_precision * micro_recall) / (micro_precision + micro_recall)\n",
    "    \n",
    "#     # Macro-average\n",
    "#     macro_precision = sum(macro_precision) / len(macro_precision)\n",
    "#     macro_recall = sum(macro_recall) / len(macro_recall)\n",
    "#     macro_f1 = sum(macro_f1) / len(macro_f1)\n",
    "    \n",
    "#     return { 'micro_avg':\n",
    "#         {'precision': micro_precision,\n",
    "#         'recall': micro_recall,\n",
    "#         'f1': micro_f1},\n",
    "#         'macro_avg':\n",
    "#         {'precision': macro_precision,\n",
    "#         'recall': macro_recall,\n",
    "#         'f1': macro_f1}}\n",
    "\n",
    "# # Assume failure_modes_df is your dataframe converted to a list of dictionaries\n",
    "# result = calculate_metrics(df['failure_modes'])\n",
    "# result"
   ]
  },
  {
   "cell_type": "code",
   "execution_count": 168,
   "metadata": {},
   "outputs": [
    {
     "name": "stdout",
     "output_type": "stream",
     "text": [
      "output_dir= /home/murilo/RelNetCare/data/processed/dialog-re-llama-11cls-trToDial-rwrtKeys-instrA\n"
     ]
    }
   ],
   "source": [
    "# from collections import defaultdict\n",
    "\n",
    "# def calculate_per_class_metrics(failure_modes_df):\n",
    "#     class_metrics = defaultdict(lambda: defaultdict(int))\n",
    "\n",
    "#     for row in failure_modes_df:\n",
    "#         for rel, data in row.items():\n",
    "#             tp = data['counts']['tp']\n",
    "#             fp = data['counts']['fp']\n",
    "#             fn = data['counts']['fn']\n",
    "            \n",
    "#             # Update class-specific metrics\n",
    "#             class_metrics[rel]['tp'] += tp\n",
    "#             class_metrics[rel]['fp'] += fp\n",
    "#             class_metrics[rel]['fn'] += fn\n",
    "\n",
    "#     # Calculate the final metrics for each class\n",
    "#     final_class_metrics = {}\n",
    "#     for rel, counts in class_metrics.items():\n",
    "#         tp = counts['tp']\n",
    "#         fp = counts['fp']\n",
    "#         fn = counts['fn']\n",
    "        \n",
    "#         if tp + fp == 0:\n",
    "#             precision = 0\n",
    "#         else:\n",
    "#             precision = tp / (tp + fp)\n",
    "            \n",
    "#         if tp + fn == 0:\n",
    "#             recall = 0\n",
    "#         else:\n",
    "#             recall = tp / (tp + fn)\n",
    "            \n",
    "#         if precision + recall == 0:\n",
    "#             f1 = 0\n",
    "#         else:\n",
    "#             f1 = 2 * (precision * recall) / (precision + recall)\n",
    "        \n",
    "#         final_class_metrics[rel] = {\n",
    "#             'Precision': precision,\n",
    "#             'Recall': recall,\n",
    "#             'F1 Score': f1\n",
    "#         }\n",
    "\n",
    "#     return final_class_metrics\n",
    "\n",
    "# # Assume failure_modes_df is your dataframe converted to a list of dictionaries\n",
    "# result = calculate_per_class_metrics(df['failure_modes'])\n",
    "# result"
   ]
  },
  {
   "cell_type": "code",
   "execution_count": 169,
   "metadata": {},
   "outputs": [],
   "source": [
    "# # Test Data\n",
    "# test_cases = [\n",
    "#     {\n",
    "#         'name': 'Test Case 1',\n",
    "#         'input': {\n",
    "#             'true_labels': [\n",
    "#                 {'subject': 'S1', 'relation': 'siblings', 'object': 'S2'},\n",
    "#                 {'subject': 'S2', 'relation': 'siblings', 'object': 'S1'},\n",
    "#             ],\n",
    "#             'predicted_labels': [\n",
    "#                 {'subject': 'S1', 'relation': 'siblings', 'object': 'S2'},\n",
    "#                 {'subject': 'S2', 'relation': 'siblings', 'object': 'S1'},\n",
    "#             ]\n",
    "#         },\n",
    "#         'expected': {'siblings': {'tp': 2, 'fp': 0, 'tn': 0, 'fn': 0}}\n",
    "#     },\n",
    "#     {\n",
    "#         'name': 'Test Case 2',\n",
    "#         'input': {\n",
    "#             'true_labels': [\n",
    "#                 {'subject': 'S1', 'relation': 'siblings', 'object': 'S2'},\n",
    "#                 {'subject': 'S2', 'relation': 'siblings', 'object': 'S1'},\n",
    "#             ],\n",
    "#             'predicted_labels': [\n",
    "#                 {'subject': 'S1', 'relation': 'other_family', 'object': 'S2'},\n",
    "#                 {'subject': 'S2', 'relation': 'other_family', 'object': 'S1'},\n",
    "#             ]\n",
    "#         },\n",
    "#         'expected': {'siblings': {'tp': 0, 'fp': 0, 'tn': 0, 'fn': 2},\n",
    "#                      'other_family': {'tp': 0, 'fp': 2, 'tn': 0, 'fn': 0}}\n",
    "#     },\n",
    "#     {\n",
    "#         'name': 'Test Case 3',\n",
    "#         'input': {\n",
    "#             'true_labels': [\n",
    "#                 {'subject': 'S1', 'relation': 'siblings', 'object': 'S2'},\n",
    "#                 {'subject': 'S2', 'relation': 'siblings', 'object': 'S1'},\n",
    "#             ],\n",
    "#             'predicted_labels': [\n",
    "#                 {'subject': 'S1', 'relation': 'siblings', 'object': 'S2'},\n",
    "#                 {'subject': 'S2', 'relation': 'other_family', 'object': 'S1'},\n",
    "#             ]\n",
    "#         },\n",
    "#         'expected': {'siblings': {'tp': 1, 'fp': 0, 'tn': 0, 'fn': 1},\n",
    "#                      'other_family': {'tp': 0, 'fp': 1, 'tn': 0, 'fn': 0}}\n",
    "#     }\n",
    "# ]\n",
    "\n",
    "# # ... Previous test cases ...\n",
    "\n",
    "# test_cases += [\n",
    "#     {\n",
    "#         'name': 'Test Case 4',\n",
    "#         'input': {\n",
    "#             'true_labels': [\n",
    "#                 {'subject': 'S1', 'relation': 'siblings', 'object': 'S2'},\n",
    "#                 {'subject': 'S2', 'relation': 'siblings', 'object': 'S1'},\n",
    "#             ],\n",
    "#             'predicted_labels': []\n",
    "#         },\n",
    "#         'expected': {'siblings': {'tp': 0, 'fp': 0, 'tn': 0, 'fn': 2}}\n",
    "#     },\n",
    "#     {\n",
    "#         'name': 'Test Case 5',\n",
    "#         'input': {\n",
    "#             'true_labels': [],\n",
    "#             'predicted_labels': [\n",
    "#                 {'subject': 'S1', 'relation': 'siblings', 'object': 'S2'},\n",
    "#                 {'subject': 'S2', 'relation': 'siblings', 'object': 'S1'},\n",
    "#             ]\n",
    "#         },\n",
    "#         'expected': {'siblings': {'tp': 0, 'fp': 2, 'tn': 0, 'fn': 0}}\n",
    "#     },\n",
    "#     {\n",
    "#         'name': 'Test Case 6',\n",
    "#         'input': {\n",
    "#             'true_labels': [],\n",
    "#             'predicted_labels': []\n",
    "#         },\n",
    "#         'expected': {}  # No relations, hence empty dictionary.\n",
    "#     },\n",
    "#     {\n",
    "#         'name': 'Test Case 7',\n",
    "#         'input': {\n",
    "#             'true_labels': [\n",
    "#                 {'subject': 'S1', 'relation': 'siblings', 'object': 'S2'},\n",
    "#                 {'subject': 'S2', 'relation': 'other_family', 'object': 'S3'},\n",
    "#                 {'subject': 'S2', 'relation': 'other_family', 'object': 'S4'},\n",
    "#                 {'subject': 'S1', 'relation': 'friends', 'object': 'S4'}\n",
    "#             ],\n",
    "#             'predicted_labels': [\n",
    "#                 {'subject': 'S1', 'relation': 'siblings', 'object': 'S2'},\n",
    "#                 {'subject': 'S2', 'relation': 'other_family', 'object': 'S3'},\n",
    "#                 {'subject': 'S2', 'relation': 'friends', 'object': 'S4'},\n",
    "#                 {'subject': 'S1', 'relation': 'friends', 'object': 'S4'}\n",
    "#             ]\n",
    "#         },\n",
    "#         'expected': {\n",
    "#             'siblings': {'tp': 1, 'fp': 0, 'tn': 0, 'fn': 0},\n",
    "#             'other_family': {'tp': 1, 'fp': 0, 'tn': 0, 'fn': 1},\n",
    "#             'friends': {'tp': 1, 'fp': 1, 'tn': 0, 'fn': 0}\n",
    "#         }\n",
    "#     }\n",
    "# ]\n",
    "\n",
    "# # ... Run Tests ...\n",
    "\n",
    "\n",
    "# # Run Tests\n",
    "# for test in test_cases:\n",
    "#     result = compute_failure_modes(test['input'])\n",
    "#     assert result == test['expected'], f\"{test['name']} failed!\"\n",
    "#     print(f\"{test['name']} passed!\")\n"
   ]
  },
  {
   "cell_type": "code",
   "execution_count": 135,
   "metadata": {},
   "outputs": [
    {
     "data": {
      "text/plain": [
       "{'siblings': {'tp': 2, 'fp': 0, 'tn': 0, 'fn': 0}}"
      ]
     },
     "execution_count": 135,
     "metadata": {},
     "output_type": "execute_result"
    }
   ],
   "source": [
    "test['expected']"
   ]
  },
  {
   "cell_type": "code",
   "execution_count": 132,
   "metadata": {},
   "outputs": [
    {
     "data": {
      "text/plain": [
       "{'siblings': {'tp_list': [\"{'subject': 'S1', 'relation': 'siblings', 'object': 'S2'}\",\n",
       "   \"{'subject': 'S2', 'relation': 'siblings', 'object': 'S1'}\"],\n",
       "  'fp_list': [],\n",
       "  'tn_list': [],\n",
       "  'fn_list': [],\n",
       "  'tp_count': 2,\n",
       "  'fp_count': 0,\n",
       "  'tn_count': 0,\n",
       "  'fn_count': 0}}"
      ]
     },
     "execution_count": 132,
     "metadata": {},
     "output_type": "execute_result"
    }
   ],
   "source": [
    "result"
   ]
  },
  {
   "cell_type": "code",
   "execution_count": 121,
   "metadata": {},
   "outputs": [
    {
     "data": {
      "text/plain": [
       "{'place_of_residence', 'residents_of_place'}"
      ]
     },
     "execution_count": 121,
     "metadata": {},
     "output_type": "execute_result"
    }
   ],
   "source": [
    "relations"
   ]
  },
  {
   "cell_type": "code",
   "execution_count": 127,
   "metadata": {},
   "outputs": [
    {
     "data": {
      "text/plain": [
       "[{'subject': 'Speaker 2', 'relation': 'siblings', 'object': 'Speaker 1'},\n",
       " {'subject': 'Speaker 1', 'relation': 'siblings', 'object': 'Speaker 2'}]"
      ]
     },
     "execution_count": 127,
     "metadata": {},
     "output_type": "execute_result"
    }
   ],
   "source": [
    "df[df.f1s > 0].iloc[0].true_labels"
   ]
  },
  {
   "cell_type": "code",
   "execution_count": 128,
   "metadata": {},
   "outputs": [
    {
     "data": {
      "text/plain": [
       "[{'subject': 'Speaker 2', 'relation': 'siblings', 'object': 'Speaker 1'},\n",
       " {'subject': 'Speaker 1', 'relation': 'other_family', 'object': 'Speaker 2'}]"
      ]
     },
     "execution_count": 128,
     "metadata": {},
     "output_type": "execute_result"
    }
   ],
   "source": [
    "df[df.f1s > 0].iloc[0].predicted_labels\n"
   ]
  },
  {
   "cell_type": "code",
   "execution_count": 54,
   "metadata": {},
   "outputs": [
    {
     "data": {
      "text/plain": [
       "correct_labels\n",
       "siblings              73\n",
       "parents               24\n",
       "children              20\n",
       "place_of_residence    13\n",
       "other_family          12\n",
       "visited_place          8\n",
       "residents_of_place     8\n",
       "pet                    7\n",
       "visitors_of_place      6\n",
       "spouse                 2\n",
       "acquaintance           1\n",
       "Name: count, dtype: int64"
      ]
     },
     "execution_count": 54,
     "metadata": {},
     "output_type": "execute_result"
    }
   ],
   "source": [
    "df.correct_labels.explode().dropna().map(lambda x: x['relation']).value_counts()"
   ]
  },
  {
   "cell_type": "code",
   "execution_count": 15,
   "metadata": {},
   "outputs": [],
   "source": [
    "# # Release GPU\n",
    "model.cpu()\n",
    "del model\n",
    "torch.cuda.empty_cache()\n"
   ]
  }
 ],
 "metadata": {
  "kernelspec": {
   "display_name": "llama-lora",
   "language": "python",
   "name": "python3"
  },
  "language_info": {
   "codemirror_mode": {
    "name": "ipython",
    "version": 3
   },
   "file_extension": ".py",
   "mimetype": "text/x-python",
   "name": "python",
   "nbconvert_exporter": "python",
   "pygments_lexer": "ipython3",
   "version": "3.10.12"
  },
  "orig_nbformat": 4
 },
 "nbformat": 4,
 "nbformat_minor": 2
}
