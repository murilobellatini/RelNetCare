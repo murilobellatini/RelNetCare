{
 "cells": [
  {
   "cell_type": "code",
   "execution_count": 1,
   "metadata": {},
   "outputs": [],
   "source": [
    "%load_ext autoreload\n",
    "%autoreload 2"
   ]
  },
  {
   "cell_type": "code",
   "execution_count": 3,
   "metadata": {},
   "outputs": [
    {
     "name": "stdout",
     "output_type": "stream",
     "text": [
      "output_dir= /home/murilo/RelNetCare/data/processed/dialog-re-llama-12cls-balPairs-rebalPairs-rwrtKeys-instrC-shfflDt-GrpClsPairs3x-rwrtKeys-instrC-mxTrnCp3-shfflDt-Attachment\n"
     ]
    },
    {
     "name": "stderr",
     "output_type": "stream",
     "text": [
      "                                                                                                                          \r"
     ]
    },
    {
     "name": "stdout",
     "output_type": "stream",
     "text": [
      "\n",
      "Script successfully executed!\n",
      "Avg P: 34.3% | Avg R: 34.3% | Avg F1: 33.3% | Errors: 0/2098 (0%)\n",
      "# INFERENCE REPORT\n",
      "/home/murilo/RelNetCare/data/processed/dialog-re-llama-12cls-rebalPairs3x-rwrtKeys-instrC-mxTrnCp3-shfflDt-GrpClsAttachment/dialog-re-llama-12cls-rebalPairs3x-rwrtKeys-instrC-mxTrnCp3-shfflDt-GrpClsAttachment-test_20230914_100045.xlsx\n",
      "\n"
     ]
    },
    {
     "data": {
      "text/html": [
       "<div>\n",
       "<style scoped>\n",
       "    .dataframe tbody tr th:only-of-type {\n",
       "        vertical-align: middle;\n",
       "    }\n",
       "\n",
       "    .dataframe tbody tr th {\n",
       "        vertical-align: top;\n",
       "    }\n",
       "\n",
       "    .dataframe thead th {\n",
       "        text-align: right;\n",
       "    }\n",
       "</style>\n",
       "<table border=\"1\" class=\"dataframe\">\n",
       "  <thead>\n",
       "    <tr style=\"text-align: right;\">\n",
       "      <th></th>\n",
       "      <th>id</th>\n",
       "      <th>prompt</th>\n",
       "      <th>raw_inference</th>\n",
       "      <th>true_labels</th>\n",
       "      <th>predicted_labels</th>\n",
       "      <th>correct_labels</th>\n",
       "      <th>wrong_labels</th>\n",
       "      <th>missing_labels</th>\n",
       "      <th>dialogue</th>\n",
       "      <th>f1s</th>\n",
       "      <th>precision</th>\n",
       "      <th>recall</th>\n",
       "      <th>error_message</th>\n",
       "    </tr>\n",
       "  </thead>\n",
       "  <tbody>\n",
       "    <tr>\n",
       "      <th>689</th>\n",
       "      <td>identity_119_016</td>\n",
       "      <td>Extract entities and relations from the dialog...</td>\n",
       "      <td>[\\n {\\n  \"subject\": \"Speaker 6\",\\n  \"subject_t...</td>\n",
       "      <td>[\\n {\\n  \"subject\": \"Speaker 6\",\\n  \"subject_t...</td>\n",
       "      <td>[\\n {\\n  \"subject\": \"Speaker 6\",\\n  \"subject_t...</td>\n",
       "      <td>[\\n {\\n  \"subject\": \"Speaker 6\",\\n  \"subject_t...</td>\n",
       "      <td>[]</td>\n",
       "      <td>[]</td>\n",
       "      <td>Extract entities and relations from the dialog...</td>\n",
       "      <td>1.0</td>\n",
       "      <td>1.0</td>\n",
       "      <td>1.0</td>\n",
       "      <td></td>\n",
       "    </tr>\n",
       "    <tr>\n",
       "      <th>418</th>\n",
       "      <td>identity_125_013</td>\n",
       "      <td>Extract entities and relations from the dialog...</td>\n",
       "      <td>[\\n {\\n  \"subject\": \"Speaker 5\",\\n  \"subject_t...</td>\n",
       "      <td>[\\n {\\n  \"subject\": \"Speaker 5\",\\n  \"subject_t...</td>\n",
       "      <td>[\\n {\\n  \"subject\": \"Speaker 5\",\\n  \"subject_t...</td>\n",
       "      <td>[\\n {\\n  \"subject\": \"Speaker 5\",\\n  \"subject_t...</td>\n",
       "      <td>[]</td>\n",
       "      <td>[]</td>\n",
       "      <td>Extract entities and relations from the dialog...</td>\n",
       "      <td>1.0</td>\n",
       "      <td>1.0</td>\n",
       "      <td>1.0</td>\n",
       "      <td></td>\n",
       "    </tr>\n",
       "    <tr>\n",
       "      <th>1209</th>\n",
       "      <td>identity_125_011</td>\n",
       "      <td>Extract entities and relations from the dialog...</td>\n",
       "      <td>[\\n {\\n  \"subject\": \"Speaker 5\",\\n  \"subject_t...</td>\n",
       "      <td>[\\n {\\n  \"subject\": \"Speaker 5\",\\n  \"subject_t...</td>\n",
       "      <td>[\\n {\\n  \"subject\": \"Speaker 5\",\\n  \"subject_t...</td>\n",
       "      <td>[\\n {\\n  \"subject\": \"Speaker 5\",\\n  \"subject_t...</td>\n",
       "      <td>[]</td>\n",
       "      <td>[]</td>\n",
       "      <td>Extract entities and relations from the dialog...</td>\n",
       "      <td>1.0</td>\n",
       "      <td>1.0</td>\n",
       "      <td>1.0</td>\n",
       "      <td></td>\n",
       "    </tr>\n",
       "    <tr>\n",
       "      <th>563</th>\n",
       "      <td>identity_119_018</td>\n",
       "      <td>Extract entities and relations from the dialog...</td>\n",
       "      <td>[\\n {\\n  \"subject\": \"Speaker 4\",\\n  \"subject_t...</td>\n",
       "      <td>[\\n {\\n  \"subject\": \"Speaker 6\",\\n  \"subject_t...</td>\n",
       "      <td>[\\n {\\n  \"subject\": \"Speaker 4\",\\n  \"subject_t...</td>\n",
       "      <td>[\\n {\\n  \"subject\": \"Speaker 6\",\\n  \"subject_t...</td>\n",
       "      <td>[]</td>\n",
       "      <td>[]</td>\n",
       "      <td>Extract entities and relations from the dialog...</td>\n",
       "      <td>1.0</td>\n",
       "      <td>1.0</td>\n",
       "      <td>1.0</td>\n",
       "      <td></td>\n",
       "    </tr>\n",
       "    <tr>\n",
       "      <th>1720</th>\n",
       "      <td>identity_119_017</td>\n",
       "      <td>Extract entities and relations from the dialog...</td>\n",
       "      <td>[\\n {\\n  \"subject\": \"Speaker 4\",\\n  \"subject_t...</td>\n",
       "      <td>[\\n {\\n  \"subject\": \"Speaker 6\",\\n  \"subject_t...</td>\n",
       "      <td>[\\n {\\n  \"subject\": \"Speaker 4\",\\n  \"subject_t...</td>\n",
       "      <td>[\\n {\\n  \"subject\": \"Speaker 6\",\\n  \"subject_t...</td>\n",
       "      <td>[]</td>\n",
       "      <td>[]</td>\n",
       "      <td>Extract entities and relations from the dialog...</td>\n",
       "      <td>1.0</td>\n",
       "      <td>1.0</td>\n",
       "      <td>1.0</td>\n",
       "      <td></td>\n",
       "    </tr>\n",
       "    <tr>\n",
       "      <th>...</th>\n",
       "      <td>...</td>\n",
       "      <td>...</td>\n",
       "      <td>...</td>\n",
       "      <td>...</td>\n",
       "      <td>...</td>\n",
       "      <td>...</td>\n",
       "      <td>...</td>\n",
       "      <td>...</td>\n",
       "      <td>...</td>\n",
       "      <td>...</td>\n",
       "      <td>...</td>\n",
       "      <td>...</td>\n",
       "      <td>...</td>\n",
       "    </tr>\n",
       "    <tr>\n",
       "      <th>1657</th>\n",
       "      <td>identity_194_004</td>\n",
       "      <td>Extract entities and relations from the dialog...</td>\n",
       "      <td>[\\n {\\n  \"subject\": \"Dr. Kenneth Schwartz\",\\n ...</td>\n",
       "      <td>[]</td>\n",
       "      <td>[\\n {\\n  \"subject\": \"Dr. Kenneth Schwartz\",\\n ...</td>\n",
       "      <td>[]</td>\n",
       "      <td>[\\n {\\n  \"subject\": \"Speaker 1\",\\n  \"subject_t...</td>\n",
       "      <td>[]</td>\n",
       "      <td>Extract entities and relations from the dialog...</td>\n",
       "      <td>0.0</td>\n",
       "      <td>0.0</td>\n",
       "      <td>0.0</td>\n",
       "      <td></td>\n",
       "    </tr>\n",
       "    <tr>\n",
       "      <th>1023</th>\n",
       "      <td>identity_194_002</td>\n",
       "      <td>Extract entities and relations from the dialog...</td>\n",
       "      <td>[\\n {\\n  \"subject\": \"Dr. Kenneth Schwartz\",\\n ...</td>\n",
       "      <td>[]</td>\n",
       "      <td>[\\n {\\n  \"subject\": \"Dr. Kenneth Schwartz\",\\n ...</td>\n",
       "      <td>[]</td>\n",
       "      <td>[\\n {\\n  \"subject\": \"Dr. Kenneth Schwartz\",\\n ...</td>\n",
       "      <td>[]</td>\n",
       "      <td>Extract entities and relations from the dialog...</td>\n",
       "      <td>0.0</td>\n",
       "      <td>0.0</td>\n",
       "      <td>0.0</td>\n",
       "      <td></td>\n",
       "    </tr>\n",
       "    <tr>\n",
       "      <th>1604</th>\n",
       "      <td>identity_70_000</td>\n",
       "      <td>Extract entities and relations from the dialog...</td>\n",
       "      <td>[\\n {\\n  \"subject\": \"Dr. Drake Remoray\",\\n  \"s...</td>\n",
       "      <td>[]</td>\n",
       "      <td>[\\n {\\n  \"subject\": \"Dr. Drake Remoray\",\\n  \"s...</td>\n",
       "      <td>[]</td>\n",
       "      <td>[\\n {\\n  \"subject\": \"Dr. Drake Remoray\",\\n  \"s...</td>\n",
       "      <td>[]</td>\n",
       "      <td>Extract entities and relations from the dialog...</td>\n",
       "      <td>0.0</td>\n",
       "      <td>0.0</td>\n",
       "      <td>0.0</td>\n",
       "      <td></td>\n",
       "    </tr>\n",
       "    <tr>\n",
       "      <th>632</th>\n",
       "      <td>identity_151_003</td>\n",
       "      <td>Extract entities and relations from the dialog...</td>\n",
       "      <td>[\\n {\\n  \"subject\": \"Don\",\\n  \"subject_type\": ...</td>\n",
       "      <td>[]</td>\n",
       "      <td>[\\n {\\n  \"subject\": \"Don\",\\n  \"subject_type\": ...</td>\n",
       "      <td>[]</td>\n",
       "      <td>[\\n {\\n  \"subject\": \"Janet\",\\n  \"subject_type\"...</td>\n",
       "      <td>[]</td>\n",
       "      <td>Extract entities and relations from the dialog...</td>\n",
       "      <td>0.0</td>\n",
       "      <td>0.0</td>\n",
       "      <td>0.0</td>\n",
       "      <td></td>\n",
       "    </tr>\n",
       "    <tr>\n",
       "      <th>1039</th>\n",
       "      <td>identity_151_001</td>\n",
       "      <td>Extract entities and relations from the dialog...</td>\n",
       "      <td>[\\n {\\n  \"subject\": \"Don\",\\n  \"subject_type\": ...</td>\n",
       "      <td>[]</td>\n",
       "      <td>[\\n {\\n  \"subject\": \"Don\",\\n  \"subject_type\": ...</td>\n",
       "      <td>[]</td>\n",
       "      <td>[\\n {\\n  \"subject\": \"Janet\",\\n  \"subject_type\"...</td>\n",
       "      <td>[]</td>\n",
       "      <td>Extract entities and relations from the dialog...</td>\n",
       "      <td>0.0</td>\n",
       "      <td>0.0</td>\n",
       "      <td>0.0</td>\n",
       "      <td></td>\n",
       "    </tr>\n",
       "  </tbody>\n",
       "</table>\n",
       "<p>2098 rows × 13 columns</p>\n",
       "</div>"
      ],
      "text/plain": [
       "                    id                                             prompt  \\\n",
       "689   identity_119_016  Extract entities and relations from the dialog...   \n",
       "418   identity_125_013  Extract entities and relations from the dialog...   \n",
       "1209  identity_125_011  Extract entities and relations from the dialog...   \n",
       "563   identity_119_018  Extract entities and relations from the dialog...   \n",
       "1720  identity_119_017  Extract entities and relations from the dialog...   \n",
       "...                ...                                                ...   \n",
       "1657  identity_194_004  Extract entities and relations from the dialog...   \n",
       "1023  identity_194_002  Extract entities and relations from the dialog...   \n",
       "1604   identity_70_000  Extract entities and relations from the dialog...   \n",
       "632   identity_151_003  Extract entities and relations from the dialog...   \n",
       "1039  identity_151_001  Extract entities and relations from the dialog...   \n",
       "\n",
       "                                          raw_inference  \\\n",
       "689   [\\n {\\n  \"subject\": \"Speaker 6\",\\n  \"subject_t...   \n",
       "418   [\\n {\\n  \"subject\": \"Speaker 5\",\\n  \"subject_t...   \n",
       "1209  [\\n {\\n  \"subject\": \"Speaker 5\",\\n  \"subject_t...   \n",
       "563   [\\n {\\n  \"subject\": \"Speaker 4\",\\n  \"subject_t...   \n",
       "1720  [\\n {\\n  \"subject\": \"Speaker 4\",\\n  \"subject_t...   \n",
       "...                                                 ...   \n",
       "1657  [\\n {\\n  \"subject\": \"Dr. Kenneth Schwartz\",\\n ...   \n",
       "1023  [\\n {\\n  \"subject\": \"Dr. Kenneth Schwartz\",\\n ...   \n",
       "1604  [\\n {\\n  \"subject\": \"Dr. Drake Remoray\",\\n  \"s...   \n",
       "632   [\\n {\\n  \"subject\": \"Don\",\\n  \"subject_type\": ...   \n",
       "1039  [\\n {\\n  \"subject\": \"Don\",\\n  \"subject_type\": ...   \n",
       "\n",
       "                                            true_labels  \\\n",
       "689   [\\n {\\n  \"subject\": \"Speaker 6\",\\n  \"subject_t...   \n",
       "418   [\\n {\\n  \"subject\": \"Speaker 5\",\\n  \"subject_t...   \n",
       "1209  [\\n {\\n  \"subject\": \"Speaker 5\",\\n  \"subject_t...   \n",
       "563   [\\n {\\n  \"subject\": \"Speaker 6\",\\n  \"subject_t...   \n",
       "1720  [\\n {\\n  \"subject\": \"Speaker 6\",\\n  \"subject_t...   \n",
       "...                                                 ...   \n",
       "1657                                                 []   \n",
       "1023                                                 []   \n",
       "1604                                                 []   \n",
       "632                                                  []   \n",
       "1039                                                 []   \n",
       "\n",
       "                                       predicted_labels  \\\n",
       "689   [\\n {\\n  \"subject\": \"Speaker 6\",\\n  \"subject_t...   \n",
       "418   [\\n {\\n  \"subject\": \"Speaker 5\",\\n  \"subject_t...   \n",
       "1209  [\\n {\\n  \"subject\": \"Speaker 5\",\\n  \"subject_t...   \n",
       "563   [\\n {\\n  \"subject\": \"Speaker 4\",\\n  \"subject_t...   \n",
       "1720  [\\n {\\n  \"subject\": \"Speaker 4\",\\n  \"subject_t...   \n",
       "...                                                 ...   \n",
       "1657  [\\n {\\n  \"subject\": \"Dr. Kenneth Schwartz\",\\n ...   \n",
       "1023  [\\n {\\n  \"subject\": \"Dr. Kenneth Schwartz\",\\n ...   \n",
       "1604  [\\n {\\n  \"subject\": \"Dr. Drake Remoray\",\\n  \"s...   \n",
       "632   [\\n {\\n  \"subject\": \"Don\",\\n  \"subject_type\": ...   \n",
       "1039  [\\n {\\n  \"subject\": \"Don\",\\n  \"subject_type\": ...   \n",
       "\n",
       "                                         correct_labels  \\\n",
       "689   [\\n {\\n  \"subject\": \"Speaker 6\",\\n  \"subject_t...   \n",
       "418   [\\n {\\n  \"subject\": \"Speaker 5\",\\n  \"subject_t...   \n",
       "1209  [\\n {\\n  \"subject\": \"Speaker 5\",\\n  \"subject_t...   \n",
       "563   [\\n {\\n  \"subject\": \"Speaker 6\",\\n  \"subject_t...   \n",
       "1720  [\\n {\\n  \"subject\": \"Speaker 6\",\\n  \"subject_t...   \n",
       "...                                                 ...   \n",
       "1657                                                 []   \n",
       "1023                                                 []   \n",
       "1604                                                 []   \n",
       "632                                                  []   \n",
       "1039                                                 []   \n",
       "\n",
       "                                           wrong_labels missing_labels  \\\n",
       "689                                                  []             []   \n",
       "418                                                  []             []   \n",
       "1209                                                 []             []   \n",
       "563                                                  []             []   \n",
       "1720                                                 []             []   \n",
       "...                                                 ...            ...   \n",
       "1657  [\\n {\\n  \"subject\": \"Speaker 1\",\\n  \"subject_t...             []   \n",
       "1023  [\\n {\\n  \"subject\": \"Dr. Kenneth Schwartz\",\\n ...             []   \n",
       "1604  [\\n {\\n  \"subject\": \"Dr. Drake Remoray\",\\n  \"s...             []   \n",
       "632   [\\n {\\n  \"subject\": \"Janet\",\\n  \"subject_type\"...             []   \n",
       "1039  [\\n {\\n  \"subject\": \"Janet\",\\n  \"subject_type\"...             []   \n",
       "\n",
       "                                               dialogue  f1s  precision  \\\n",
       "689   Extract entities and relations from the dialog...  1.0        1.0   \n",
       "418   Extract entities and relations from the dialog...  1.0        1.0   \n",
       "1209  Extract entities and relations from the dialog...  1.0        1.0   \n",
       "563   Extract entities and relations from the dialog...  1.0        1.0   \n",
       "1720  Extract entities and relations from the dialog...  1.0        1.0   \n",
       "...                                                 ...  ...        ...   \n",
       "1657  Extract entities and relations from the dialog...  0.0        0.0   \n",
       "1023  Extract entities and relations from the dialog...  0.0        0.0   \n",
       "1604  Extract entities and relations from the dialog...  0.0        0.0   \n",
       "632   Extract entities and relations from the dialog...  0.0        0.0   \n",
       "1039  Extract entities and relations from the dialog...  0.0        0.0   \n",
       "\n",
       "      recall error_message  \n",
       "689      1.0                \n",
       "418      1.0                \n",
       "1209     1.0                \n",
       "563      1.0                \n",
       "1720     1.0                \n",
       "...      ...           ...  \n",
       "1657     0.0                \n",
       "1023     0.0                \n",
       "1604     0.0                \n",
       "632      0.0                \n",
       "1039     0.0                \n",
       "\n",
       "[2098 rows x 13 columns]"
      ]
     },
     "execution_count": 3,
     "metadata": {},
     "output_type": "execute_result"
    }
   ],
   "source": [
    "from src.processing.relation_extraction_evaluator import RelationExtractorEvaluator, RelationGranularMetrics\n",
    "from src.config import get_config_from_stem\n",
    "\n",
    "# Define path for the test dataset\n",
    "# data_stem=\"dialog-re-llama-11cls-rebalPairs4x-rwrtKeys-instrC-mxTrnCp3\"\n",
    "# data_stem=\"dialog-re-llama-36cls-clsTskOnl-rebalPairs2.5x-instrB-shfflDt-WthNRltnUndrsmpld\"\n",
    "data_stem=\"dialog-re-llama-12cls-rebalPairs3x-rwrtKeys-instrC-mxTrnCp3-shfflDt-GrpClsAttachment\"\n",
    "\n",
    "# data_stem=\"dialog-re-llama-7cls-rebalPairs3x-rwrtKeys-instrC-mxTrnCp3-shfflDt\"\n",
    "# data_stem=\"dialog-re-llama-11cls-rebalPairs-rwrtKeys-instrC\"\n",
    "# data_stem=\"dialog-re-llama-11cls-rebalPairs2x-rwrtKeys-instrC-mxTrnCp10-shfflDt\"\n",
    "test_file_path = f\"/home/murilo/RelNetCare/data/processed/{data_stem}/{data_stem}-test.json\"\n",
    "\n",
    "# get config and evaluator\n",
    "config = get_config_from_stem(data_stem)\n",
    "evaluator = RelationExtractorEvaluator(config=config)\n",
    "\n",
    "# Evaluate performance\n",
    "df = evaluator.assess_performance_on_test_dataset(test_file_path, cap_size=None, return_details=True)\n",
    "df.sort_values(['f1s', 'raw_inference'], ascending=[False, False])\n"
   ]
  },
  {
   "cell_type": "code",
   "execution_count": 14,
   "metadata": {},
   "outputs": [
    {
     "data": {
      "text/plain": [
       "False    2098\n",
       "Name: count, dtype: int64"
      ]
     },
     "execution_count": 14,
     "metadata": {},
     "output_type": "execute_result"
    }
   ],
   "source": [
    "mask = ((df.true_labels.astype(str) == \"[]\") &  (df.predicted_labels.astype(str) == \"[]\" ))\n",
    "mask.value_counts()"
   ]
  },
  {
   "cell_type": "code",
   "execution_count": 15,
   "metadata": {},
   "outputs": [
    {
     "data": {
      "text/plain": [
       "predicted_labels\n",
       "False    2098\n",
       "Name: count, dtype: int64"
      ]
     },
     "execution_count": 15,
     "metadata": {},
     "output_type": "execute_result"
    }
   ],
   "source": [
    "mask = ( (df.predicted_labels.astype(str) == \"[]\" ))\n",
    "mask.value_counts()"
   ]
  },
  {
   "cell_type": "code",
   "execution_count": 4,
   "metadata": {},
   "outputs": [],
   "source": [
    "# idx=0\n",
    "# print(df.prompt.iloc[idx])\n",
    "# print(df.raw_inference.iloc[idx])\n",
    "# config.allowed_relations"
   ]
  },
  {
   "cell_type": "code",
   "execution_count": 6,
   "metadata": {},
   "outputs": [
    {
     "data": {
      "image/png": "[encoded data removed]",
      "text/plain": [
       "<Figure size 300x500 with 1 Axes>"
      ]
     },
     "metadata": {},
     "output_type": "display_data"
    }
   ],
   "source": [
    "from src.processing.relation_extraction_evaluator import RelationExtractorEvaluator, RelationGranularMetrics\n",
    "\n",
    "# Define your ontology\n",
    "your_ontology = {\n",
    "    \"Null-Relation\", \n",
    "    # \"other_family\", \"siblings\",\n",
    "    # \"spouse\", \"pet\", \"acquaintance\", \"children\",\n",
    "    # \"parents\",\n",
    "    # \"visitors_of_place\", \"residents_of_place\",  \n",
    "    # \"visited_place\", \"place_of_residence\",\n",
    "    \"Attachment\"\n",
    "    # \"title\", \"alternate_names\", \"place_of_work\", \"unanswerable\"\n",
    "    }\n",
    "\n",
    "# your_ontology = list(config.allowed_relations)\n",
    "\n",
    "# your_ontology = config.all_relations\n",
    "# Usage\n",
    "my_metrics = RelationGranularMetrics(df, your_ontology)\n",
    "result = my_metrics.process()\n",
    "chart_df = my_metrics.to_dataframe()\n",
    "my_metrics.plot_metrics(chart_df, figsize=(3,5))\n",
    "# my_metrics.plot_metrics(chart_df, figsize=(4,12))\n"
   ]
  },
  {
   "cell_type": "code",
   "execution_count": 16,
   "metadata": {},
   "outputs": [
    {
     "data": {
      "image/png": "[encoded data removed]",
      "text/plain": [
       "<Figure size 300x500 with 1 Axes>"
      ]
     },
     "metadata": {},
     "output_type": "display_data"
    }
   ],
   "source": [
    "import matplotlib.pyplot as plt\n",
    "\n",
    "# Your plotting code here\n",
    "ax = df[['f1s', 'precision', 'recall']].mean().plot(kind='barh', alpha=1, figsize=(3, 5))\n",
    "\n",
    "# Set x-axis tick labels\n",
    "plt.xticks([1], ['1'])\n",
    "\n",
    "# Adding data values on top of each bar\n",
    "for bar in ax.patches:\n",
    "    plt.text(bar.get_width(), bar.get_y() + bar.get_height()/2, f'{bar.get_width():.1%}', \n",
    "             va='center', ha='left')\n",
    "\n",
    "# Show the plot\n",
    "plt.show()\n"
   ]
  },
  {
   "cell_type": "code",
   "execution_count": 6,
   "metadata": {},
   "outputs": [
    {
     "data": {
      "text/plain": [
       "<Axes: ylabel='Frequency'>"
      ]
     },
     "execution_count": 6,
     "metadata": {},
     "output_type": "execute_result"
    },
    {
     "data": {
      "image/png": "[encoded data removed]",
      "text/plain": [
       "<Figure size 300x500 with 1 Axes>"
      ]
     },
     "metadata": {},
     "output_type": "display_data"
    }
   ],
   "source": [
    "df[['precision', 'recall', 'f1s']].fillna(0).plot(kind='hist', alpha=0.5, figsize=(3, 5))\n"
   ]
  },
  {
   "cell_type": "code",
   "execution_count": 204,
   "metadata": {},
   "outputs": [
    {
     "name": "stdout",
     "output_type": "stream",
     "text": [
      "Extract entities and relations from the dialogue. Return a Python list of JSON objects, each fitting this schema: {\"subject\": \"<Entity>\", \"subject_type\": \"<Animal/Organization/Location/Person/Date/Event>\", \"relation\": \"<acquaintance/children/other_family/parents/pet/place_of_residence/residents_of_place/siblings/spouse/visited_place/visitors_of_place>\", \"object\": \"<Related Entity>\", \"object_type\": \"<Animal/Organization/Location/Person/Date/Event>\"}. No additional text or explanations. Return an empty list if no relevant entities or relations are found. Stick to the provided types and relations. You are like an API, you don't speak you only return JSON objects.\n",
      "Dialogue: {input_dialogue}\n"
     ]
    }
   ],
   "source": [
    "print(config.preprompt)"
   ]
  },
  {
   "cell_type": "code",
   "execution_count": 9,
   "metadata": {},
   "outputs": [
    {
     "name": "stdout",
     "output_type": "stream",
     "text": [
      "Speaker 1: Hi, you are my father.\n",
      "Speaker 2: Yes, I am your father\n",
      "\n",
      "Extract personal relevant entities, and their relations. Return only the jsonl format list. Extract entities and relations from the given dialogue input and generate a JSON list as output that is structured according to the entity and relation types from the ontology.\n",
      "\n",
      "Ontology: \n",
      "- relations: {\"place_of_residence\", \"siblings\", \"residents_of_place\", \"visited_place\", \"visitors_of_place\", \"other_family\", \"parents\", \"pet\", \"acquaintance\", \"children\", \"spouse\"}\n",
      "- types: {\"ORG\", \"GPE\", \"PERSON\", \"DATE\", \"EVENT\", “ANIMAL”}\n",
      "\n",
      "Input:\n",
      "[\n",
      "\"Speaker 1: Hi, you are my father.\",\n",
      "\"Speaker 2: Yes, I am your father\",\n",
      "]\n",
      "\n",
      "Output:\n",
      "[\n",
      "{\"subject\": \"Speaker 1\", \"subject_type\": \"PERSON\", \"relation\": \"siblings\", \"object\": \"Speaker 2\", \"object_type\": \"PERSON\"},\n",
      "\n",
      "{\"subject\": \"Speaker 2\", \"subject_type\": \"PERSON\", \"relation\": \"siblings\", \"object\": \"Speaker 1\", \"object_type\": \"PERSON\"},\n",
      "\n",
      "{\"subject\": \"Speaker 1\", \"subject_type\": \"PERSON\", \"relation\": \"pet\", \"object\": \"Max\", \"object_type\": \"ANIMAL\"},\n",
      "\n",
      "{\"subject\": \"Max\", \"subject_type\": \"ANIMAL\", \"relation\": \"pet\", \"object\": \"Speaker 1\", \"object_type\": \"PERSON\"}\n",
      "]\n",
      "\n",
      "\n"
     ]
    }
   ],
   "source": [
    "dialogue = 'Speaker 1: Hi, you are my father.\\nSpeaker 2: Yes, I am your father'\n",
    "# dialogue = 'Speaker 1: I went to Maryland.\\nSpeaker 2: Why?\\nSpeaker 1: I work at Google there.'\n",
    "# dialogue = 'Speaker 1: I love my husband.\\nSpeaker 2: Sweet! What is his name?\\nSpeaker 1: John.'\n",
    "# dialogue = 'Speaker 1: I love my husband.\\nSpeaker 2: Sweet! '\n",
    "jsonl = evaluator.infer_from_model(dialogue, preprompt=config.preprompt)\n",
    "print(dialogue)\n",
    "\n",
    "try:\n",
    "    print(jsonl.replace('},', '},\\n'))\n",
    "except Exception as e:\n",
    "    print(f'Exception={e}')\n",
    "    print(jsonl)"
   ]
  }
 ],
 "metadata": {
  "kernelspec": {
   "display_name": "llama-lora",
   "language": "python",
   "name": "python3"
  },
  "language_info": {
   "codemirror_mode": {
    "name": "ipython",
    "version": 3
   },
   "file_extension": ".py",
   "mimetype": "text/x-python",
   "name": "python",
   "nbconvert_exporter": "python",
   "pygments_lexer": "ipython3",
   "version": "3.10.12"
  },
  "orig_nbformat": 4
 },
 "nbformat": 4,
 "nbformat_minor": 2
}
