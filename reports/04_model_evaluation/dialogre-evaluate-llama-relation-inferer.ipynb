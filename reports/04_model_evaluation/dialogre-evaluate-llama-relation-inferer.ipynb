{
 "cells": [
  {
   "cell_type": "code",
   "execution_count": 1,
   "metadata": {},
   "outputs": [],
   "source": [
    "%load_ext autoreload\n",
    "%autoreload 2\n",
    "!source /home/murilo/RelNetCare/.env"
   ]
  },
  {
   "cell_type": "code",
   "execution_count": 4,
   "metadata": {},
   "outputs": [
    {
     "name": "stdout",
     "output_type": "stream",
     "text": [
      "self.skip_types=True, forcing intruction_type to `C`...\n",
      "output_dir= /home/murilo/RelNetCare/data/processed/dialog-re-llama-5cls-balPairs-rebalPairs-rwrtKeys-instrC-shfflDt-skpTps-mrgPlcs\n"
     ]
    },
    {
     "name": "stderr",
     "output_type": "stream",
     "text": [
      "                                                                                                                        \r"
     ]
    },
    {
     "name": "stdout",
     "output_type": "stream",
     "text": [
      "\n",
      "Script successfully executed!\n",
      "Avg P: 48.3% | Avg R: 48.4% | Avg F1: 48.2% | Errors: 5/2699 (0%)\n",
      "# INFERENCE REPORT\n",
      "/home/murilo/RelNetCare/data/processed/dialog-re-ddrel-llama-5cls-rebalPairs2x-rwrtKeys-instrC-mxTrnCp3-shfflDt-skpTps-mrgPlcs-Ddrl/dialog-re-ddrel-llama-5cls-rebalPairs2x-rwrtKeys-instrC-mxTrnCp3-shfflDt-skpTps-mrgPlcs-Ddrl-test_20230927_173936.xlsx\n",
      "\n"
     ]
    },
    {
     "data": {
      "text/html": [
       "<div>\n",
       "<style scoped>\n",
       "    .dataframe tbody tr th:only-of-type {\n",
       "        vertical-align: middle;\n",
       "    }\n",
       "\n",
       "    .dataframe tbody tr th {\n",
       "        vertical-align: top;\n",
       "    }\n",
       "\n",
       "    .dataframe thead th {\n",
       "        text-align: right;\n",
       "    }\n",
       "</style>\n",
       "<table border=\"1\" class=\"dataframe\">\n",
       "  <thead>\n",
       "    <tr style=\"text-align: right;\">\n",
       "      <th></th>\n",
       "      <th>id</th>\n",
       "      <th>prompt</th>\n",
       "      <th>raw_inference</th>\n",
       "      <th>true_labels</th>\n",
       "      <th>predicted_labels</th>\n",
       "      <th>correct_labels</th>\n",
       "      <th>wrong_labels</th>\n",
       "      <th>missing_labels</th>\n",
       "      <th>dialogue</th>\n",
       "      <th>f1s</th>\n",
       "      <th>precision</th>\n",
       "      <th>recall</th>\n",
       "      <th>error_message</th>\n",
       "    </tr>\n",
       "  </thead>\n",
       "  <tbody>\n",
       "    <tr>\n",
       "      <th>2</th>\n",
       "      <td>identity_96_008</td>\n",
       "      <td>Extract entities and relations from the dialog...</td>\n",
       "      <td>[]</td>\n",
       "      <td>[]</td>\n",
       "      <td>[]</td>\n",
       "      <td>[]</td>\n",
       "      <td>[]</td>\n",
       "      <td>[]</td>\n",
       "      <td>Extract entities and relations from the dialog...</td>\n",
       "      <td>1.0</td>\n",
       "      <td>1.0</td>\n",
       "      <td>1.0</td>\n",
       "      <td></td>\n",
       "    </tr>\n",
       "    <tr>\n",
       "      <th>5</th>\n",
       "      <td>identity_726_031</td>\n",
       "      <td>Extract entities and relations from the dialog...</td>\n",
       "      <td>[]</td>\n",
       "      <td>[]</td>\n",
       "      <td>[]</td>\n",
       "      <td>[]</td>\n",
       "      <td>[]</td>\n",
       "      <td>[]</td>\n",
       "      <td>Extract entities and relations from the dialog...</td>\n",
       "      <td>1.0</td>\n",
       "      <td>1.0</td>\n",
       "      <td>1.0</td>\n",
       "      <td></td>\n",
       "    </tr>\n",
       "    <tr>\n",
       "      <th>7</th>\n",
       "      <td>identity_746_004</td>\n",
       "      <td>Extract entities and relations from the dialog...</td>\n",
       "      <td>[]</td>\n",
       "      <td>[]</td>\n",
       "      <td>[]</td>\n",
       "      <td>[]</td>\n",
       "      <td>[]</td>\n",
       "      <td>[]</td>\n",
       "      <td>Extract entities and relations from the dialog...</td>\n",
       "      <td>1.0</td>\n",
       "      <td>1.0</td>\n",
       "      <td>1.0</td>\n",
       "      <td></td>\n",
       "    </tr>\n",
       "    <tr>\n",
       "      <th>9</th>\n",
       "      <td>identity_80_008</td>\n",
       "      <td>Extract entities and relations from the dialog...</td>\n",
       "      <td>[]</td>\n",
       "      <td>[]</td>\n",
       "      <td>[]</td>\n",
       "      <td>[]</td>\n",
       "      <td>[]</td>\n",
       "      <td>[]</td>\n",
       "      <td>Extract entities and relations from the dialog...</td>\n",
       "      <td>1.0</td>\n",
       "      <td>1.0</td>\n",
       "      <td>1.0</td>\n",
       "      <td></td>\n",
       "    </tr>\n",
       "    <tr>\n",
       "      <th>12</th>\n",
       "      <td>identity_915_004</td>\n",
       "      <td>Extract entities and relations from the dialog...</td>\n",
       "      <td>[]</td>\n",
       "      <td>[]</td>\n",
       "      <td>[]</td>\n",
       "      <td>[]</td>\n",
       "      <td>[]</td>\n",
       "      <td>[]</td>\n",
       "      <td>Extract entities and relations from the dialog...</td>\n",
       "      <td>1.0</td>\n",
       "      <td>1.0</td>\n",
       "      <td>1.0</td>\n",
       "      <td></td>\n",
       "    </tr>\n",
       "    <tr>\n",
       "      <th>...</th>\n",
       "      <td>...</td>\n",
       "      <td>...</td>\n",
       "      <td>...</td>\n",
       "      <td>...</td>\n",
       "      <td>...</td>\n",
       "      <td>...</td>\n",
       "      <td>...</td>\n",
       "      <td>...</td>\n",
       "      <td>...</td>\n",
       "      <td>...</td>\n",
       "      <td>...</td>\n",
       "      <td>...</td>\n",
       "      <td>...</td>\n",
       "    </tr>\n",
       "    <tr>\n",
       "      <th>1356</th>\n",
       "      <td>identity_109_002</td>\n",
       "      <td>Extract entities and relations from the dialog...</td>\n",
       "      <td>[\\n {\\n  \"subject\": \"Speaker 1\",\\n  \"relation\"...</td>\n",
       "      <td>[]</td>\n",
       "      <td>[\\n {\\n  \"subject\": \"Speaker 1\",\\n  \"relation\"...</td>\n",
       "      <td>[]</td>\n",
       "      <td>[\\n {\\n  \"subject\": \"Speaker 1\",\\n  \"relation\"...</td>\n",
       "      <td>[]</td>\n",
       "      <td>Extract entities and relations from the dialog...</td>\n",
       "      <td>0.0</td>\n",
       "      <td>0.0</td>\n",
       "      <td>0.0</td>\n",
       "      <td></td>\n",
       "    </tr>\n",
       "    <tr>\n",
       "      <th>187</th>\n",
       "      <td>identity_92_008</td>\n",
       "      <td>Extract entities and relations from the dialog...</td>\n",
       "      <td>[\\n {\\n  \"subject\": \"Speaker 1\",\\n  \"relation\"...</td>\n",
       "      <td>[\\n {\\n  \"subject\": \"Speaker 1\",\\n  \"relation\"...</td>\n",
       "      <td>[\\n {\\n  \"subject\": \"Speaker 1\",\\n  \"relation\"...</td>\n",
       "      <td>[]</td>\n",
       "      <td>[\\n {\\n  \"subject\": \"Speaker 1\",\\n  \"relation\"...</td>\n",
       "      <td>[\\n {\\n  \"subject\": \"Speaker 2\",\\n  \"relation\"...</td>\n",
       "      <td>Extract entities and relations from the dialog...</td>\n",
       "      <td>0.0</td>\n",
       "      <td>0.0</td>\n",
       "      <td>0.0</td>\n",
       "      <td></td>\n",
       "    </tr>\n",
       "    <tr>\n",
       "      <th>999</th>\n",
       "      <td>identity_55_001</td>\n",
       "      <td>Extract entities and relations from the dialog...</td>\n",
       "      <td>[\\n {\\n  \"subject\": \"Speaker 1\",\\n  \"relation\"...</td>\n",
       "      <td>[\\n {\\n  \"subject\": \"Ben\",\\n  \"relation\": \"par...</td>\n",
       "      <td>[\\n {\\n  \"subject\": \"Speaker 1\",\\n  \"relation\"...</td>\n",
       "      <td>[]</td>\n",
       "      <td>[\\n {\\n  \"subject\": \"Speaker 1\",\\n  \"relation\"...</td>\n",
       "      <td>[\\n {\\n  \"subject\": \"Ben\",\\n  \"relation\": \"par...</td>\n",
       "      <td>Extract entities and relations from the dialog...</td>\n",
       "      <td>0.0</td>\n",
       "      <td>0.0</td>\n",
       "      <td>0.0</td>\n",
       "      <td></td>\n",
       "    </tr>\n",
       "    <tr>\n",
       "      <th>1802</th>\n",
       "      <td>identity_55_000</td>\n",
       "      <td>Extract entities and relations from the dialog...</td>\n",
       "      <td>[\\n {\\n  \"subject\": \"Speaker 1\",\\n  \"relation\"...</td>\n",
       "      <td>[\\n {\\n  \"subject\": \"Ben\",\\n  \"relation\": \"par...</td>\n",
       "      <td>[\\n {\\n  \"subject\": \"Speaker 1\",\\n  \"relation\"...</td>\n",
       "      <td>[]</td>\n",
       "      <td>[\\n {\\n  \"subject\": \"Speaker 1\",\\n  \"relation\"...</td>\n",
       "      <td>[\\n {\\n  \"subject\": \"Ben\",\\n  \"relation\": \"par...</td>\n",
       "      <td>Extract entities and relations from the dialog...</td>\n",
       "      <td>0.0</td>\n",
       "      <td>0.0</td>\n",
       "      <td>0.0</td>\n",
       "      <td></td>\n",
       "    </tr>\n",
       "    <tr>\n",
       "      <th>2017</th>\n",
       "      <td>identity_230_004</td>\n",
       "      <td>Extract entities and relations from the dialog...</td>\n",
       "      <td>[\\n {\\n  \"subject\": \"Speaker 1\",\\n  \"relation\"...</td>\n",
       "      <td>[]</td>\n",
       "      <td>[\\n {\\n  \"subject\": \"Speaker 1\",\\n  \"relation\"...</td>\n",
       "      <td>[]</td>\n",
       "      <td>[\\n {\\n  \"subject\": \"Speaker 1\",\\n  \"relation\"...</td>\n",
       "      <td>[]</td>\n",
       "      <td>Extract entities and relations from the dialog...</td>\n",
       "      <td>0.0</td>\n",
       "      <td>0.0</td>\n",
       "      <td>0.0</td>\n",
       "      <td></td>\n",
       "    </tr>\n",
       "  </tbody>\n",
       "</table>\n",
       "<p>2699 rows × 13 columns</p>\n",
       "</div>"
      ],
      "text/plain": [
       "                    id                                             prompt  \\\n",
       "2      identity_96_008  Extract entities and relations from the dialog...   \n",
       "5     identity_726_031  Extract entities and relations from the dialog...   \n",
       "7     identity_746_004  Extract entities and relations from the dialog...   \n",
       "9      identity_80_008  Extract entities and relations from the dialog...   \n",
       "12    identity_915_004  Extract entities and relations from the dialog...   \n",
       "...                ...                                                ...   \n",
       "1356  identity_109_002  Extract entities and relations from the dialog...   \n",
       "187    identity_92_008  Extract entities and relations from the dialog...   \n",
       "999    identity_55_001  Extract entities and relations from the dialog...   \n",
       "1802   identity_55_000  Extract entities and relations from the dialog...   \n",
       "2017  identity_230_004  Extract entities and relations from the dialog...   \n",
       "\n",
       "                                          raw_inference  \\\n",
       "2                                                    []   \n",
       "5                                                    []   \n",
       "7                                                    []   \n",
       "9                                                    []   \n",
       "12                                                   []   \n",
       "...                                                 ...   \n",
       "1356  [\\n {\\n  \"subject\": \"Speaker 1\",\\n  \"relation\"...   \n",
       "187   [\\n {\\n  \"subject\": \"Speaker 1\",\\n  \"relation\"...   \n",
       "999   [\\n {\\n  \"subject\": \"Speaker 1\",\\n  \"relation\"...   \n",
       "1802  [\\n {\\n  \"subject\": \"Speaker 1\",\\n  \"relation\"...   \n",
       "2017  [\\n {\\n  \"subject\": \"Speaker 1\",\\n  \"relation\"...   \n",
       "\n",
       "                                            true_labels  \\\n",
       "2                                                    []   \n",
       "5                                                    []   \n",
       "7                                                    []   \n",
       "9                                                    []   \n",
       "12                                                   []   \n",
       "...                                                 ...   \n",
       "1356                                                 []   \n",
       "187   [\\n {\\n  \"subject\": \"Speaker 1\",\\n  \"relation\"...   \n",
       "999   [\\n {\\n  \"subject\": \"Ben\",\\n  \"relation\": \"par...   \n",
       "1802  [\\n {\\n  \"subject\": \"Ben\",\\n  \"relation\": \"par...   \n",
       "2017                                                 []   \n",
       "\n",
       "                                       predicted_labels correct_labels  \\\n",
       "2                                                    []             []   \n",
       "5                                                    []             []   \n",
       "7                                                    []             []   \n",
       "9                                                    []             []   \n",
       "12                                                   []             []   \n",
       "...                                                 ...            ...   \n",
       "1356  [\\n {\\n  \"subject\": \"Speaker 1\",\\n  \"relation\"...             []   \n",
       "187   [\\n {\\n  \"subject\": \"Speaker 1\",\\n  \"relation\"...             []   \n",
       "999   [\\n {\\n  \"subject\": \"Speaker 1\",\\n  \"relation\"...             []   \n",
       "1802  [\\n {\\n  \"subject\": \"Speaker 1\",\\n  \"relation\"...             []   \n",
       "2017  [\\n {\\n  \"subject\": \"Speaker 1\",\\n  \"relation\"...             []   \n",
       "\n",
       "                                           wrong_labels  \\\n",
       "2                                                    []   \n",
       "5                                                    []   \n",
       "7                                                    []   \n",
       "9                                                    []   \n",
       "12                                                   []   \n",
       "...                                                 ...   \n",
       "1356  [\\n {\\n  \"subject\": \"Speaker 1\",\\n  \"relation\"...   \n",
       "187   [\\n {\\n  \"subject\": \"Speaker 1\",\\n  \"relation\"...   \n",
       "999   [\\n {\\n  \"subject\": \"Speaker 1\",\\n  \"relation\"...   \n",
       "1802  [\\n {\\n  \"subject\": \"Speaker 1\",\\n  \"relation\"...   \n",
       "2017  [\\n {\\n  \"subject\": \"Speaker 1\",\\n  \"relation\"...   \n",
       "\n",
       "                                         missing_labels  \\\n",
       "2                                                    []   \n",
       "5                                                    []   \n",
       "7                                                    []   \n",
       "9                                                    []   \n",
       "12                                                   []   \n",
       "...                                                 ...   \n",
       "1356                                                 []   \n",
       "187   [\\n {\\n  \"subject\": \"Speaker 2\",\\n  \"relation\"...   \n",
       "999   [\\n {\\n  \"subject\": \"Ben\",\\n  \"relation\": \"par...   \n",
       "1802  [\\n {\\n  \"subject\": \"Ben\",\\n  \"relation\": \"par...   \n",
       "2017                                                 []   \n",
       "\n",
       "                                               dialogue  f1s  precision  \\\n",
       "2     Extract entities and relations from the dialog...  1.0        1.0   \n",
       "5     Extract entities and relations from the dialog...  1.0        1.0   \n",
       "7     Extract entities and relations from the dialog...  1.0        1.0   \n",
       "9     Extract entities and relations from the dialog...  1.0        1.0   \n",
       "12    Extract entities and relations from the dialog...  1.0        1.0   \n",
       "...                                                 ...  ...        ...   \n",
       "1356  Extract entities and relations from the dialog...  0.0        0.0   \n",
       "187   Extract entities and relations from the dialog...  0.0        0.0   \n",
       "999   Extract entities and relations from the dialog...  0.0        0.0   \n",
       "1802  Extract entities and relations from the dialog...  0.0        0.0   \n",
       "2017  Extract entities and relations from the dialog...  0.0        0.0   \n",
       "\n",
       "      recall error_message  \n",
       "2        1.0                \n",
       "5        1.0                \n",
       "7        1.0                \n",
       "9        1.0                \n",
       "12       1.0                \n",
       "...      ...           ...  \n",
       "1356     0.0                \n",
       "187      0.0                \n",
       "999      0.0                \n",
       "1802     0.0                \n",
       "2017     0.0                \n",
       "\n",
       "[2699 rows x 13 columns]"
      ]
     },
     "execution_count": 4,
     "metadata": {},
     "output_type": "execute_result"
    }
   ],
   "source": [
    "from src.processing.relation_extraction_evaluator import RelationExtractorEvaluator, RelationGranularMetrics\n",
    "from src.config import get_config_from_stem\n",
    "import os\n",
    "\n",
    "# Define path for the test dataset\n",
    "# data_stem = \"dialog-re-llama-11cls-rebalPairs6x-rwrtKeys-instrC-mxTrnCp3-shfflDt\"\n",
    "data_stem = os.environ.get('data_stem')\n",
    "test_file_path = f\"/home/murilo/RelNetCare/data/processed/{data_stem}/{data_stem}-test.json\"\n",
    "\n",
    "# get config and evaluator\n",
    "config = get_config_from_stem(data_stem)\n",
    "evaluator = RelationExtractorEvaluator(config=config)\n",
    "\n",
    "# Evaluate performance\n",
    "df = evaluator.assess_performance_on_test_dataset(test_file_path, cap_size=None, return_details=True)\n",
    "df.sort_values(['f1s', 'raw_inference'], ascending=[False, False])\n"
   ]
  },
  {
   "cell_type": "code",
   "execution_count": 3,
   "metadata": {},
   "outputs": [
    {
     "name": "stdout",
     "output_type": "stream",
     "text": [
      "df.prompt.iloc[idx]\n",
      "Extract entities and relations from the dialogue. Return a Python list of JSON objects, each fitting this schema: {\"subject\": \"<Entity>\", \"relation\": \"<children/parents/siblings/spouse/visited_place>\", \"object\": \"<Related Entity>\"}. No additional text or explanations. Return an empty list if no relevant entities or relations are found. Stick to the provided relations. You are like an API, you don't speak you only return JSON objects.\n",
      "Dialogue: \n",
      "[\n",
      " \"Speaker 1: Dude, we got to talk.\",\n",
      " \"Speaker 2: Okay.\",\n",
      " \"Speaker 1: I just wanted to tell you something before you heard it from someone else and I hope this isn't too weird, but uh, I had uh, a thing with Janice. What you're-you're not mad?\"\n",
      "]\n",
      "df.raw_inference.iloc[idx]\n",
      "[\n",
      " {\n",
      "  \"subject\": \"Speaker 1\",\n",
      "  \"relation\": \"siblings\",\n",
      "  \"object\": \"Speaker 2\"\n",
      " },\n",
      " {\n",
      "  \"subject\": \"Speaker 2\",\n",
      "  \"relation\": \"siblings\",\n",
      "  \"object\": \"Speaker 1\"\n",
      " }\n",
      "]\n"
     ]
    },
    {
     "data": {
      "text/plain": [
       "{'children', 'parents', 'siblings', 'spouse', 'visited_place'}"
      ]
     },
     "execution_count": 3,
     "metadata": {},
     "output_type": "execute_result"
    }
   ],
   "source": [
    "idx=0\n",
    "print('df.prompt.iloc[idx]')\n",
    "print(df.prompt.iloc[idx])\n",
    "print('df.raw_inference.iloc[idx]')\n",
    "print(df.raw_inference.iloc[idx])\n",
    "config.allowed_relations\n",
    "\n",
    "# mask = (df.predicted_labels.str.len() < 127)\n",
    "# df[mask]"
   ]
  },
  {
   "cell_type": "code",
   "execution_count": null,
   "metadata": {},
   "outputs": [],
   "source": []
  },
  {
   "cell_type": "code",
   "execution_count": 23,
   "metadata": {},
   "outputs": [],
   "source": [
    "# mask = ((df.true_labels.astype(str) == \"[]\") &  (df.predicted_labels.astype(str) == \"[]\" ))\n",
    "# mask.value_counts()"
   ]
  },
  {
   "cell_type": "code",
   "execution_count": 22,
   "metadata": {},
   "outputs": [
    {
     "data": {
      "text/plain": [
       "predicted_labels\n",
       "False    1382\n",
       "Name: count, dtype: int64"
      ]
     },
     "execution_count": 22,
     "metadata": {},
     "output_type": "execute_result"
    }
   ],
   "source": [
    "# mask = ( (df.predicted_labels.astype(str) == \"[]\" ))\n",
    "# mask.value_counts()"
   ]
  },
  {
   "cell_type": "code",
   "execution_count": 5,
   "metadata": {},
   "outputs": [
    {
     "data": {
      "image/png": "[encoded data removed]",
      "text/plain": [
       "<Figure size 300x500 with 1 Axes>"
      ]
     },
     "metadata": {},
     "output_type": "display_data"
    }
   ],
   "source": [
    "from src.processing.relation_extraction_evaluator import RelationExtractorEvaluator, RelationGranularMetrics\n",
    "\n",
    "# children/parents/siblings/spouse/visited_place\n",
    "# Define your ontology\n",
    "your_ontology = {\n",
    "    \"Null-Relation\", \n",
    "    \"visited_place\", # \"visitors_of_place\", \"residents_of_place\", \"place_of_residence\",\n",
    "    \"siblings\", \"spouse\", \"children\", \"parents\", # \"other_family\", \"pet\", \"acquaintance\", \n",
    "    # \"Attachment\"\n",
    "    # \"title\", \"alternate_names\", \"place_of_work\", \"unanswerable\"\n",
    "    }\n",
    "\n",
    "# your_ontology = list(config.allowed_relations)\n",
    "\n",
    "# your_ontology = config.all_relations\n",
    "# Usage\n",
    "my_metrics = RelationGranularMetrics(df, your_ontology)\n",
    "result = my_metrics.process()\n",
    "chart_df = my_metrics.to_dataframe()\n",
    "my_metrics.plot_metrics(chart_df, figsize=(3,5))\n",
    "# my_metrics.plot_metrics(chart_df, figsize=(4,12))\n"
   ]
  },
  {
   "cell_type": "code",
   "execution_count": 6,
   "metadata": {},
   "outputs": [
    {
     "data": {
      "image/png": "[encoded data removed]",
      "text/plain": [
       "<Figure size 300x500 with 1 Axes>"
      ]
     },
     "metadata": {},
     "output_type": "display_data"
    }
   ],
   "source": [
    "import matplotlib.pyplot as plt\n",
    "\n",
    "# Your plotting code here\n",
    "ax = df[['f1s', 'precision', 'recall']].mean().plot(kind='barh', alpha=1, figsize=(3, 5))\n",
    "\n",
    "# Set x-axis tick labels\n",
    "plt.xticks([1], ['1'])\n",
    "\n",
    "# Adding data values on top of each bar\n",
    "for bar in ax.patches:\n",
    "    plt.text(bar.get_width(), bar.get_y() + bar.get_height()/2, f'{bar.get_width():.1%}', \n",
    "             va='center', ha='left')\n",
    "\n",
    "# Show the plot\n",
    "plt.show()\n"
   ]
  },
  {
   "cell_type": "code",
   "execution_count": 6,
   "metadata": {},
   "outputs": [
    {
     "data": {
      "text/plain": [
       "<Axes: ylabel='Frequency'>"
      ]
     },
     "execution_count": 6,
     "metadata": {},
     "output_type": "execute_result"
    },
    {
     "data": {
      "image/png": "[encoded data removed]",
      "text/plain": [
       "<Figure size 300x500 with 1 Axes>"
      ]
     },
     "metadata": {},
     "output_type": "display_data"
    }
   ],
   "source": [
    "df[['precision', 'recall', 'f1s']].fillna(0).plot(kind='hist', alpha=0.5, figsize=(3, 5))\n"
   ]
  },
  {
   "cell_type": "code",
   "execution_count": 204,
   "metadata": {},
   "outputs": [
    {
     "name": "stdout",
     "output_type": "stream",
     "text": [
      "Extract entities and relations from the dialogue. Return a Python list of JSON objects, each fitting this schema: {\"subject\": \"<Entity>\", \"subject_type\": \"<Animal/Organization/Location/Person/Date/Event>\", \"relation\": \"<acquaintance/children/other_family/parents/pet/place_of_residence/residents_of_place/siblings/spouse/visited_place/visitors_of_place>\", \"object\": \"<Related Entity>\", \"object_type\": \"<Animal/Organization/Location/Person/Date/Event>\"}. No additional text or explanations. Return an empty list if no relevant entities or relations are found. Stick to the provided types and relations. You are like an API, you don't speak you only return JSON objects.\n",
      "Dialogue: {input_dialogue}\n"
     ]
    }
   ],
   "source": [
    "print(config.preprompt)"
   ]
  },
  {
   "cell_type": "code",
   "execution_count": 9,
   "metadata": {},
   "outputs": [
    {
     "name": "stdout",
     "output_type": "stream",
     "text": [
      "Speaker 1: Hi, you are my father.\n",
      "Speaker 2: Yes, I am your father\n",
      "\n",
      "Extract personal relevant entities, and their relations. Return only the jsonl format list. Extract entities and relations from the given dialogue input and generate a JSON list as output that is structured according to the entity and relation types from the ontology.\n",
      "\n",
      "Ontology: \n",
      "- relations: {\"place_of_residence\", \"siblings\", \"residents_of_place\", \"visited_place\", \"visitors_of_place\", \"other_family\", \"parents\", \"pet\", \"acquaintance\", \"children\", \"spouse\"}\n",
      "- types: {\"ORG\", \"GPE\", \"PERSON\", \"DATE\", \"EVENT\", “ANIMAL”}\n",
      "\n",
      "Input:\n",
      "[\n",
      "\"Speaker 1: Hi, you are my father.\",\n",
      "\"Speaker 2: Yes, I am your father\",\n",
      "]\n",
      "\n",
      "Output:\n",
      "[\n",
      "{\"subject\": \"Speaker 1\", \"subject_type\": \"PERSON\", \"relation\": \"siblings\", \"object\": \"Speaker 2\", \"object_type\": \"PERSON\"},\n",
      "\n",
      "{\"subject\": \"Speaker 2\", \"subject_type\": \"PERSON\", \"relation\": \"siblings\", \"object\": \"Speaker 1\", \"object_type\": \"PERSON\"},\n",
      "\n",
      "{\"subject\": \"Speaker 1\", \"subject_type\": \"PERSON\", \"relation\": \"pet\", \"object\": \"Max\", \"object_type\": \"ANIMAL\"},\n",
      "\n",
      "{\"subject\": \"Max\", \"subject_type\": \"ANIMAL\", \"relation\": \"pet\", \"object\": \"Speaker 1\", \"object_type\": \"PERSON\"}\n",
      "]\n",
      "\n",
      "\n"
     ]
    }
   ],
   "source": [
    "dialogue = 'Speaker 1: Hi, you are my father.\\nSpeaker 2: Yes, I am your father'\n",
    "# dialogue = 'Speaker 1: I went to Maryland.\\nSpeaker 2: Why?\\nSpeaker 1: I work at Google there.'\n",
    "# dialogue = 'Speaker 1: I love my husband.\\nSpeaker 2: Sweet! What is his name?\\nSpeaker 1: John.'\n",
    "# dialogue = 'Speaker 1: I love my husband.\\nSpeaker 2: Sweet! '\n",
    "jsonl = evaluator.infer_from_model(dialogue, preprompt=config.preprompt)\n",
    "print(dialogue)\n",
    "\n",
    "try:\n",
    "    print(jsonl.replace('},', '},\\n'))\n",
    "except Exception as e:\n",
    "    print(f'Exception={e}')\n",
    "    print(jsonl)"
   ]
  }
 ],
 "metadata": {
  "kernelspec": {
   "display_name": "llama-lora",
   "language": "python",
   "name": "python3"
  },
  "language_info": {
   "codemirror_mode": {
    "name": "ipython",
    "version": 3
   },
   "file_extension": ".py",
   "mimetype": "text/x-python",
   "name": "python",
   "nbconvert_exporter": "python",
   "pygments_lexer": "ipython3",
   "version": "3.10.12"
  },
  "orig_nbformat": 4
 },
 "nbformat": 4,
 "nbformat_minor": 2
}
