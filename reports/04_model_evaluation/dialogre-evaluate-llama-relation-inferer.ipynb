{
 "cells": [
  {
   "cell_type": "code",
   "execution_count": 194,
   "metadata": {},
   "outputs": [
    {
     "name": "stdout",
     "output_type": "stream",
     "text": [
      "The autoreload extension is already loaded. To reload it, use:\n",
      "  %reload_ext autoreload\n"
     ]
    }
   ],
   "source": [
    "%load_ext autoreload\n",
    "%autoreload 2"
   ]
  },
  {
   "cell_type": "code",
   "execution_count": 196,
   "metadata": {},
   "outputs": [
    {
     "name": "stdout",
     "output_type": "stream",
     "text": [
      "output_dir= /home/murilo/RelNetCare/data/processed/dialog-re-llama-11cls-balPairs-rebalPairs-rwrtKeys-instrC\n"
     ]
    },
    {
     "name": "stderr",
     "output_type": "stream",
     "text": [
      "                                                                                                                     "
     ]
    },
    {
     "name": "stdout",
     "output_type": "stream",
     "text": [
      "\n",
      "Script successfully executed!\n",
      "Avg P: 26.8% | Avg R: 23.6% | Avg F1: 23.8% | Errors: 16/162 (10%)\n",
      "# INFERENCE REPORT\n",
      "/home/murilo/RelNetCare/data/processed/dialog-re-llama-11cls-rebalPairs-rwrtKeys-instrC/dialog-re-llama-11cls-rebalPairs-rwrtKeys-instrC-test_20230906_125304.xlsx\n",
      "\n"
     ]
    },
    {
     "name": "stderr",
     "output_type": "stream",
     "text": [
      "\r"
     ]
    },
    {
     "data": {
      "text/html": [
       "<div>\n",
       "<style scoped>\n",
       "    .dataframe tbody tr th:only-of-type {\n",
       "        vertical-align: middle;\n",
       "    }\n",
       "\n",
       "    .dataframe tbody tr th {\n",
       "        vertical-align: top;\n",
       "    }\n",
       "\n",
       "    .dataframe thead th {\n",
       "        text-align: right;\n",
       "    }\n",
       "</style>\n",
       "<table border=\"1\" class=\"dataframe\">\n",
       "  <thead>\n",
       "    <tr style=\"text-align: right;\">\n",
       "      <th></th>\n",
       "      <th>id</th>\n",
       "      <th>prompt</th>\n",
       "      <th>raw_inference</th>\n",
       "      <th>true_labels</th>\n",
       "      <th>predicted_labels</th>\n",
       "      <th>correct_labels</th>\n",
       "      <th>wrong_labels</th>\n",
       "      <th>missing_labels</th>\n",
       "      <th>dialogue</th>\n",
       "      <th>f1s</th>\n",
       "      <th>precision</th>\n",
       "      <th>recall</th>\n",
       "      <th>error_message</th>\n",
       "    </tr>\n",
       "  </thead>\n",
       "  <tbody>\n",
       "    <tr>\n",
       "      <th>82</th>\n",
       "      <td>identity_119</td>\n",
       "      <td>Extract entities and relations from the dialog...</td>\n",
       "      <td>[{\"subject\": \"Speaker 4\", \"subject_type\": \"PER...</td>\n",
       "      <td>[\\n {\\n  \"subject\": \"Speaker 6\",\\n  \"subject_t...</td>\n",
       "      <td>[\\n {\\n  \"subject\": \"Speaker 4\",\\n  \"subject_t...</td>\n",
       "      <td>[\\n {\\n  \"subject\": \"Speaker 6\",\\n  \"subject_t...</td>\n",
       "      <td>[]</td>\n",
       "      <td>[]</td>\n",
       "      <td>Extract entities and relations from the dialog...</td>\n",
       "      <td>1.0</td>\n",
       "      <td>1.0</td>\n",
       "      <td>1.0</td>\n",
       "      <td></td>\n",
       "    </tr>\n",
       "    <tr>\n",
       "      <th>6</th>\n",
       "      <td>identity_6</td>\n",
       "      <td>Extract entities and relations from the dialog...</td>\n",
       "      <td>[{\"subject\": \"Speaker 4\", \"subject_type\": \"PER...</td>\n",
       "      <td>[\\n {\\n  \"subject\": \"Speaker 4\",\\n  \"subject_t...</td>\n",
       "      <td>[\\n {\\n  \"subject\": \"Speaker 4\",\\n  \"subject_t...</td>\n",
       "      <td>[\\n {\\n  \"subject\": \"Barbara\",\\n  \"subject_typ...</td>\n",
       "      <td>[]</td>\n",
       "      <td>[]</td>\n",
       "      <td>Extract entities and relations from the dialog...</td>\n",
       "      <td>1.0</td>\n",
       "      <td>1.0</td>\n",
       "      <td>1.0</td>\n",
       "      <td></td>\n",
       "    </tr>\n",
       "    <tr>\n",
       "      <th>106</th>\n",
       "      <td>identity_186</td>\n",
       "      <td>Extract entities and relations from the dialog...</td>\n",
       "      <td>[{\"subject\": \"Speaker 3\", \"subject_type\": \"PER...</td>\n",
       "      <td>[\\n {\\n  \"subject\": \"Speaker 3\",\\n  \"subject_t...</td>\n",
       "      <td>[\\n {\\n  \"subject\": \"Speaker 3\",\\n  \"subject_t...</td>\n",
       "      <td>[\\n {\\n  \"subject\": \"Carol\",\\n  \"subject_type\"...</td>\n",
       "      <td>[]</td>\n",
       "      <td>[]</td>\n",
       "      <td>Extract entities and relations from the dialog...</td>\n",
       "      <td>1.0</td>\n",
       "      <td>1.0</td>\n",
       "      <td>1.0</td>\n",
       "      <td></td>\n",
       "    </tr>\n",
       "    <tr>\n",
       "      <th>65</th>\n",
       "      <td>identity_76</td>\n",
       "      <td>Extract entities and relations from the dialog...</td>\n",
       "      <td>[{\"subject\": \"Speaker 2\", \"subject_type\": \"PER...</td>\n",
       "      <td>[\\n {\\n  \"subject\": \"Speaker 2\",\\n  \"subject_t...</td>\n",
       "      <td>[\\n {\\n  \"subject\": \"Speaker 2\",\\n  \"subject_t...</td>\n",
       "      <td>[\\n {\\n  \"subject\": \"Speaker 2\",\\n  \"subject_t...</td>\n",
       "      <td>[]</td>\n",
       "      <td>[]</td>\n",
       "      <td>Extract entities and relations from the dialog...</td>\n",
       "      <td>1.0</td>\n",
       "      <td>1.0</td>\n",
       "      <td>1.0</td>\n",
       "      <td></td>\n",
       "    </tr>\n",
       "    <tr>\n",
       "      <th>151</th>\n",
       "      <td>identity_322</td>\n",
       "      <td>Extract entities and relations from the dialog...</td>\n",
       "      <td>[{\"subject\": \"Speaker 2\", \"subject_type\": \"PER...</td>\n",
       "      <td>[\\n {\\n  \"subject\": \"Speaker 2\",\\n  \"subject_t...</td>\n",
       "      <td>[\\n {\\n  \"subject\": \"Speaker 2\",\\n  \"subject_t...</td>\n",
       "      <td>[\\n {\\n  \"subject\": \"Speaker 2\",\\n  \"subject_t...</td>\n",
       "      <td>[]</td>\n",
       "      <td>[]</td>\n",
       "      <td>Extract entities and relations from the dialog...</td>\n",
       "      <td>1.0</td>\n",
       "      <td>1.0</td>\n",
       "      <td>1.0</td>\n",
       "      <td></td>\n",
       "    </tr>\n",
       "    <tr>\n",
       "      <th>...</th>\n",
       "      <td>...</td>\n",
       "      <td>...</td>\n",
       "      <td>...</td>\n",
       "      <td>...</td>\n",
       "      <td>...</td>\n",
       "      <td>...</td>\n",
       "      <td>...</td>\n",
       "      <td>...</td>\n",
       "      <td>...</td>\n",
       "      <td>...</td>\n",
       "      <td>...</td>\n",
       "      <td>...</td>\n",
       "      <td>...</td>\n",
       "    </tr>\n",
       "    <tr>\n",
       "      <th>118</th>\n",
       "      <td>identity_226</td>\n",
       "      <td>Extract entities and relations from the dialog...</td>\n",
       "      <td>[{\"subject\": \"Speaker 1\", \"subject_type\": \"PER...</td>\n",
       "      <td>[\\n {\\n  \"subject\": \"Speaker 2\",\\n  \"subject_t...</td>\n",
       "      <td>[\\n {\\n  \"subject\": \"Speaker 1\",\\n  \"subject_t...</td>\n",
       "      <td>None</td>\n",
       "      <td>None</td>\n",
       "      <td>[]</td>\n",
       "      <td>None</td>\n",
       "      <td>None</td>\n",
       "      <td>NaN</td>\n",
       "      <td>NaN</td>\n",
       "      <td>Unterminated string starting at: line 1 column...</td>\n",
       "    </tr>\n",
       "    <tr>\n",
       "      <th>148</th>\n",
       "      <td>identity_311</td>\n",
       "      <td>Extract entities and relations from the dialog...</td>\n",
       "      <td>[{\"subject\": \"Speaker 1\", \"subject_type\": \"PER...</td>\n",
       "      <td>[\\n {\\n  \"subject\": \"Speaker 2\",\\n  \"subject_t...</td>\n",
       "      <td>[\\n {\\n  \"subject\": \"Speaker 1\",\\n  \"subject_t...</td>\n",
       "      <td>None</td>\n",
       "      <td>None</td>\n",
       "      <td>[\\n {\\n  \"subject\": \"Speaker 2\",\\n  \"subject_t...</td>\n",
       "      <td>None</td>\n",
       "      <td>None</td>\n",
       "      <td>NaN</td>\n",
       "      <td>NaN</td>\n",
       "      <td>Unterminated string starting at: line 1 column...</td>\n",
       "    </tr>\n",
       "    <tr>\n",
       "      <th>85</th>\n",
       "      <td>identity_123</td>\n",
       "      <td>Extract entities and relations from the dialog...</td>\n",
       "      <td>[{\"subject\": \"Speaker 1\", \"subject_type\": \"PER...</td>\n",
       "      <td>[\\n {\\n  \"subject\": \"Speaker 2\",\\n  \"subject_t...</td>\n",
       "      <td>[\\n {\\n  \"subject\": \"Speaker 2\",\\n  \"subject_t...</td>\n",
       "      <td>None</td>\n",
       "      <td>None</td>\n",
       "      <td>[\\n {\\n  \"subject\": \"Speaker 2\",\\n  \"subject_t...</td>\n",
       "      <td>None</td>\n",
       "      <td>None</td>\n",
       "      <td>NaN</td>\n",
       "      <td>NaN</td>\n",
       "      <td>Unterminated string starting at: line 1 column...</td>\n",
       "    </tr>\n",
       "    <tr>\n",
       "      <th>36</th>\n",
       "      <td>identity_36</td>\n",
       "      <td>Extract entities and relations from the dialog...</td>\n",
       "      <td>None</td>\n",
       "      <td>[\\n {\\n  \"subject\": \"Speaker 1\",\\n  \"subject_t...</td>\n",
       "      <td>[\\n {\\n  \"subject\": \"Speaker 1\",\\n  \"subject_t...</td>\n",
       "      <td>None</td>\n",
       "      <td>None</td>\n",
       "      <td>[\\n {\\n  \"subject\": \"Speaker 1\",\\n  \"subject_t...</td>\n",
       "      <td>None</td>\n",
       "      <td>None</td>\n",
       "      <td>NaN</td>\n",
       "      <td>NaN</td>\n",
       "      <td>Invalid response object from API: '{\"object\":\"...</td>\n",
       "    </tr>\n",
       "    <tr>\n",
       "      <th>81</th>\n",
       "      <td>identity_118</td>\n",
       "      <td>Extract entities and relations from the dialog...</td>\n",
       "      <td>None</td>\n",
       "      <td>[\\n {\\n  \"subject\": \"Speaker 2\",\\n  \"subject_t...</td>\n",
       "      <td>[\\n {\\n  \"subject\": \"Speaker 1\",\\n  \"subject_t...</td>\n",
       "      <td>None</td>\n",
       "      <td>None</td>\n",
       "      <td>[]</td>\n",
       "      <td>None</td>\n",
       "      <td>None</td>\n",
       "      <td>NaN</td>\n",
       "      <td>NaN</td>\n",
       "      <td>Invalid response object from API: '{\"object\":\"...</td>\n",
       "    </tr>\n",
       "  </tbody>\n",
       "</table>\n",
       "<p>162 rows × 13 columns</p>\n",
       "</div>"
      ],
      "text/plain": [
       "               id                                             prompt  \\\n",
       "82   identity_119  Extract entities and relations from the dialog...   \n",
       "6      identity_6  Extract entities and relations from the dialog...   \n",
       "106  identity_186  Extract entities and relations from the dialog...   \n",
       "65    identity_76  Extract entities and relations from the dialog...   \n",
       "151  identity_322  Extract entities and relations from the dialog...   \n",
       "..            ...                                                ...   \n",
       "118  identity_226  Extract entities and relations from the dialog...   \n",
       "148  identity_311  Extract entities and relations from the dialog...   \n",
       "85   identity_123  Extract entities and relations from the dialog...   \n",
       "36    identity_36  Extract entities and relations from the dialog...   \n",
       "81   identity_118  Extract entities and relations from the dialog...   \n",
       "\n",
       "                                         raw_inference  \\\n",
       "82   [{\"subject\": \"Speaker 4\", \"subject_type\": \"PER...   \n",
       "6    [{\"subject\": \"Speaker 4\", \"subject_type\": \"PER...   \n",
       "106  [{\"subject\": \"Speaker 3\", \"subject_type\": \"PER...   \n",
       "65   [{\"subject\": \"Speaker 2\", \"subject_type\": \"PER...   \n",
       "151  [{\"subject\": \"Speaker 2\", \"subject_type\": \"PER...   \n",
       "..                                                 ...   \n",
       "118  [{\"subject\": \"Speaker 1\", \"subject_type\": \"PER...   \n",
       "148  [{\"subject\": \"Speaker 1\", \"subject_type\": \"PER...   \n",
       "85   [{\"subject\": \"Speaker 1\", \"subject_type\": \"PER...   \n",
       "36                                                None   \n",
       "81                                                None   \n",
       "\n",
       "                                           true_labels  \\\n",
       "82   [\\n {\\n  \"subject\": \"Speaker 6\",\\n  \"subject_t...   \n",
       "6    [\\n {\\n  \"subject\": \"Speaker 4\",\\n  \"subject_t...   \n",
       "106  [\\n {\\n  \"subject\": \"Speaker 3\",\\n  \"subject_t...   \n",
       "65   [\\n {\\n  \"subject\": \"Speaker 2\",\\n  \"subject_t...   \n",
       "151  [\\n {\\n  \"subject\": \"Speaker 2\",\\n  \"subject_t...   \n",
       "..                                                 ...   \n",
       "118  [\\n {\\n  \"subject\": \"Speaker 2\",\\n  \"subject_t...   \n",
       "148  [\\n {\\n  \"subject\": \"Speaker 2\",\\n  \"subject_t...   \n",
       "85   [\\n {\\n  \"subject\": \"Speaker 2\",\\n  \"subject_t...   \n",
       "36   [\\n {\\n  \"subject\": \"Speaker 1\",\\n  \"subject_t...   \n",
       "81   [\\n {\\n  \"subject\": \"Speaker 2\",\\n  \"subject_t...   \n",
       "\n",
       "                                      predicted_labels  \\\n",
       "82   [\\n {\\n  \"subject\": \"Speaker 4\",\\n  \"subject_t...   \n",
       "6    [\\n {\\n  \"subject\": \"Speaker 4\",\\n  \"subject_t...   \n",
       "106  [\\n {\\n  \"subject\": \"Speaker 3\",\\n  \"subject_t...   \n",
       "65   [\\n {\\n  \"subject\": \"Speaker 2\",\\n  \"subject_t...   \n",
       "151  [\\n {\\n  \"subject\": \"Speaker 2\",\\n  \"subject_t...   \n",
       "..                                                 ...   \n",
       "118  [\\n {\\n  \"subject\": \"Speaker 1\",\\n  \"subject_t...   \n",
       "148  [\\n {\\n  \"subject\": \"Speaker 1\",\\n  \"subject_t...   \n",
       "85   [\\n {\\n  \"subject\": \"Speaker 2\",\\n  \"subject_t...   \n",
       "36   [\\n {\\n  \"subject\": \"Speaker 1\",\\n  \"subject_t...   \n",
       "81   [\\n {\\n  \"subject\": \"Speaker 1\",\\n  \"subject_t...   \n",
       "\n",
       "                                        correct_labels wrong_labels  \\\n",
       "82   [\\n {\\n  \"subject\": \"Speaker 6\",\\n  \"subject_t...           []   \n",
       "6    [\\n {\\n  \"subject\": \"Barbara\",\\n  \"subject_typ...           []   \n",
       "106  [\\n {\\n  \"subject\": \"Carol\",\\n  \"subject_type\"...           []   \n",
       "65   [\\n {\\n  \"subject\": \"Speaker 2\",\\n  \"subject_t...           []   \n",
       "151  [\\n {\\n  \"subject\": \"Speaker 2\",\\n  \"subject_t...           []   \n",
       "..                                                 ...          ...   \n",
       "118                                               None         None   \n",
       "148                                               None         None   \n",
       "85                                                None         None   \n",
       "36                                                None         None   \n",
       "81                                                None         None   \n",
       "\n",
       "                                        missing_labels  \\\n",
       "82                                                  []   \n",
       "6                                                   []   \n",
       "106                                                 []   \n",
       "65                                                  []   \n",
       "151                                                 []   \n",
       "..                                                 ...   \n",
       "118                                                 []   \n",
       "148  [\\n {\\n  \"subject\": \"Speaker 2\",\\n  \"subject_t...   \n",
       "85   [\\n {\\n  \"subject\": \"Speaker 2\",\\n  \"subject_t...   \n",
       "36   [\\n {\\n  \"subject\": \"Speaker 1\",\\n  \"subject_t...   \n",
       "81                                                  []   \n",
       "\n",
       "                                              dialogue   f1s  precision  \\\n",
       "82   Extract entities and relations from the dialog...   1.0        1.0   \n",
       "6    Extract entities and relations from the dialog...   1.0        1.0   \n",
       "106  Extract entities and relations from the dialog...   1.0        1.0   \n",
       "65   Extract entities and relations from the dialog...   1.0        1.0   \n",
       "151  Extract entities and relations from the dialog...   1.0        1.0   \n",
       "..                                                 ...   ...        ...   \n",
       "118                                               None  None        NaN   \n",
       "148                                               None  None        NaN   \n",
       "85                                                None  None        NaN   \n",
       "36                                                None  None        NaN   \n",
       "81                                                None  None        NaN   \n",
       "\n",
       "     recall                                      error_message  \n",
       "82      1.0                                                     \n",
       "6       1.0                                                     \n",
       "106     1.0                                                     \n",
       "65      1.0                                                     \n",
       "151     1.0                                                     \n",
       "..      ...                                                ...  \n",
       "118     NaN  Unterminated string starting at: line 1 column...  \n",
       "148     NaN  Unterminated string starting at: line 1 column...  \n",
       "85      NaN  Unterminated string starting at: line 1 column...  \n",
       "36      NaN  Invalid response object from API: '{\"object\":\"...  \n",
       "81      NaN  Invalid response object from API: '{\"object\":\"...  \n",
       "\n",
       "[162 rows x 13 columns]"
      ]
     },
     "execution_count": 196,
     "metadata": {},
     "output_type": "execute_result"
    }
   ],
   "source": [
    "from src.processing.relation_extraction_evaluator import RelationExtractorEvaluator, RelationGranularMetrics\n",
    "from src.config import get_config_from_stem\n",
    "\n",
    "# Define path for the test dataset\n",
    "# data_stem=\"dialog-re-llama-11cls-rebalPairs-rwrtKeys-instrC-mxTrnCp3\"\n",
    "data_stem=\"dialog-re-llama-11cls-rebalPairs-rwrtKeys-instrC\"\n",
    "test_file_path = f\"/home/murilo/RelNetCare/data/processed/{data_stem}/{data_stem}-test.json\"\n",
    "\n",
    "# get config and evaluator\n",
    "config = get_config_from_stem(data_stem)\n",
    "evaluator = RelationExtractorEvaluator(config=config)\n",
    "\n",
    "# Evaluate performance\n",
    "df = evaluator.assess_performance_on_test_dataset(test_file_path, cap_size=None, return_details=True)\n",
    "df.sort_values(['f1s', 'raw_inference'], ascending=[False, False])\n"
   ]
  },
  {
   "cell_type": "code",
   "execution_count": 197,
   "metadata": {},
   "outputs": [
    {
     "name": "stdout",
     "output_type": "stream",
     "text": [
      "Extract entities and relations from the dialogue. Return a Python list of JSON objects, each fitting this schema: {\"subject\": \"<Entity>\", \"subject_type\": \"<Date/Animal/Event/Organization/Person/Location>\", \"relation\": \"<acquaintance/children/other_family/parents/pet/place_of_residence/residents_of_place/siblings/spouse/visited_place/visitors_of_place>\", \"object\": \"<Related Entity>\", \"object_type\": \"<Date/Animal/Event/Organization/Person/Location>\"}. No additional text or explanations. Return an empty list if no relevant entities or relations are found. Stick to the provided types and relations. You are like an API, you don't speak you only return JSON objects.\n",
      "Dialogue: \n",
      "[\n",
      " \"Speaker 1: Hi, Ursula.\",\n",
      " \"Speaker 2: Hey!\",\n",
      " \"Speaker 1: Okay, well umm, I know that we haven’t talked in a long time, but umm okay, our Mom is not our birth Mom. This-this other lady is our birth Mom.\",\n",
      " \"Speaker 2: Right, okay, the one that lives in Montuak, umm-hmm.\",\n",
      " \"Speaker 1: You know her?!\",\n",
      " \"Speaker 2: No, I umm, I read about her in Mom’s suicide note.\",\n",
      " \"Speaker 1: There-there was a suicide note?! Well, do you still have it?\",\n",
      " \"Speaker 2: Hang on.\",\n",
      " \"Speaker 1: I can’t believe you didn’t tell me there was a suicide note!\",\n",
      " \"Speaker 2: Yeah. So how have you been doing?\",\n",
      " \"Speaker 1: I, umm, shut up!\",\n",
      " \"Speaker 1: “Good-bye Phoebe and Ursula. I’ll miss you. P.S. Your Mom lives in Montauk.” You just wrote this!\",\n",
      " \"Speaker 2: Well, it’s pretty much the gist. Well, except for the poem. You read the poem, right?\",\n",
      " \"Speaker 1: Noooo!!\",\n",
      " \"Speaker 2: All right, hang on!\"\n",
      "]\n",
      "[{\"subject\": \"Speaker 1\", \"subject_type\": \"PER\", \"relation\": \"siblings\", \"object\": \"Phoebe\", \"object_type\": \"PER\"}, {\"subject\": \"Phoebe\", \"subject_type\": \"PER\", \"relation\": \"siblings\", \"object\": \"Speaker 1\", \"object_type\": \"PER\"}]\n"
     ]
    }
   ],
   "source": [
    "idx=1\n",
    "print(df.prompt.iloc[idx])\n",
    "print(df.raw_inference.iloc[idx])"
   ]
  },
  {
   "cell_type": "code",
   "execution_count": 198,
   "metadata": {},
   "outputs": [],
   "source": [
    "# p = '/home/murilo/RelNetCare/data/processed/dialog-re-llama-11cls-rebalPairs-rwrtKeys-instrC-mxTrnCp3/dialog-re-llama-11cls-rebalPairs-rwrtKeys-instrC-mxTrnCp3-test_20230906_075145.xlsx'\n",
    "\n",
    "# import pandas as pd\n",
    "\n",
    "# result_df = pd.read_excel(p)\n",
    "# # result_df \n",
    "\n",
    "# def try_convert_to_dict(labels):\n",
    "#     try:\n",
    "#         return json.dumps([dict(literal_eval(x)) for x in literal_eval(labels)], indent=1)\n",
    "#     except Exception as e:\n",
    "#         print(f\"An error occurred: {e}\")\n",
    "#         return None\n",
    "\n",
    "\n",
    "\n",
    "# for col in result_df.columns:\n",
    "#     if 'labels' in col:\n",
    "#         result_df[col] = result_df[col].apply(try_convert_to_dict)\n",
    "\n",
    "result_df.to_excel(p)"
   ]
  },
  {
   "cell_type": "code",
   "execution_count": 199,
   "metadata": {},
   "outputs": [
    {
     "name": "stdout",
     "output_type": "stream",
     "text": [
      "[\n",
      " {\n",
      "  \"subject\": \"Speaker 1\",\n",
      "  \"subject_type\": \"PER\",\n",
      "  \"relation\": \"parents\",\n",
      "  \"object\": \"Frank\",\n",
      "  \"object_type\": \"PER\"\n",
      " },\n",
      " {\n",
      "  \"subject\": \"Frank\",\n",
      "  \"subject_type\": \"PER\",\n",
      "  \"relation\": \"children\",\n",
      "  \"object\": \"Speaker 1\",\n",
      "  \"object_type\": \"PER\"\n",
      " }\n",
      "]\n"
     ]
    }
   ],
   "source": [
    "print(df.predicted_labels.apply(lambda x: str(x).replace(\"([('su\", \"\\n([('su\")).iloc[0]\n",
    ")"
   ]
  },
  {
   "cell_type": "code",
   "execution_count": 200,
   "metadata": {},
   "outputs": [],
   "source": [
    "# # \"dialog-re-llama-35cls-trToDial-rwrtKeys-instrA\"\n",
    "# idx = 5 # good: 5 | unfinished: 6,7,8 | bad: 9\n",
    "# tmp = df.iloc[idx]\n",
    "# print(f\"## PROMPT (idx={idx}, tmp.id={tmp.id})\\n\",tmp.prompt.replace('\",\\n', '\",').replace('{\\n', '{').replace('\\n }', '}'))\n",
    "# print(\"## PREDICTION\\n\",tmp.raw_inference)\n"
   ]
  },
  {
   "cell_type": "code",
   "execution_count": 211,
   "metadata": {},
   "outputs": [
    {
     "data": {
      "image/png": "[encoded data removed]",
      "text/plain": [
       "<Figure size 300x500 with 1 Axes>"
      ]
     },
     "metadata": {},
     "output_type": "display_data"
    }
   ],
   "source": [
    "from src.processing.relation_extraction_evaluator import RelationExtractorEvaluator, RelationGranularMetrics\n",
    "\n",
    "# Define your ontology\n",
    "your_ontology = {\n",
    "    \"Null-Relation\", \"other_family\", \"siblings\",\n",
    "    \"visited_place\", \"place_of_residence\",\n",
    "    \"spouse\", \"pet\", \"acquaintance\", \"children\",\n",
    "    \"visitors_of_place\", \"residents_of_place\", \"parents\", \n",
    "    \n",
    "    # \"title\", \"alternate_names\", \"place_of_work\", \"unanswerable\"\n",
    "    }\n",
    "\n",
    "\n",
    "# your_ontology = config.all_relations\n",
    "# Usage\n",
    "my_metrics = RelationGranularMetrics(df, your_ontology)\n",
    "result = my_metrics.process()\n",
    "chart_df = my_metrics.to_dataframe()\n",
    "my_metrics.plot_metrics(chart_df, figsize=(3,5))\n"
   ]
  },
  {
   "cell_type": "code",
   "execution_count": 202,
   "metadata": {},
   "outputs": [
    {
     "data": {
      "image/png": "[encoded data removed]",
      "text/plain": [
       "<Figure size 300x500 with 1 Axes>"
      ]
     },
     "metadata": {},
     "output_type": "display_data"
    }
   ],
   "source": [
    "import matplotlib.pyplot as plt\n",
    "\n",
    "# Your plotting code here\n",
    "ax = df[['f1s', 'precision', 'recall']].mean().plot(kind='barh', alpha=1, figsize=(3, 5))\n",
    "\n",
    "# Set x-axis tick labels\n",
    "plt.xticks([1], ['1'])\n",
    "\n",
    "# Adding data values on top of each bar\n",
    "for bar in ax.patches:\n",
    "    plt.text(bar.get_width(), bar.get_y() + bar.get_height()/2, f'{bar.get_width():.1%}', \n",
    "             va='center', ha='left')\n",
    "\n",
    "# Show the plot\n",
    "plt.show()\n"
   ]
  },
  {
   "cell_type": "code",
   "execution_count": 203,
   "metadata": {},
   "outputs": [
    {
     "data": {
      "text/plain": [
       "<Axes: ylabel='Frequency'>"
      ]
     },
     "execution_count": 203,
     "metadata": {},
     "output_type": "execute_result"
    },
    {
     "data": {
      "image/png": "[encoded data removed]",
      "text/plain": [
       "<Figure size 300x500 with 1 Axes>"
      ]
     },
     "metadata": {},
     "output_type": "display_data"
    }
   ],
   "source": [
    "df[['precision', 'recall', 'f1s']].fillna(0).plot(kind='hist', alpha=0.5, figsize=(3, 5))\n"
   ]
  },
  {
   "cell_type": "code",
   "execution_count": 204,
   "metadata": {},
   "outputs": [
    {
     "name": "stdout",
     "output_type": "stream",
     "text": [
      "Extract entities and relations from the dialogue. Return a Python list of JSON objects, each fitting this schema: {\"subject\": \"<Entity>\", \"subject_type\": \"<Animal/Organization/Location/Person/Date/Event>\", \"relation\": \"<acquaintance/children/other_family/parents/pet/place_of_residence/residents_of_place/siblings/spouse/visited_place/visitors_of_place>\", \"object\": \"<Related Entity>\", \"object_type\": \"<Animal/Organization/Location/Person/Date/Event>\"}. No additional text or explanations. Return an empty list if no relevant entities or relations are found. Stick to the provided types and relations. You are like an API, you don't speak you only return JSON objects.\n",
      "Dialogue: {input_dialogue}\n"
     ]
    }
   ],
   "source": [
    "print(config.preprompt)"
   ]
  },
  {
   "cell_type": "code",
   "execution_count": 9,
   "metadata": {},
   "outputs": [
    {
     "name": "stdout",
     "output_type": "stream",
     "text": [
      "Speaker 1: Hi, you are my father.\n",
      "Speaker 2: Yes, I am your father\n",
      "\n",
      "Extract personal relevant entities, and their relations. Return only the jsonl format list. Extract entities and relations from the given dialogue input and generate a JSON list as output that is structured according to the entity and relation types from the ontology.\n",
      "\n",
      "Ontology: \n",
      "- relations: {\"place_of_residence\", \"siblings\", \"residents_of_place\", \"visited_place\", \"visitors_of_place\", \"other_family\", \"parents\", \"pet\", \"acquaintance\", \"children\", \"spouse\"}\n",
      "- types: {\"ORG\", \"GPE\", \"PERSON\", \"DATE\", \"EVENT\", “ANIMAL”}\n",
      "\n",
      "Input:\n",
      "[\n",
      "\"Speaker 1: Hi, you are my father.\",\n",
      "\"Speaker 2: Yes, I am your father\",\n",
      "]\n",
      "\n",
      "Output:\n",
      "[\n",
      "{\"subject\": \"Speaker 1\", \"subject_type\": \"PERSON\", \"relation\": \"siblings\", \"object\": \"Speaker 2\", \"object_type\": \"PERSON\"},\n",
      "\n",
      "{\"subject\": \"Speaker 2\", \"subject_type\": \"PERSON\", \"relation\": \"siblings\", \"object\": \"Speaker 1\", \"object_type\": \"PERSON\"},\n",
      "\n",
      "{\"subject\": \"Speaker 1\", \"subject_type\": \"PERSON\", \"relation\": \"pet\", \"object\": \"Max\", \"object_type\": \"ANIMAL\"},\n",
      "\n",
      "{\"subject\": \"Max\", \"subject_type\": \"ANIMAL\", \"relation\": \"pet\", \"object\": \"Speaker 1\", \"object_type\": \"PERSON\"}\n",
      "]\n",
      "\n",
      "\n"
     ]
    }
   ],
   "source": [
    "dialogue = 'Speaker 1: Hi, you are my father.\\nSpeaker 2: Yes, I am your father'\n",
    "# dialogue = 'Speaker 1: I went to Maryland.\\nSpeaker 2: Why?\\nSpeaker 1: I work at Google there.'\n",
    "# dialogue = 'Speaker 1: I love my husband.\\nSpeaker 2: Sweet! What is his name?\\nSpeaker 1: John.'\n",
    "# dialogue = 'Speaker 1: I love my husband.\\nSpeaker 2: Sweet! '\n",
    "jsonl = evaluator.infer_from_model(dialogue, preprompt=config.preprompt)\n",
    "print(dialogue)\n",
    "\n",
    "try:\n",
    "    print(jsonl.replace('},', '},\\n'))\n",
    "except Exception as e:\n",
    "    print(f'Exception={e}')\n",
    "    print(jsonl)"
   ]
  }
 ],
 "metadata": {
  "kernelspec": {
   "display_name": "llama-lora",
   "language": "python",
   "name": "python3"
  },
  "language_info": {
   "codemirror_mode": {
    "name": "ipython",
    "version": 3
   },
   "file_extension": ".py",
   "mimetype": "text/x-python",
   "name": "python",
   "nbconvert_exporter": "python",
   "pygments_lexer": "ipython3",
   "version": "3.10.12"
  },
  "orig_nbformat": 4
 },
 "nbformat": 4,
 "nbformat_minor": 2
}
