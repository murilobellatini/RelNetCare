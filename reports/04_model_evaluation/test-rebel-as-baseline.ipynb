{
 "cells": [
  {
   "cell_type": "code",
   "execution_count": 1,
   "metadata": {},
   "outputs": [],
   "source": [
    "%load_ext autoreload\n",
    "%autoreload 2"
   ]
  },
  {
   "cell_type": "code",
   "execution_count": 8,
   "metadata": {},
   "outputs": [],
   "source": [
    "from transformers import pipeline\n",
    "\n",
    "triplet_extractor = pipeline('text2text-generation', model='Babelscape/rebel-large', tokenizer='Babelscape/rebel-large')\n",
    "\n",
    "\n",
    "# Function to parse the generated text and extract the triplets\n",
    "def extract_triplets(text):\n",
    "    triplets = []\n",
    "    relation, subject, relation, object_ = '', '', '', ''\n",
    "    text = text.strip()\n",
    "    current = 'x'\n",
    "    for token in text.replace(\"<s>\", \"\").replace(\"<pad>\", \"\").replace(\"</s>\", \"\").split():\n",
    "        if token == \"<triplet>\":\n",
    "            current = 't'\n",
    "            if relation != '':\n",
    "                triplets.append({'subject': subject.strip(), 'relation': relation.strip(),'object': object_.strip()})\n",
    "                relation = ''\n",
    "            subject = ''\n",
    "        elif token == \"<subj>\":\n",
    "            current = 's'\n",
    "            if relation != '':\n",
    "                triplets.append({'subject': subject.strip(), 'relation': relation.strip(),'object': object_.strip()})\n",
    "            object_ = ''\n",
    "        elif token == \"<obj>\":\n",
    "            current = 'o'\n",
    "            relation = ''\n",
    "        else:\n",
    "            if current == 't':\n",
    "                subject += ' ' + token\n",
    "            elif current == 's':\n",
    "                object_ += ' ' + token\n",
    "            elif current == 'o':\n",
    "                relation += ' ' + token\n",
    "    if subject != '' and relation != '' and object_ != '':\n",
    "        triplets.append({'subject': subject.strip(), 'relation': relation.strip(),'object': object_.strip()})\n",
    "    return triplets"
   ]
  },
  {
   "cell_type": "code",
   "execution_count": 9,
   "metadata": {},
   "outputs": [
    {
     "name": "stdout",
     "output_type": "stream",
     "text": [
      "<s><triplet> Punta Cana <subj> La Altagracia Province <obj> located in the administrative territorial entity <subj> Dominican Republic <obj> country <triplet> Higuey <subj> La Altagracia Province <obj> located in the administrative territorial entity <subj> Dominican Republic <obj> country <triplet> La Altagracia Province <subj> Dominican Republic <obj> country <triplet> Dominican Republic <subj> La Altagracia Province <obj> contains administrative territorial entity</s>\n"
     ]
    },
    {
     "data": {
      "text/plain": [
       "[{'subject': 'Punta Cana',\n",
       "  'relation': 'located in the administrative territorial entity',\n",
       "  'object': 'La Altagracia Province'},\n",
       " {'subject': 'Punta Cana',\n",
       "  'relation': 'country',\n",
       "  'object': 'Dominican Republic'},\n",
       " {'subject': 'Higuey',\n",
       "  'relation': 'located in the administrative territorial entity',\n",
       "  'object': 'La Altagracia Province'},\n",
       " {'subject': 'Higuey', 'relation': 'country', 'object': 'Dominican Republic'},\n",
       " {'subject': 'La Altagracia Province',\n",
       "  'relation': 'country',\n",
       "  'object': 'Dominican Republic'},\n",
       " {'subject': 'Dominican Republic',\n",
       "  'relation': 'contains administrative territorial entity',\n",
       "  'object': 'La Altagracia Province'}]"
      ]
     },
     "execution_count": 9,
     "metadata": {},
     "output_type": "execute_result"
    }
   ],
   "source": [
    "input_text = \"Punta Cana is a resort town in the municipality of Higuey, in La Altagracia Province, the eastern most province of the Dominican Republic\"\n",
    "extracted_text = triplet_extractor.tokenizer.batch_decode([triplet_extractor(input_text, return_tensors=True, return_text=False)[0][\"generated_token_ids\"]])\n",
    "\n",
    "print(extracted_text[0])\n",
    "extracted_triplets = extract_triplets(extracted_text[0])\n",
    "extracted_triplets"
   ]
  },
  {
   "cell_type": "code",
   "execution_count": 10,
   "metadata": {},
   "outputs": [
    {
     "name": "stdout",
     "output_type": "stream",
     "text": [
      "{'subject': 'Punta Cana', 'relation': 'located in the administrative territorial entity', 'object': 'La Altagracia Province'}\n",
      "{'subject': 'Punta Cana', 'relation': 'country', 'object': 'Dominican Republic'}\n",
      "{'subject': 'Higuey', 'relation': 'located in the administrative territorial entity', 'object': 'La Altagracia Province'}\n",
      "{'subject': 'Higuey', 'relation': 'country', 'object': 'Dominican Republic'}\n",
      "{'subject': 'La Altagracia Province', 'relation': 'country', 'object': 'Dominican Republic'}\n",
      "{'subject': 'Dominican Republic', 'relation': 'contains administrative territorial entity', 'object': 'La Altagracia Province'}\n"
     ]
    },
    {
     "data": {
      "text/plain": [
       "[None, None, None, None, None, None]"
      ]
     },
     "execution_count": 10,
     "metadata": {},
     "output_type": "execute_result"
    }
   ],
   "source": [
    "[print(t) for t in extracted_triplets]"
   ]
  },
  {
   "cell_type": "code",
   "execution_count": 11,
   "metadata": {},
   "outputs": [
    {
     "name": "stdout",
     "output_type": "stream",
     "text": [
      "<s><triplet> My agent would like to know why I didn't show up at the audition I didn't know I had today. I-I-I meant to tell you, and I wrote it all down on my hand. I don't care! Annie you are a doll, what time can you see him <subj> my audition <obj> present in work <triplet> my audition <subj> My agent would like to know why I didn't show up at the audition I didn't know I had today. I-I-I meant to tell you, and I wrote it all down on my hand. I don't care! Annie you</s>\n"
     ]
    },
    {
     "data": {
      "text/plain": [
       "[{'subject': \"My agent would like to know why I didn't show up at the audition I didn't know I had today. I-I-I meant to tell you, and I wrote it all down on my hand. I don't care! Annie you are a doll, what time can you see him\",\n",
       "  'relation': 'present in work',\n",
       "  'object': 'my audition'}]"
      ]
     },
     "execution_count": 11,
     "metadata": {},
     "output_type": "execute_result"
    }
   ],
   "source": [
    "input_dialogue =  [\n",
    "   \"Speaker 1: Hey!\",\n",
    "   \"Speaker 2: Hey.\",\n",
    "   \"Speaker 3: Hey, man. What's up?\",\n",
    "   \"Speaker 1: Maybe you can tell me. My agent would like to know why I didn't show up at the audition I didn't know I had today. The first good thing she gets me in weeks. How could you not give me the message?!\",\n",
    "   \"Speaker 3: Well, I'll tell ya I do enjoy guilt, but, ah, it wasn't me.\",\n",
    "   \"Speaker 2: Yes, it was! It was him! Uh huh! Okay, it was me!\",\n",
    "   \"Speaker 1: How is it you?\",\n",
    "   \"Speaker 2: Well, it was just, it was all so crazy, you know. I mean, Chandler was in the closet, counting to 10, and he was up to 7 and I hadn't found a place to hide yet. I-I-I meant to tell you, and I wrote it all down on my hand. See, all of it.\",\n",
    "   \"Speaker 1: Yep, that's my audition.\",\n",
    "   \"Speaker 4: See, now this is why I keep notepads everywhere.\",\n",
    "   \"Speaker 2: Yep, and that's why we don't invite you to play.\",\n",
    "   \"Speaker 5: What is the great tragedy here? You go get yourself another appointment.\",\n",
    "   \"Speaker 1: Well, Estelle tried, you know. The casting director told her that I missed my chance.\",\n",
    "   \"Speaker 2: That is unfair. I'll call her and tell her it was totally my fault.\",\n",
    "   \"Speaker 1: Pheebs, you can't do that. The casting director doesn't talk to friends, she only talks to agents.\",\n",
    "   \"Speaker 2: What a sad little life she must lead. Okay, ooh.\",\n",
    "   \"Speaker 1: What, what are you doing? What are you doing?\",\n",
    "   \"Speaker 2: No, no, no, I know, I know, ooh. 'Hi, this is Katelynn, from Phoebe Buffay's office. Um, is um, Ann there for Phoebe, she'll know what it's about.'\",\n",
    "   \"Speaker 1: Hang up, hang up.\",\n",
    "   \"Speaker 2: 'Annie! Hi. Listen we got a problem with Joey Tribbiani, apparently he missed his audition. Who did you speak to in my office? Estelle, no, I don't know what I'm going to do with her. No. All right, so your husband leaves and burns down the apartment, the world does not stop.'\",\n",
    "   \"Speaker 3: Is anybody else scared?\",\n",
    "   \"Speaker 2: 'Right, well look, um, if Joey loses this audition, that is it for Estelle. I don't care! Annie you are a doll, what time can you see him?' I need a pen.\",\n",
    "   \"Speaker 3: Get the woman a pad! Get the woman a pad! A pad! A pad!\",\n",
    "   \"Speaker 4: Oh, now you want a pad.\"\n",
    "  ]\n",
    "  \n",
    "  \n",
    "input_text = \"\\n\".join(input_dialogue)\n",
    "extracted_text = triplet_extractor.tokenizer.batch_decode([triplet_extractor(input_text, return_tensors=True, return_text=False)[0][\"generated_token_ids\"]])\n",
    "\n",
    "print(extracted_text[0])\n",
    "extracted_triplets = extract_triplets(extracted_text[0])\n",
    "extracted_triplets"
   ]
  }
 ],
 "metadata": {
  "kernelspec": {
   "display_name": "llama-lora",
   "language": "python",
   "name": "python3"
  },
  "language_info": {
   "codemirror_mode": {
    "name": "ipython",
    "version": 3
   },
   "file_extension": ".py",
   "mimetype": "text/x-python",
   "name": "python",
   "nbconvert_exporter": "python",
   "pygments_lexer": "ipython3",
   "version": "3.10.12"
  },
  "orig_nbformat": 4
 },
 "nbformat": 4,
 "nbformat_minor": 2
}
