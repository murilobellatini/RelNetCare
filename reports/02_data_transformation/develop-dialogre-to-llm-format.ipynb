{
 "cells": [
  {
   "cell_type": "code",
   "execution_count": 115,
   "metadata": {},
   "outputs": [
    {
     "name": "stdout",
     "output_type": "stream",
     "text": [
      "The autoreload extension is already loaded. To reload it, use:\n",
      "  %reload_ext autoreload\n"
     ]
    }
   ],
   "source": [
    "%load_ext autoreload\n",
    "%autoreload 2"
   ]
  },
  {
   "cell_type": "code",
   "execution_count": 116,
   "metadata": {},
   "outputs": [],
   "source": [
    "import os\n",
    "import json\n",
    "\n",
    "\n",
    "def transform_data(data, start_idx=0, skip_relations=[]):\n",
    "    new_data = []\n",
    "    identity_counter = start_idx\n",
    "\n",
    "    for conversation, triples in data:\n",
    "        triples_text = []\n",
    "        for triple in triples:\n",
    "            x, y, r = triple[\"x\"], triple[\"y\"], triple[\"r\"][0].split(':')[-1] if triple[\"r\"] else None\n",
    "            if r and (not r in skip_relations):\n",
    "                triples_text.append({\n",
    "                    \"x\": x,\n",
    "                    \"r\": r,\n",
    "                    \"y\": y\n",
    "                })\n",
    "                \n",
    "\n",
    "        \n",
    "        conversation_text = \"\" + str(json.dumps(triples_text))\n",
    "        output_text = \"\\n\".join(conversation)\n",
    "\n",
    "        conversation_entry = {\n",
    "            \"id\": f\"identity_{identity_counter}\",\n",
    "            \"conversations\": [\n",
    "                {\n",
    "                    \"from\": \"human\",\n",
    "                    \"value\": output_text\n",
    "                    \n",
    "                },\n",
    "                {\n",
    "                    \"from\": \"gpt\",\n",
    "                    \"value\": conversation_text\n",
    "                }\n",
    "            ]\n",
    "        }\n",
    "        \n",
    "        identity_counter += 1\n",
    "        \n",
    "        if triples_text == []:\n",
    "            continue\n",
    "        \n",
    "        new_data.append(conversation_entry)\n",
    "\n",
    "    return new_data"
   ]
  },
  {
   "cell_type": "code",
   "execution_count": 120,
   "metadata": {},
   "outputs": [
    {
     "name": "stdout",
     "output_type": "stream",
     "text": [
      "relations to keep= 35\n"
     ]
    }
   ],
   "source": [
    "all_relations = {\"positive_impression\", \"negative_impression\", \"acquaintance\", \"alumni\", \"boss\", \"subordinate\", \"client\", \"dates\", \"friends\", \"girl/boyfriend\", \"neighbor\", \"roommate\", \"children\", \"other_family\", \"parents\", \"siblings\", \"spouse\", \"place_of_residence\", \"visited_place\", \"origin\", \"employee_or_member_of\", \"schools_attended\", \"works\", \"age\", \"date_of_birth\", \"major\", \"place_of_work\", \"title\", \"alternate_names\", \"pet\", \"residents_of_place\", \"visitors_of_place\", \"employees_or_members\", \"students\", \"unanswerable\"}\n",
    "allowed_relations = {\"positive_impression\", \"negative_impression\", \"acquaintance\", \"alumni\", \"boss\", \"subordinate\", \"client\", \"dates\", \"friends\", \"girl/boyfriend\", \"neighbor\", \"roommate\", \"children\", \"other_family\", \"parents\", \"siblings\", \"spouse\", \"place_of_residence\", \"visited_place\", \"origin\", \"employee_or_member_of\", \"schools_attended\", \"works\", \"age\", \"date_of_birth\", \"major\", \"place_of_work\", \"title\", \"alternate_names\", \"pet\", \"residents_of_place\", \"visitors_of_place\", \"employees_or_members\", \"students\", \"unanswerable\"}\n",
    "# allowed_relations = {\"acquaintance\", \"children\", \"other_family\", \"parents\", \"siblings\", \"spouse\", \"place_of_residence\", \"visited_place\", \"pet\", \"residents_of_place\", \"visitors_of_place\"}\n",
    "skip_relations = [r for r in all_relations if not r in allowed_relations]\n",
    "print(\"relations to keep=\",len(allowed_relations))"
   ]
  },
  {
   "cell_type": "code",
   "execution_count": 121,
   "metadata": {},
   "outputs": [
    {
     "name": "stdout",
     "output_type": "stream",
     "text": [
      "['train', 'dev'] 1431\n",
      "['test'] 357\n"
     ]
    }
   ],
   "source": [
    "import os\n",
    "import json\n",
    "\n",
    "# Paths\n",
    "INPUT_DIR = \"/home/murilo/RelNetCare/data/raw/dialog-re\"\n",
    "OUTPUT_DIR = \"/home/murilo/RelNetCare/data/processed/dialog-re-llama\"\n",
    "file_sets = [['train', 'dev'], ['test']]\n",
    "\n",
    "for files in file_sets:\n",
    "    output_dataset_name = f\"dialog-re-llama-{len(allowed_relations)}cls-{'-'.join(files)}\"\n",
    "    last_data_idx = 0\n",
    "    new_format = []\n",
    "\n",
    "    # Check and create directory if not exists\n",
    "    if not os.path.exists(OUTPUT_DIR):\n",
    "        os.makedirs(OUTPUT_DIR)\n",
    "\n",
    "    for f in files:\n",
    "        input_data_path = os.path.join(INPUT_DIR, f'{f}.json')\n",
    "        \n",
    "        # Ensure the file exists before attempting to open it\n",
    "        if os.path.exists(input_data_path):\n",
    "            with open(input_data_path, encoding='utf8') as fp:\n",
    "                data = json.load(fp)\n",
    "            \n",
    "            new_format.extend(transform_data(data, start_idx=last_data_idx, skip_relations=skip_relations))\n",
    "            last_data_idx = len(data)\n",
    "\n",
    "    output_data_path = os.path.join(OUTPUT_DIR, f'{output_dataset_name}.json')\n",
    "\n",
    "\n",
    "    # Here, we'll write to the file instead of reading it.\n",
    "    # Assuming you want to save the newly formatted data.\n",
    "    with open(output_data_path, 'w', encoding='utf8') as fp:\n",
    "        json.dump(new_format, fp)\n",
    "\n",
    "    print(files,len(new_format))"
   ]
  },
  {
   "cell_type": "code",
   "execution_count": 103,
   "metadata": {},
   "outputs": [],
   "source": [
    "x = \"[{\\\"x\\\": \\\"Speaker 1\\\", \\\"r\\\": \\\"spouse\\\", \\\"y\\\": \\\"Carol\\\"}, {\\\"x\\\": \\\"Carol\\\", \\\"r\\\": \\\"spouse\\\", \\\"y\\\": \\\"Speaker 1\\\"}]\"\n",
    " \n",
    " \n",
    "# Evaluate the string to get a list of strings\n",
    "x_list = eval(x)\n",
    "\n",
    "# Convert each string in the list into a dictionary\n",
    "# dicts = [json.loads(item) for item in x_list]\n",
    "\n",
    "# print(dicts)"
   ]
  },
  {
   "cell_type": "code",
   "execution_count": 37,
   "metadata": {},
   "outputs": [],
   "source": [
    "input_data_path = os.path.join(INPUT_DIR, f'test.json')\n",
    "\n",
    "with open(input_data_path, encoding='utf8') as fp:\n",
    "    data = json.load(fp)"
   ]
  },
  {
   "cell_type": "code",
   "execution_count": 41,
   "metadata": {},
   "outputs": [],
   "source": [
    "idx = 0\n",
    "tmp = transform_data(data)[idx]"
   ]
  },
  {
   "cell_type": "code",
   "execution_count": 47,
   "metadata": {},
   "outputs": [
    {
     "data": {
      "text/plain": [
       "\"[{'x': 'Speaker 1', 'r': 'per:age', 'y': '50'}, {'x': 'Speaker 1', 'r': 'per:place_of_residence', 'y': 'Montauk'}, {'x': 'Speaker 1', 'r': 'per:alumni', 'y': 'Frank'}, {'x': 'Frank', 'r': 'per:alumni', 'y': 'Speaker 1'}, {'x': 'Montauk', 'r': 'gpe:residents_of_place', 'y': 'Speaker 1'}, {'x': 'Speaker 7', 'r': 'unanswerable', 'y': 'pal'}, {'x': 'Speaker 3', 'r': 'unanswerable', 'y': 'pal'}, {'x': 'Speaker 3', 'r': 'unanswerable', 'y': 'Dad'}, {'x': 'Speaker 2', 'r': 'unanswerable', 'y': 'pal'}]\""
      ]
     },
     "execution_count": 47,
     "metadata": {},
     "output_type": "execute_result"
    }
   ],
   "source": [
    "tmp['conversations'][0]['value']\n",
    "tmp['conversations'][1]['value']"
   ]
  },
  {
   "cell_type": "code",
   "execution_count": 50,
   "metadata": {},
   "outputs": [],
   "source": [
    "gt = eval(\"[{'x': 'Speaker 1', 'r': 'per:age', 'y': '50'}, {'x': 'Speaker 1', 'r': 'per:place_of_residence', 'y': 'Montauk'}, {'x': 'Speaker 1', 'r': 'per:alumni', 'y': 'Frank'}, {'x': 'Frank', 'r': 'per:alumni', 'y': 'Speaker 1'}, {'x': 'Montauk', 'r': 'gpe:residents_of_place', 'y': 'Speaker 1'}, {'x': 'Speaker 7', 'r': 'unanswerable', 'y': 'pal'}, {'x': 'Speaker 3', 'r': 'unanswerable', 'y': 'pal'}, {'x': 'Speaker 3', 'r': 'unanswerable', 'y': 'Dad'}, {'x': 'Speaker 2', 'r': 'unanswerable', 'y': 'pal'}]\")"
   ]
  },
  {
   "cell_type": "code",
   "execution_count": 52,
   "metadata": {},
   "outputs": [
    {
     "data": {
      "text/plain": [
       "[{'x': 'Speaker 1', 'r': 'per:age', 'y': '50'},\n",
       " {'x': 'Speaker 1', 'r': 'per:place_of_residence', 'y': 'Montauk'},\n",
       " {'x': 'Speaker 1', 'r': 'per:alumni', 'y': 'Frank'},\n",
       " {'x': 'Frank', 'r': 'per:alumni', 'y': 'Speaker 1'},\n",
       " {'x': 'Montauk', 'r': 'gpe:residents_of_place', 'y': 'Speaker 1'},\n",
       " {'x': 'Speaker 7', 'r': 'unanswerable', 'y': 'pal'},\n",
       " {'x': 'Speaker 3', 'r': 'unanswerable', 'y': 'pal'},\n",
       " {'x': 'Speaker 3', 'r': 'unanswerable', 'y': 'Dad'},\n",
       " {'x': 'Speaker 2', 'r': 'unanswerable', 'y': 'pal'}]"
      ]
     },
     "execution_count": 52,
     "metadata": {},
     "output_type": "execute_result"
    }
   ],
   "source": [
    "gt"
   ]
  },
  {
   "cell_type": "code",
   "execution_count": 57,
   "metadata": {},
   "outputs": [],
   "source": [
    "prediction = \"[{‘x’: ‘Speaker 6’, ‘r’: ‘per:alternate_names’, ‘y’: ‘Phoebe’}, {‘x’: ‘Speaker 6’, ‘r’: ‘per:alternate_names’, ‘y’:‘my pal Phoebe’}, {‘x’: ‘Speaker 1’, ‘r’: ‘per:parents’, ‘y’: ‘Speaker 1’s parents’}, {‘x’: ‘Speaker 4’, ‘r’: ‘per:friends’, ‘y’: ‘Speaker 6’}, {‘x’: ‘Speaker 1’s parents’, ‘r’: ‘per:children’, ‘y’: ‘Speaker 1’}, {‘x’: ‘Speaker 7’, ‘r’: ‘unanswerable’, ‘y’:‘my pal Phoebe’}]\""
   ]
  },
  {
   "cell_type": "code",
   "execution_count": 61,
   "metadata": {},
   "outputs": [
    {
     "data": {
      "text/plain": [
       "[{'x': 'Speaker 6', 'r': 'per:alternate_names', 'y': 'Phoebe'},\n",
       " {'x': 'Speaker 6', 'r': 'per:alternate_names', 'y': 'my pal Phoebe'},\n",
       " {'x': 'Speaker 1', 'r': 'per:parents', 'y': \"Speaker 1's parents\"},\n",
       " {'x': 'Speaker 4', 'r': 'per:friends', 'y': 'Speaker 6'},\n",
       " {'x': \"Speaker 1's parents\", 'r': 'per:children', 'y': 'Speaker 1'},\n",
       " {'x': 'Speaker 7', 'r': 'unanswerable', 'y': 'my pal Phoebe'}]"
      ]
     },
     "execution_count": 61,
     "metadata": {},
     "output_type": "execute_result"
    }
   ],
   "source": [
    "[{'x': 'Speaker 6', 'r': 'per:alternate_names', 'y': 'Phoebe'},\n",
    " {'x': 'Speaker 6', 'r': 'per:alternate_names', 'y':'my pal Phoebe'},\n",
    " {'x': 'Speaker 1', 'r': 'per:parents', 'y': 'Speaker 1\\'s parents'}, \n",
    "  {'x': 'Speaker 4', 'r': 'per:friends', 'y': 'Speaker 6'},\n",
    "  {'x': 'Speaker 1\\'s parents', 'r': 'per:children', 'y': 'Speaker 1'},\n",
    "  {'x': 'Speaker 7', 'r': 'unanswerable', 'y':'my pal Phoebe'}]\n"
   ]
  },
  {
   "cell_type": "code",
   "execution_count": 62,
   "metadata": {},
   "outputs": [
    {
     "data": {
      "text/plain": [
       "[{'x': 'Speaker 1', 'r': 'per:age', 'y': '50'},\n",
       " {'x': 'Speaker 1', 'r': 'per:place_of_residence', 'y': 'Montauk'},\n",
       " {'x': 'Speaker 1', 'r': 'per:alumni', 'y': 'Frank'},\n",
       " {'x': 'Frank', 'r': 'per:alumni', 'y': 'Speaker 1'},\n",
       " {'x': 'Montauk', 'r': 'gpe:residents_of_place', 'y': 'Speaker 1'},\n",
       " {'x': 'Speaker 7', 'r': 'unanswerable', 'y': 'pal'},\n",
       " {'x': 'Speaker 3', 'r': 'unanswerable', 'y': 'pal'},\n",
       " {'x': 'Speaker 3', 'r': 'unanswerable', 'y': 'Dad'},\n",
       " {'x': 'Speaker 2', 'r': 'unanswerable', 'y': 'pal'}]"
      ]
     },
     "execution_count": 62,
     "metadata": {},
     "output_type": "execute_result"
    }
   ],
   "source": [
    "gt"
   ]
  }
 ],
 "metadata": {
  "kernelspec": {
   "display_name": "llama-lora",
   "language": "python",
   "name": "python3"
  },
  "language_info": {
   "codemirror_mode": {
    "name": "ipython",
    "version": 3
   },
   "file_extension": ".py",
   "mimetype": "text/x-python",
   "name": "python",
   "nbconvert_exporter": "python",
   "pygments_lexer": "ipython3",
   "version": "3.10.12"
  },
  "orig_nbformat": 4
 },
 "nbformat": 4,
 "nbformat_minor": 2
}
