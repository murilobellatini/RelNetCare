{
 "cells": [
  {
   "cell_type": "code",
   "execution_count": 32,
   "metadata": {},
   "outputs": [
    {
     "name": "stdout",
     "output_type": "stream",
     "text": [
      "The autoreload extension is already loaded. To reload it, use:\n",
      "  %reload_ext autoreload\n"
     ]
    }
   ],
   "source": [
    "%load_ext autoreload\n",
    "%autoreload 2"
   ]
  },
  {
   "cell_type": "code",
   "execution_count": 33,
   "metadata": {},
   "outputs": [],
   "source": [
    "import os\n",
    "import json\n",
    "\n",
    "\n",
    "def transform_data(data, start_idx=0):\n",
    "    new_data = []\n",
    "    identity_counter = start_idx\n",
    "\n",
    "    for conversation, triples in data:\n",
    "        triples_text = []\n",
    "        for triple in triples:\n",
    "            x, y, r = triple[\"x\"], triple[\"y\"], triple[\"r\"][0] if triple[\"r\"] else None\n",
    "            if r:\n",
    "                triples_text.append({\n",
    "                    \"x\": x,\n",
    "                    \"r\": r,\n",
    "                    \"y\": y\n",
    "                })\n",
    "        \n",
    "        conversation_text = \"\" + str(triples_text)\n",
    "        output_text = \"\\n\".join(conversation)\n",
    "\n",
    "        conversation_entry = {\n",
    "            \"id\": f\"identity_{identity_counter}\",\n",
    "            \"conversations\": [\n",
    "                {\n",
    "                    \"from\": \"human\",\n",
    "                    \"value\": output_text\n",
    "                    \n",
    "                },\n",
    "                {\n",
    "                    \"from\": \"gpt\",\n",
    "                    \"value\": conversation_text\n",
    "                }\n",
    "            ]\n",
    "        }\n",
    "        new_data.append(conversation_entry)\n",
    "        identity_counter += 1\n",
    "\n",
    "    return new_data"
   ]
  },
  {
   "cell_type": "code",
   "execution_count": 34,
   "metadata": {},
   "outputs": [],
   "source": [
    "\n",
    "\n",
    "import os\n",
    "import json\n",
    "\n",
    "# Paths\n",
    "INPUT_DIR = \"/home/murilo/RelNetCare/data/raw/dialog-re\"\n",
    "OUTPUT_DIR = \"/home/murilo/RelNetCare/data/processed/dialog-re-llama\"\n",
    "files = ['train', 'dev']\n",
    "last_data_idx = 0\n",
    "new_format = []\n",
    "\n",
    "# Check and create directory if not exists\n",
    "if not os.path.exists(OUTPUT_DIR):\n",
    "    os.makedirs(OUTPUT_DIR)\n",
    "\n",
    "for f in files:\n",
    "    input_data_path = os.path.join(INPUT_DIR, f'{f}.json')\n",
    "    \n",
    "    # Ensure the file exists before attempting to open it\n",
    "    if os.path.exists(input_data_path):\n",
    "        with open(input_data_path, encoding='utf8') as fp:\n",
    "            data = json.load(fp)\n",
    "        \n",
    "        new_format.extend(transform_data(data, start_idx=last_data_idx))\n",
    "        last_data_idx = len(data)\n",
    "\n",
    "output_data_path = os.path.join(OUTPUT_DIR, 'dialog-re-llama-train-dev.json')\n",
    "\n",
    "# Here, we'll write to the file instead of reading it.\n",
    "# Assuming you want to save the newly formatted data.\n",
    "with open(output_data_path, 'w', encoding='utf8') as fp:\n",
    "    json.dump(new_format, fp)\n"
   ]
  },
  {
   "cell_type": "code",
   "execution_count": null,
   "metadata": {},
   "outputs": [],
   "source": []
  }
 ],
 "metadata": {
  "kernelspec": {
   "display_name": "llama-lora",
   "language": "python",
   "name": "python3"
  },
  "language_info": {
   "codemirror_mode": {
    "name": "ipython",
    "version": 3
   },
   "file_extension": ".py",
   "mimetype": "text/x-python",
   "name": "python",
   "nbconvert_exporter": "python",
   "pygments_lexer": "ipython3",
   "version": "3.10.12"
  },
  "orig_nbformat": 4
 },
 "nbformat": 4,
 "nbformat_minor": 2
}
