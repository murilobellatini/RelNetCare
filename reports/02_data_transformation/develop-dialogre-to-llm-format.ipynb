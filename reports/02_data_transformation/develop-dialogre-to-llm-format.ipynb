{
 "cells": [
  {
   "cell_type": "code",
   "execution_count": 123,
   "metadata": {},
   "outputs": [
    {
     "name": "stdout",
     "output_type": "stream",
     "text": [
      "The autoreload extension is already loaded. To reload it, use:\n",
      "  %reload_ext autoreload\n"
     ]
    }
   ],
   "source": [
    "%load_ext autoreload\n",
    "%autoreload 2"
   ]
  },
  {
   "cell_type": "code",
   "execution_count": 125,
   "metadata": {},
   "outputs": [],
   "source": [
    "import os\n",
    "import json\n",
    "\n",
    "def filter_skip_relations(all_relations, allowed_relations):\n",
    "    \"\"\"Return a list of relations not in allowed_relations.\"\"\"\n",
    "    return [r for r in all_relations if r not in allowed_relations]\n",
    "\n",
    "\n",
    "def transform_data_to_llm_format(data, start_idx=0, skip_relations=[]):\n",
    "    \"\"\"Transform the given data into LLM ready dialogue format.\"\"\"\n",
    "    new_data = []\n",
    "    identity_counter = start_idx\n",
    "\n",
    "    for conversation, triples in data:\n",
    "        triples_text = [\n",
    "            {\n",
    "                \"x\": triple[\"x\"],\n",
    "                \"r\": triple[\"r\"][0].split(':')[-1],\n",
    "                \"y\": triple[\"y\"]\n",
    "            }\n",
    "            for triple in triples\n",
    "            if triple[\"r\"] and triple[\"r\"][0].split(':')[-1] not in skip_relations\n",
    "        ]\n",
    "\n",
    "        conversation_entry = {\n",
    "            \"id\": f\"identity_{identity_counter}\",\n",
    "            \"conversations\": [\n",
    "                {\"from\": \"human\", \"value\": \"\\n\".join(conversation)},\n",
    "                {\"from\": \"gpt\", \"value\": str(json.dumps(triples_text))}\n",
    "            ]\n",
    "        }\n",
    "\n",
    "        identity_counter += 1\n",
    "\n",
    "        if triples_text:\n",
    "            new_data.append(conversation_entry)\n",
    "\n",
    "    return new_data\n",
    "\n",
    "\n",
    "def create_directory_if_not_exists(directory_path):\n",
    "    \"\"\"Create a directory if it does not already exist.\"\"\"\n",
    "    if not os.path.exists(directory_path):\n",
    "        os.makedirs(directory_path)\n",
    "\n",
    "\n",
    "def process_and_save_data(file_sets, input_dir, output_dir, skip_relations):\n",
    "    \"\"\"Process the input data and save in the specified format.\"\"\"\n",
    "    for files in file_sets:\n",
    "        dataset_name = f\"dialog-re-llama-{len(allowed_relations)}cls-{'-'.join(files)}\"\n",
    "        last_data_idx = 0\n",
    "        new_format = []\n",
    "\n",
    "        create_directory_if_not_exists(output_dir)\n",
    "\n",
    "        for f in files:\n",
    "            input_data_path = os.path.join(input_dir, f'{f}.json')\n",
    "            \n",
    "            # Check if file exists\n",
    "            if os.path.exists(input_data_path):\n",
    "                with open(input_data_path, encoding='utf8') as fp:\n",
    "                    data = json.load(fp)\n",
    "\n",
    "                new_format.extend(transform_data_to_llm_format(data, start_idx=last_data_idx, skip_relations=skip_relations))\n",
    "                last_data_idx = len(new_format)\n",
    "\n",
    "        output_data_path = os.path.join(output_dir, f'{dataset_name}.json')\n",
    "        with open(output_data_path, 'w', encoding='utf8') as fp:\n",
    "            json.dump(new_format, fp)\n",
    "\n",
    "        print(files, len(new_format))\n"
   ]
  },
  {
   "cell_type": "code",
   "execution_count": 126,
   "metadata": {},
   "outputs": [
    {
     "name": "stdout",
     "output_type": "stream",
     "text": [
      "['train', 'dev'] 1431\n",
      "['test'] 357\n"
     ]
    }
   ],
   "source": [
    "if __name__ == '__main__':\n",
    "    # Relations\n",
    "    all_relations = {\n",
    "        \"positive_impression\", \"negative_impression\", \"acquaintance\", \n",
    "        \"alumni\", \"boss\", \"subordinate\", \"client\", \"dates\", \"friends\", \n",
    "        \"girl/boyfriend\", \"neighbor\", \"roommate\", \"children\", \"other_family\", \n",
    "        \"parents\", \"siblings\", \"spouse\", \"place_of_residence\", \"visited_place\", \n",
    "        \"origin\", \"employee_or_member_of\", \"schools_attended\", \"works\", \"age\", \n",
    "        \"date_of_birth\", \"major\", \"place_of_work\", \"title\", \"alternate_names\", \n",
    "        \"pet\", \"residents_of_place\", \"visitors_of_place\", \"employees_or_members\", \n",
    "        \"students\", \"unanswerable\"\n",
    "    }\n",
    "    allowed_relations = {\"acquaintance\", \"children\", \"other_family\", \"parents\", \n",
    "                         \"siblings\", \"spouse\", \"place_of_residence\", \"visited_place\", \n",
    "                         \"pet\", \"residents_of_place\", \"visitors_of_place\"}\n",
    "\n",
    "    # allowed_relations = all_relations  # uncomment to allow all relations!\n",
    "\n",
    "    skip_relations = filter_skip_relations(all_relations, allowed_relations)\n",
    "\n",
    "    # Directories\n",
    "    INPUT_DIR = \"/home/murilo/RelNetCare/data/raw/dialog-re\"\n",
    "    OUTPUT_DIR = \"/home/murilo/RelNetCare/data/processed/dialog-re-llama\"\n",
    "    FILE_SETS = [['train', 'dev'], ['test']]\n",
    "\n",
    "    process_and_save_data(FILE_SETS, INPUT_DIR, OUTPUT_DIR, skip_relations)\n"
   ]
  }
 ],
 "metadata": {
  "kernelspec": {
   "display_name": "llama-lora",
   "language": "python",
   "name": "python3"
  },
  "language_info": {
   "codemirror_mode": {
    "name": "ipython",
    "version": 3
   },
   "file_extension": ".py",
   "mimetype": "text/x-python",
   "name": "python",
   "nbconvert_exporter": "python",
   "pygments_lexer": "ipython3",
   "version": "3.10.12"
  },
  "orig_nbformat": 4
 },
 "nbformat": 4,
 "nbformat_minor": 2
}
