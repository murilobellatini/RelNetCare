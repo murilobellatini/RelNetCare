{
 "cells": [
  {
   "cell_type": "code",
   "execution_count": 282,
   "metadata": {},
   "outputs": [
    {
     "name": "stdout",
     "output_type": "stream",
     "text": [
      "The autoreload extension is already loaded. To reload it, use:\n",
      "  %reload_ext autoreload\n"
     ]
    }
   ],
   "source": [
    "%load_ext autoreload\n",
    "%autoreload 2"
   ]
  },
  {
   "cell_type": "code",
   "execution_count": 283,
   "metadata": {},
   "outputs": [],
   "source": [
    "import os\n",
    "import json\n",
    "\n",
    "def filter_skip_relations(all_relations, allowed_relations):\n",
    "    \"\"\"Return a list of relations not in allowed_relations.\"\"\"\n",
    "    return [r for r in all_relations if r not in allowed_relations]\n",
    "\n",
    "\n",
    "def transform_data_to_llm_format(data, start_idx=0, skip_relations=[]):\n",
    "    \"\"\"Transform the given data into LLM ready dialogue format.\"\"\"\n",
    "    new_data = []\n",
    "    identity_counter = start_idx\n",
    "\n",
    "    for conversation, triples in data:\n",
    "        triples_text = [\n",
    "            {\n",
    "                \"x\": triple[\"x\"],\n",
    "                \"x_type\": triple[\"x_type\"],\n",
    "                \"r\": triple[\"r\"][0].split(':')[-1],\n",
    "                \"y\": triple[\"y\"],\n",
    "                \"y_type\": triple[\"y_type\"]\n",
    "            }\n",
    "            for triple in triples\n",
    "            if triple[\"r\"] and triple[\"r\"][0].split(':')[-1] not in skip_relations\n",
    "        ]\n",
    "\n",
    "        conversation_entry = {\n",
    "            \"id\": f\"identity_{identity_counter}\",\n",
    "            \"conversations\": [\n",
    "                {\"from\": \"human\", \"value\": \"\\n\".join(conversation)},\n",
    "                {\"from\": \"gpt\", \"value\": str(json.dumps(triples_text))}\n",
    "            ]\n",
    "        }\n",
    "\n",
    "        identity_counter += 1\n",
    "\n",
    "        if triples_text:\n",
    "            new_data.append(conversation_entry)\n",
    "\n",
    "    return new_data\n",
    "\n",
    "\n",
    "def create_directory_if_not_exists(directory_path):\n",
    "    \"\"\"Create a directory if it does not already exist.\"\"\"\n",
    "    if not os.path.exists(directory_path):\n",
    "        os.makedirs(directory_path)\n",
    "\n",
    "\n",
    "def process_and_save_data(file_sets, input_dir, output_dir, skip_relations):\n",
    "    \"\"\"Process the input data and save in the specified format.\"\"\"\n",
    "    for files in file_sets:\n",
    "        dataset_name = f\"dialog-re-llama-{len(allowed_relations)}cls-{'-'.join(files)}\"\n",
    "        last_data_idx = 0\n",
    "        new_format = []\n",
    "\n",
    "        create_directory_if_not_exists(output_dir)\n",
    "\n",
    "        for f in files:\n",
    "            input_data_path = os.path.join(input_dir, f'{f}.json')\n",
    "            \n",
    "            # Check if file exists\n",
    "            if os.path.exists(input_data_path):\n",
    "                with open(input_data_path, encoding='utf8') as fp:\n",
    "                    data = json.load(fp)\n",
    "\n",
    "                new_format.extend(transform_data_to_llm_format(data, start_idx=last_data_idx, skip_relations=skip_relations))\n",
    "                last_data_idx = len(new_format)\n",
    "\n",
    "        output_data_path = os.path.join(output_dir, f'{dataset_name}.json')\n",
    "        with open(output_data_path, 'w', encoding='utf8') as fp:\n",
    "            json.dump(new_format, fp)\n",
    "\n",
    "        print(files, len(new_format))\n"
   ]
  },
  {
   "cell_type": "code",
   "execution_count": 284,
   "metadata": {},
   "outputs": [
    {
     "name": "stdout",
     "output_type": "stream",
     "text": [
      "['train', 'dev'] 460\n",
      "['test'] 128\n"
     ]
    }
   ],
   "source": [
    "if __name__ == '__main__':\n",
    "    # Relations\n",
    "    all_relations = {\n",
    "        \"positive_impression\", \"negative_impression\", \"acquaintance\", \n",
    "        \"alumni\", \"boss\", \"subordinate\", \"client\", \"dates\", \"friends\", \n",
    "        \"girl/boyfriend\", \"neighbor\", \"roommate\", \"children\", \"other_family\", \n",
    "        \"parents\", \"siblings\", \"spouse\", \"place_of_residence\", \"visited_place\", \n",
    "        \"origin\", \"employee_or_member_of\", \"schools_attended\", \"works\", \"age\", \n",
    "        \"date_of_birth\", \"major\", \"place_of_work\", \"title\", \"alternate_names\", \n",
    "        \"pet\", \"residents_of_place\", \"visitors_of_place\", \"employees_or_members\", \n",
    "        \"students\", \"unanswerable\"\n",
    "    }\n",
    "    allowed_relations = {\"acquaintance\", \"children\", \"other_family\", \"parents\", \n",
    "                         \"siblings\", \"spouse\", \"place_of_residence\", \"visited_place\", \n",
    "                         \"pet\", \"residents_of_place\", \"visitors_of_place\"}\n",
    "\n",
    "    # allowed_relations = all_relations  # uncomment to allow all relations!\n",
    "\n",
    "    skip_relations = filter_skip_relations(all_relations, allowed_relations)\n",
    "\n",
    "    # Directories\n",
    "    INPUT_DIR = \"/home/murilo/RelNetCare/data/raw/dialog-re\"\n",
    "    OUTPUT_DIR = \"/home/murilo/RelNetCare/data/processed/dialog-re-llama-typed\"\n",
    "    FILE_SETS = [['train', 'dev'], ['test']]\n",
    "\n",
    "    process_and_save_data(FILE_SETS, INPUT_DIR, OUTPUT_DIR, skip_relations)\n"
   ]
  },
  {
   "cell_type": "code",
   "execution_count": 223,
   "metadata": {},
   "outputs": [
    {
     "name": "stderr",
     "output_type": "stream",
     "text": [
      "Processing:   0%|          | 0/5 [00:00<?, ?it/s]"
     ]
    },
    {
     "name": "stderr",
     "output_type": "stream",
     "text": [
      "                                                                           \r"
     ]
    },
    {
     "data": {
      "text/plain": [
       "{'precision': 0.0, 'recall': 0.0, 'f1': 0}"
      ]
     },
     "execution_count": 223,
     "metadata": {},
     "output_type": "execute_result"
    }
   ],
   "source": [
    "from tqdm import tqdm\n",
    "import openai\n",
    "import json\n",
    "from collections import defaultdict, OrderedDict\n",
    "\n",
    "# Initialize OpenAI\n",
    "openai.api_key = \"EMPTY\"\n",
    "openai.api_base = \"http://localhost:8000/v1\"\n",
    "model = \"vicuna-7b-v1.1\"\n",
    "\n",
    "def infer_from_model(prompt):\n",
    "    \"\"\"Perform model inference given a prompt.\"\"\"\n",
    "    completion = openai.ChatCompletion.create(\n",
    "        model=model,\n",
    "        messages=[{\n",
    "            \"role\": \"user\",\n",
    "            \"content\": \"A system that extracts entities and their relations from dialogues. It returns results in jsonl format. Input text: \" + prompt\n",
    "        }]\n",
    "    )\n",
    "    return completion.choices[0].message.content\n",
    "\n",
    "\n",
    "def calculate_metrics_for_entry(true_labels, predicted_labels):\n",
    "    if not true_labels and not predicted_labels:  # If both are empty\n",
    "        return 1, 1, 1\n",
    "\n",
    "    if not true_labels or not predicted_labels:  # If one of them is empty\n",
    "        return 0, 0, 0\n",
    "\n",
    "    true_set = set(true_labels)\n",
    "    predicted_set = set(predicted_labels)\n",
    "\n",
    "    tp = len(true_set & predicted_set)\n",
    "    fp = len(predicted_set - true_set)\n",
    "    fn = len(true_set - predicted_set)\n",
    "\n",
    "    precision = tp / (tp + fp) if (tp + fp) > 0 else 0\n",
    "    recall = tp / (tp + fn) if (tp + fn) > 0 else 0\n",
    "    f1 = 2 * (precision * recall) / (precision + recall) if (precision + recall) > 0 else 0\n",
    "\n",
    "    return precision, recall, f1\n",
    "\n",
    "def assess_performance_on_test_dataset(test_file_path, cap_size=None, return_details=False):\n",
    "    with open(test_file_path, 'r', encoding='utf8') as fp:\n",
    "        test_data = json.load(fp)\n",
    "    \n",
    "    if cap_size:\n",
    "        test_data = test_data[:cap_size]\n",
    "\n",
    "    details = []\n",
    "    results_per_class = defaultdict(list)\n",
    "    pbar = tqdm(test_data, desc=\"Processing\", dynamic_ncols=True, leave=False)\n",
    "\n",
    "    overall_predictions = []\n",
    "    overall_true = []\n",
    "\n",
    "    for entry in pbar:\n",
    "        prompt = \"\\n\".join([message[\"value\"] for message in entry[\"conversations\"] if message[\"from\"] == \"human\"])\n",
    "        try:\n",
    "            predicted_relations = json.loads(infer_from_model(prompt))\n",
    "            true_relations = json.loads(entry[\"conversations\"][1][\"value\"], object_pairs_hook=OrderedDict)\n",
    "\n",
    "            predicted_labels = [str(pred_relation) for pred_relation in predicted_relations]\n",
    "            true_labels = [str(true_relation) for true_relation in true_relations]\n",
    "\n",
    "            for true_relation in true_relations:\n",
    "                results_per_class[true_relation.get('r')].append((predicted_labels, true_labels))\n",
    "\n",
    "            precision, recall, f1 = calculate_metrics_for_entry(true_labels, predicted_labels)\n",
    "            \n",
    "            overall_predictions.extend(predicted_labels)\n",
    "            overall_true.extend(true_labels)\n",
    "\n",
    "            pbar.set_description(f\"P: {precision:.2f} | R: {recall:.2f} | F1: {f1:.2f}\")\n",
    "\n",
    "            if return_details:\n",
    "                details.append({\n",
    "                    \"id\": entry['id'],\n",
    "                    \"prompt\": prompt,\n",
    "                    \"predicted_relations\": predicted_relations,\n",
    "                    \"true_relations\": true_relations,\n",
    "                    \"precision\": precision,\n",
    "                    \"recall\": recall,\n",
    "                    \"f1\": f1 \n",
    "                })\n",
    "\n",
    "        except Exception as e:\n",
    "            tqdm.write(f\"Error processing entry with id {entry['id']}: {e}\")\n",
    "\n",
    "    overall_precision, overall_recall, overall_f1 = calculate_metrics_for_entry(overall_true, overall_predictions)\n",
    "\n",
    "    per_class_results = {}\n",
    "    for relation, labels_list in results_per_class.items():\n",
    "        preds, trues = [], []\n",
    "        for preds_labels, true_labels in labels_list:\n",
    "            preds.extend(preds_labels)\n",
    "            trues.extend(true_labels)\n",
    "        \n",
    "        precision, recall, f1 = calculate_metrics_for_entry(trues, preds)\n",
    "        \n",
    "        per_class_results[relation] = {\n",
    "            \"precision\": precision,\n",
    "            \"recall\": recall,\n",
    "            \"f1\": f1\n",
    "        }\n",
    "\n",
    "    result = {\n",
    "        \"overall\": {\n",
    "            \"precision\": overall_precision,\n",
    "            \"recall\": overall_recall,\n",
    "            \"f1\": overall_f1\n",
    "        },\n",
    "        \"per_class\": per_class_results\n",
    "    }\n",
    "\n",
    "    if return_details:\n",
    "        result[\"details\"] = details\n",
    "\n",
    "    return result\n",
    "\n",
    "# Example Usage:\n",
    "test_file_path = \"/home/murilo/RelNetCare/data/processed/dialog-re-llama/dialog-re-llama-11cls-test.json\"  # Or whatever the exact path is.\n",
    "results = assess_performance_on_test_dataset(test_file_path, cap_size=None, return_details=True)\n",
    "results['overall']"
   ]
  },
  {
   "cell_type": "code",
   "execution_count": 233,
   "metadata": {},
   "outputs": [
    {
     "data": {
      "text/plain": [
       "{'precision': 0.24803149606299213,\n",
       " 'recall': 0.24803149606299213,\n",
       " 'f1': 0.24803149606299213}"
      ]
     },
     "execution_count": 233,
     "metadata": {},
     "output_type": "execute_result"
    }
   ],
   "source": [
    "results['overall']"
   ]
  },
  {
   "cell_type": "code",
   "execution_count": 265,
   "metadata": {},
   "outputs": [
    {
     "data": {
      "text/html": [
       "<div>\n",
       "<style scoped>\n",
       "    .dataframe tbody tr th:only-of-type {\n",
       "        vertical-align: middle;\n",
       "    }\n",
       "\n",
       "    .dataframe tbody tr th {\n",
       "        vertical-align: top;\n",
       "    }\n",
       "\n",
       "    .dataframe thead th {\n",
       "        text-align: right;\n",
       "    }\n",
       "</style>\n",
       "<table border=\"1\" class=\"dataframe\">\n",
       "  <thead>\n",
       "    <tr style=\"text-align: right;\">\n",
       "      <th></th>\n",
       "      <th>id</th>\n",
       "      <th>prompt</th>\n",
       "      <th>predicted_relations</th>\n",
       "      <th>true_relations</th>\n",
       "      <th>precision</th>\n",
       "      <th>recall</th>\n",
       "      <th>f1</th>\n",
       "    </tr>\n",
       "  </thead>\n",
       "  <tbody>\n",
       "    <tr>\n",
       "      <th>73</th>\n",
       "      <td>identity_192</td>\n",
       "      <td>Speaker 1: Hi.\\nSpeaker 2: Hi, hey.\\nSpeaker 1...</td>\n",
       "      <td>[{'x': 'Speaker 1', 'r': 'siblings', 'y': 'Amy...</td>\n",
       "      <td>[{'x': 'Speaker 1', 'r': 'siblings', 'y': 'Spe...</td>\n",
       "      <td>0.0</td>\n",
       "      <td>0.0</td>\n",
       "      <td>0.0</td>\n",
       "    </tr>\n",
       "    <tr>\n",
       "      <th>88</th>\n",
       "      <td>identity_244</td>\n",
       "      <td>Speaker 1: Shoot! We’re out of soda.\\nSpeaker ...</td>\n",
       "      <td>[{'x': 'Speaker 1', 'r': 'parents', 'y': 'Spea...</td>\n",
       "      <td>[{'x': 'Speaker 3', 'r': 'parents', 'y': 'Spea...</td>\n",
       "      <td>0.0</td>\n",
       "      <td>0.0</td>\n",
       "      <td>0.0</td>\n",
       "    </tr>\n",
       "    <tr>\n",
       "      <th>87</th>\n",
       "      <td>identity_243</td>\n",
       "      <td>Speaker 1: Hey!\\nSpeaker 2: Hey!\\nSpeaker 1: H...</td>\n",
       "      <td>[{'x': 'Speaker 2', 'r': 'visited_place', 'y':...</td>\n",
       "      <td>[{'x': 'Alice', 'r': 'visited_place', 'y': 'De...</td>\n",
       "      <td>0.0</td>\n",
       "      <td>0.0</td>\n",
       "      <td>0.0</td>\n",
       "    </tr>\n",
       "    <tr>\n",
       "      <th>86</th>\n",
       "      <td>identity_236</td>\n",
       "      <td>Speaker 1: Oh my God! That’s David!\\nSpeaker 2...</td>\n",
       "      <td>[{'x': 'Speaker 1', 'r': 'place_of_residence',...</td>\n",
       "      <td>[{'x': 'Speaker 3', 'r': 'place_of_residence',...</td>\n",
       "      <td>0.0</td>\n",
       "      <td>0.0</td>\n",
       "      <td>0.0</td>\n",
       "    </tr>\n",
       "    <tr>\n",
       "      <th>83</th>\n",
       "      <td>identity_226</td>\n",
       "      <td>Speaker 1: So, thanks for having me over! Rach...</td>\n",
       "      <td>[{'x': 'Speaker 1', 'r': 'visitors', 'y': 'Phe...</td>\n",
       "      <td>[{'x': 'Speaker 1', 'r': 'visited_place', 'y':...</td>\n",
       "      <td>0.0</td>\n",
       "      <td>0.0</td>\n",
       "      <td>0.0</td>\n",
       "    </tr>\n",
       "    <tr>\n",
       "      <th>...</th>\n",
       "      <td>...</td>\n",
       "      <td>...</td>\n",
       "      <td>...</td>\n",
       "      <td>...</td>\n",
       "      <td>...</td>\n",
       "      <td>...</td>\n",
       "      <td>...</td>\n",
       "    </tr>\n",
       "    <tr>\n",
       "      <th>105</th>\n",
       "      <td>identity_295</td>\n",
       "      <td>Speaker 1: Ma, I don't mean to be disrespectfu...</td>\n",
       "      <td>[{'x': 'Speaker 2', 'r': 'children', 'y': 'Spe...</td>\n",
       "      <td>[{'x': 'Speaker 1', 'r': 'parents', 'y': 'Spea...</td>\n",
       "      <td>1.0</td>\n",
       "      <td>1.0</td>\n",
       "      <td>1.0</td>\n",
       "    </tr>\n",
       "    <tr>\n",
       "      <th>94</th>\n",
       "      <td>identity_263</td>\n",
       "      <td>Speaker 1: Listen. Sudden change of plans. My ...</td>\n",
       "      <td>[{'x': 'Speaker 1', 'r': 'children', 'y': 'Emm...</td>\n",
       "      <td>[{'x': 'Speaker 1', 'r': 'children', 'y': 'Emm...</td>\n",
       "      <td>1.0</td>\n",
       "      <td>1.0</td>\n",
       "      <td>1.0</td>\n",
       "    </tr>\n",
       "    <tr>\n",
       "      <th>25</th>\n",
       "      <td>identity_64</td>\n",
       "      <td>Speaker 1: So um, so what's up, you came to se...</td>\n",
       "      <td>[{'x': 'Speaker 1', 'r': 'spouse', 'y': 'Speak...</td>\n",
       "      <td>[{'x': 'Speaker 1', 'r': 'spouse', 'y': 'Speak...</td>\n",
       "      <td>1.0</td>\n",
       "      <td>1.0</td>\n",
       "      <td>1.0</td>\n",
       "    </tr>\n",
       "    <tr>\n",
       "      <th>18</th>\n",
       "      <td>identity_48</td>\n",
       "      <td>Speaker 1: Hey!\\nSpeaker 2: Hey, so did everyt...</td>\n",
       "      <td>[{'x': 'Speaker 1', 'r': 'spouse', 'y': 'Speak...</td>\n",
       "      <td>[{'x': 'Speaker 1', 'r': 'spouse', 'y': 'Speak...</td>\n",
       "      <td>1.0</td>\n",
       "      <td>1.0</td>\n",
       "      <td>1.0</td>\n",
       "    </tr>\n",
       "    <tr>\n",
       "      <th>69</th>\n",
       "      <td>identity_181</td>\n",
       "      <td>Speaker 1: Isn’t it funny how we kept running ...</td>\n",
       "      <td>[{'x': 'Speaker 1', 'r': 'place_of_residence',...</td>\n",
       "      <td>[{'x': 'Speaker 1', 'r': 'place_of_residence',...</td>\n",
       "      <td>1.0</td>\n",
       "      <td>1.0</td>\n",
       "      <td>1.0</td>\n",
       "    </tr>\n",
       "  </tbody>\n",
       "</table>\n",
       "<p>126 rows × 7 columns</p>\n",
       "</div>"
      ],
      "text/plain": [
       "               id                                             prompt  \\\n",
       "73   identity_192  Speaker 1: Hi.\\nSpeaker 2: Hi, hey.\\nSpeaker 1...   \n",
       "88   identity_244  Speaker 1: Shoot! We’re out of soda.\\nSpeaker ...   \n",
       "87   identity_243  Speaker 1: Hey!\\nSpeaker 2: Hey!\\nSpeaker 1: H...   \n",
       "86   identity_236  Speaker 1: Oh my God! That’s David!\\nSpeaker 2...   \n",
       "83   identity_226  Speaker 1: So, thanks for having me over! Rach...   \n",
       "..            ...                                                ...   \n",
       "105  identity_295  Speaker 1: Ma, I don't mean to be disrespectfu...   \n",
       "94   identity_263  Speaker 1: Listen. Sudden change of plans. My ...   \n",
       "25    identity_64  Speaker 1: So um, so what's up, you came to se...   \n",
       "18    identity_48  Speaker 1: Hey!\\nSpeaker 2: Hey, so did everyt...   \n",
       "69   identity_181  Speaker 1: Isn’t it funny how we kept running ...   \n",
       "\n",
       "                                   predicted_relations  \\\n",
       "73   [{'x': 'Speaker 1', 'r': 'siblings', 'y': 'Amy...   \n",
       "88   [{'x': 'Speaker 1', 'r': 'parents', 'y': 'Spea...   \n",
       "87   [{'x': 'Speaker 2', 'r': 'visited_place', 'y':...   \n",
       "86   [{'x': 'Speaker 1', 'r': 'place_of_residence',...   \n",
       "83   [{'x': 'Speaker 1', 'r': 'visitors', 'y': 'Phe...   \n",
       "..                                                 ...   \n",
       "105  [{'x': 'Speaker 2', 'r': 'children', 'y': 'Spe...   \n",
       "94   [{'x': 'Speaker 1', 'r': 'children', 'y': 'Emm...   \n",
       "25   [{'x': 'Speaker 1', 'r': 'spouse', 'y': 'Speak...   \n",
       "18   [{'x': 'Speaker 1', 'r': 'spouse', 'y': 'Speak...   \n",
       "69   [{'x': 'Speaker 1', 'r': 'place_of_residence',...   \n",
       "\n",
       "                                        true_relations  precision  recall   f1  \n",
       "73   [{'x': 'Speaker 1', 'r': 'siblings', 'y': 'Spe...        0.0     0.0  0.0  \n",
       "88   [{'x': 'Speaker 3', 'r': 'parents', 'y': 'Spea...        0.0     0.0  0.0  \n",
       "87   [{'x': 'Alice', 'r': 'visited_place', 'y': 'De...        0.0     0.0  0.0  \n",
       "86   [{'x': 'Speaker 3', 'r': 'place_of_residence',...        0.0     0.0  0.0  \n",
       "83   [{'x': 'Speaker 1', 'r': 'visited_place', 'y':...        0.0     0.0  0.0  \n",
       "..                                                 ...        ...     ...  ...  \n",
       "105  [{'x': 'Speaker 1', 'r': 'parents', 'y': 'Spea...        1.0     1.0  1.0  \n",
       "94   [{'x': 'Speaker 1', 'r': 'children', 'y': 'Emm...        1.0     1.0  1.0  \n",
       "25   [{'x': 'Speaker 1', 'r': 'spouse', 'y': 'Speak...        1.0     1.0  1.0  \n",
       "18   [{'x': 'Speaker 1', 'r': 'spouse', 'y': 'Speak...        1.0     1.0  1.0  \n",
       "69   [{'x': 'Speaker 1', 'r': 'place_of_residence',...        1.0     1.0  1.0  \n",
       "\n",
       "[126 rows x 7 columns]"
      ]
     },
     "execution_count": 265,
     "metadata": {},
     "output_type": "execute_result"
    }
   ],
   "source": [
    "import pandas as pd\n",
    "df = pd.DataFrame(results['details'])\n",
    "df.sort_values('f1')"
   ]
  },
  {
   "cell_type": "code",
   "execution_count": 279,
   "metadata": {},
   "outputs": [],
   "source": [
    "df['prompt_length'] = df.prompt.apply(len)"
   ]
  },
  {
   "cell_type": "code",
   "execution_count": 280,
   "metadata": {},
   "outputs": [
    {
     "data": {
      "text/plain": [
       "78      478\n",
       "56      513\n",
       "88      542\n",
       "87      441\n",
       "86     1379\n",
       "       ... \n",
       "61     1270\n",
       "13      561\n",
       "69      711\n",
       "105     858\n",
       "25     1616\n",
       "Name: prompt_length, Length: 126, dtype: int64"
      ]
     },
     "execution_count": 280,
     "metadata": {},
     "output_type": "execute_result"
    }
   ],
   "source": [
    "df['prompt_length'] "
   ]
  },
  {
   "cell_type": "code",
   "execution_count": 275,
   "metadata": {},
   "outputs": [
    {
     "data": {
      "text/html": [
       "<div>\n",
       "<style scoped>\n",
       "    .dataframe tbody tr th:only-of-type {\n",
       "        vertical-align: middle;\n",
       "    }\n",
       "\n",
       "    .dataframe tbody tr th {\n",
       "        vertical-align: top;\n",
       "    }\n",
       "\n",
       "    .dataframe thead th {\n",
       "        text-align: right;\n",
       "    }\n",
       "</style>\n",
       "<table border=\"1\" class=\"dataframe\">\n",
       "  <thead>\n",
       "    <tr style=\"text-align: right;\">\n",
       "      <th></th>\n",
       "      <th>id</th>\n",
       "      <th>prompt</th>\n",
       "      <th>predicted_relations</th>\n",
       "      <th>true_relations</th>\n",
       "      <th>precision</th>\n",
       "      <th>recall</th>\n",
       "      <th>f1</th>\n",
       "    </tr>\n",
       "  </thead>\n",
       "  <tbody>\n",
       "    <tr>\n",
       "      <th>68</th>\n",
       "      <td>identity_178</td>\n",
       "      <td>Speaker 1: You know, it still smells like monk...</td>\n",
       "      <td>[{'x': 'Speaker 2', 'r': 'parents', 'y': 'Spea...</td>\n",
       "      <td>[{'x': 'Speaker 5', 'r': 'acquaintance', 'y': ...</td>\n",
       "      <td>0.000000</td>\n",
       "      <td>0.0</td>\n",
       "      <td>0.000000</td>\n",
       "    </tr>\n",
       "    <tr>\n",
       "      <th>91</th>\n",
       "      <td>identity_249</td>\n",
       "      <td>Speaker 1: Airport, airport. Ross, not alone, ...</td>\n",
       "      <td>[{'x': 'Speaker 1', 'r': 'visited_place', 'y':...</td>\n",
       "      <td>[{'x': 'Speaker 3', 'r': 'visited_place', 'y':...</td>\n",
       "      <td>0.125000</td>\n",
       "      <td>0.5</td>\n",
       "      <td>0.200000</td>\n",
       "    </tr>\n",
       "    <tr>\n",
       "      <th>10</th>\n",
       "      <td>identity_20</td>\n",
       "      <td>Speaker 1: Well then we’ll-we’ll see you the d...</td>\n",
       "      <td>[{'x': 'Speaker 2', 'r': 'children', 'y': 'Spe...</td>\n",
       "      <td>[{'x': 'Speaker 2', 'r': 'children', 'y': 'Spe...</td>\n",
       "      <td>0.666667</td>\n",
       "      <td>0.5</td>\n",
       "      <td>0.571429</td>\n",
       "    </tr>\n",
       "    <tr>\n",
       "      <th>25</th>\n",
       "      <td>identity_64</td>\n",
       "      <td>Speaker 1: So um, so what's up, you came to se...</td>\n",
       "      <td>[{'x': 'Speaker 1', 'r': 'spouse', 'y': 'Speak...</td>\n",
       "      <td>[{'x': 'Speaker 1', 'r': 'spouse', 'y': 'Speak...</td>\n",
       "      <td>1.000000</td>\n",
       "      <td>1.0</td>\n",
       "      <td>1.000000</td>\n",
       "    </tr>\n",
       "  </tbody>\n",
       "</table>\n",
       "</div>"
      ],
      "text/plain": [
       "              id                                             prompt  \\\n",
       "68  identity_178  Speaker 1: You know, it still smells like monk...   \n",
       "91  identity_249  Speaker 1: Airport, airport. Ross, not alone, ...   \n",
       "10   identity_20  Speaker 1: Well then we’ll-we’ll see you the d...   \n",
       "25   identity_64  Speaker 1: So um, so what's up, you came to se...   \n",
       "\n",
       "                                  predicted_relations  \\\n",
       "68  [{'x': 'Speaker 2', 'r': 'parents', 'y': 'Spea...   \n",
       "91  [{'x': 'Speaker 1', 'r': 'visited_place', 'y':...   \n",
       "10  [{'x': 'Speaker 2', 'r': 'children', 'y': 'Spe...   \n",
       "25  [{'x': 'Speaker 1', 'r': 'spouse', 'y': 'Speak...   \n",
       "\n",
       "                                       true_relations  precision  recall  \\\n",
       "68  [{'x': 'Speaker 5', 'r': 'acquaintance', 'y': ...   0.000000     0.0   \n",
       "91  [{'x': 'Speaker 3', 'r': 'visited_place', 'y':...   0.125000     0.5   \n",
       "10  [{'x': 'Speaker 2', 'r': 'children', 'y': 'Spe...   0.666667     0.5   \n",
       "25  [{'x': 'Speaker 1', 'r': 'spouse', 'y': 'Speak...   1.000000     1.0   \n",
       "\n",
       "          f1  \n",
       "68  0.000000  \n",
       "91  0.200000  \n",
       "10  0.571429  \n",
       "25  1.000000  "
      ]
     },
     "execution_count": 275,
     "metadata": {},
     "output_type": "execute_result"
    }
   ],
   "source": [
    "import pandas as pd\n",
    "\n",
    "# Sort the dataframe by 'f1'\n",
    "df = df.sort_values('f1')\n",
    "\n",
    "# Calculate the quartile boundaries\n",
    "q3 = df['f1'].quantile(0.75)\n",
    "\n",
    "# Select one example from each quartile\n",
    "example_1 = df[df['f1'] <= 0].sample(1)\n",
    "example_2 = df[(df['f1'] > 0) & (df['f1'] <= .25)].sample(1)\n",
    "example_3 = df[(df['f1'] > .25) & (df['f1'] <= .75)].sample(1)\n",
    "example_4 = df[df['f1'] >= 1].sample(1)\n",
    "\n",
    "# Concatenate the examples to get a dataframe of examples from each quartile\n",
    "exemplary_samples = pd.concat([example_1, example_2, example_3, example_4])\n",
    "\n",
    "exemplary_samples\n"
   ]
  },
  {
   "cell_type": "code",
   "execution_count": 277,
   "metadata": {},
   "outputs": [
    {
     "data": {
      "text/plain": [
       "{'id': 'identity_178',\n",
       " 'prompt': \"Speaker 1: You know, it still smells like monkey in there.\\nSpeaker 2: That saves us a conversation.\\nSpeaker 3: Well, listen, this has been great but I'm officially wiped.\\nSpeaker 4: Me too, we should get goin'.\\nSpeaker 5: No, no, I mean, no, c'mon you guys, I mean, c'mon look it's only eleven thirty. Let's just talk, we never just hang out and talk anymore.\\nSpeaker 1: Rachel, that's all we do.\\nSpeaker 5: Maybe that's all we do, what about Julie?\\nSpeaker 2: What about Julie?\\nSpeaker 5: Well, you have been in our lives for nearly two months now and we don't really know you. I mean, who is Julie? I mean, what do you like, what don't you like? We wanna hear everything.\\nSpeaker 2: Well, that could take a while.\\nSpeaker 5: So. I mean, who here does not have the time to get to know Julie?\\nSpeaker 3: I got the time to get to know Julie.\\nSpeaker 4: I got time.\\nSpeaker 1: Rach, I know her pretty well, can I go? That's fine.\\nSpeaker 5: OK Julie, so now let's start with your childhood, what was that like?\\nSpeaker 2: Well, in a nutshell. . .\\nSpeaker 5: Nah, uh, uh, uh, uh.\",\n",
       " 'predicted_relations': [OrderedDict([('x', 'Speaker 2'),\n",
       "               ('r', 'parents'),\n",
       "               ('y', 'Speaker 1')]),\n",
       "  OrderedDict([('x', 'Speaker 1'), ('r', 'children'), ('y', 'Speaker 2')])],\n",
       " 'true_relations': [OrderedDict([('x', 'Speaker 5'),\n",
       "               ('r', 'acquaintance'),\n",
       "               ('y', 'Speaker 2')]),\n",
       "  OrderedDict([('x', 'Speaker 3'), ('r', 'acquaintance'), ('y', 'Speaker 2')]),\n",
       "  OrderedDict([('x', 'Speaker 4'), ('r', 'acquaintance'), ('y', 'Speaker 2')]),\n",
       "  OrderedDict([('x', 'Speaker 2'), ('r', 'acquaintance'), ('y', 'Speaker 5')]),\n",
       "  OrderedDict([('x', 'Speaker 2'), ('r', 'acquaintance'), ('y', 'Speaker 3')]),\n",
       "  OrderedDict([('x', 'Speaker 2'),\n",
       "               ('r', 'acquaintance'),\n",
       "               ('y', 'Speaker 4')])],\n",
       " 'precision': 0.0,\n",
       " 'recall': 0.0,\n",
       " 'f1': 0.0}"
      ]
     },
     "execution_count": 277,
     "metadata": {},
     "output_type": "execute_result"
    }
   ],
   "source": [
    "exemplary_samples.iloc[0].to_dict()"
   ]
  },
  {
   "cell_type": "code",
   "execution_count": 261,
   "metadata": {},
   "outputs": [
    {
     "data": {
      "text/plain": [
       "<Axes: >"
      ]
     },
     "execution_count": 261,
     "metadata": {},
     "output_type": "execute_result"
    },
    {
     "data": {
      "image/png": "[encoded data removed]",
      "text/plain": [
       "<Figure size 300x500 with 1 Axes>"
      ]
     },
     "metadata": {},
     "output_type": "display_data"
    }
   ],
   "source": [
    "df[['precision', 'recall', 'f1']].mean().sort_values().plot(kind='barh', figsize=(3, 5))"
   ]
  },
  {
   "cell_type": "code",
   "execution_count": 263,
   "metadata": {},
   "outputs": [
    {
     "data": {
      "text/plain": [
       "<Axes: ylabel='Frequency'>"
      ]
     },
     "execution_count": 263,
     "metadata": {},
     "output_type": "execute_result"
    },
    {
     "data": {
      "image/png": "[encoded data removed]",
      "text/plain": [
       "<Figure size 300x500 with 1 Axes>"
      ]
     },
     "metadata": {},
     "output_type": "display_data"
    }
   ],
   "source": [
    "df[['precision', 'recall', 'f1']].plot(kind='hist', alpha=0.5, figsize=(3, 5))\n"
   ]
  },
  {
   "cell_type": "code",
   "execution_count": 222,
   "metadata": {},
   "outputs": [
    {
     "data": {
      "text/plain": [
       "[OrderedDict([('x', 'Speaker 2'), ('r', 'visited_place'), ('y', 'Delaware')]),\n",
       " OrderedDict([('x', 'Delaware'),\n",
       "              ('r', 'visitors_of_place'),\n",
       "              ('y', 'Speaker 2')])]"
      ]
     },
     "execution_count": 222,
     "metadata": {},
     "output_type": "execute_result"
    }
   ],
   "source": [
    "df.predicted_relations.iloc[87]\n",
    "# df.true_relations.iloc[87]"
   ]
  },
  {
   "cell_type": "code",
   "execution_count": 258,
   "metadata": {},
   "outputs": [
    {
     "data": {
      "text/plain": [
       "<Axes: >"
      ]
     },
     "execution_count": 258,
     "metadata": {},
     "output_type": "execute_result"
    },
    {
     "data": {
      "image/png": "[encoded data removed]",
      "text/plain": [
       "<Figure size 300x500 with 1 Axes>"
      ]
     },
     "metadata": {},
     "output_type": "display_data"
    }
   ],
   "source": [
    "pd.DataFrame(results['per_class']).T.sort_values('f1', ascending=True).plot(kind='barh', figsize=(3, 5))"
   ]
  },
  {
   "cell_type": "code",
   "execution_count": 245,
   "metadata": {},
   "outputs": [],
   "source": []
  },
  {
   "cell_type": "code",
   "execution_count": 251,
   "metadata": {},
   "outputs": [],
   "source": []
  },
  {
   "cell_type": "code",
   "execution_count": 253,
   "metadata": {},
   "outputs": [
    {
     "data": {
      "text/plain": [
       "460"
      ]
     },
     "execution_count": 253,
     "metadata": {},
     "output_type": "execute_result"
    }
   ],
   "source": []
  },
  {
   "cell_type": "code",
   "execution_count": 231,
   "metadata": {},
   "outputs": [
    {
     "data": {
      "text/plain": [
       "'[{\"x\": \"Alice\", \"r\": \"parents\", \"y\": \"Robert\"}, {\"x\": \"Robert\", \"r\": \"children\", \"y\": \"Alice\"}]'"
      ]
     },
     "execution_count": 231,
     "metadata": {},
     "output_type": "execute_result"
    }
   ],
   "source": [
    "infer_from_model('Alice: Hi, you are my father.\\nRobert: Yes, I am your father')"
   ]
  }
 ],
 "metadata": {
  "kernelspec": {
   "display_name": "llama-lora",
   "language": "python",
   "name": "python3"
  },
  "language_info": {
   "codemirror_mode": {
    "name": "ipython",
    "version": 3
   },
   "file_extension": ".py",
   "mimetype": "text/x-python",
   "name": "python",
   "nbconvert_exporter": "python",
   "pygments_lexer": "ipython3",
   "version": "3.10.12"
  },
  "orig_nbformat": 4
 },
 "nbformat": 4,
 "nbformat_minor": 2
}
