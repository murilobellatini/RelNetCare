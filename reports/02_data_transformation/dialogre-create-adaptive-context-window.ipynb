{
 "cells": [
  {
   "cell_type": "code",
   "execution_count": 1,
   "metadata": {},
   "outputs": [],
   "source": [
    "%load_ext autoreload\n",
    "%autoreload 2"
   ]
  },
  {
   "cell_type": "code",
   "execution_count": 2,
   "metadata": {},
   "outputs": [],
   "source": [
    "from src.paths import LOCAL_PROCESSED_DATA_PATH\n",
    "from src.processing.dialogre_processing import DialogREDatasetTransformer\n",
    "from src.processing.ner_evaluator import EntityMetricsEvaluator\n",
    "from src.processing.dataframe_utils import get_counts_and_percentages\n",
    "from src.utils import handle_exceptions\n",
    "from tqdm import tqdm\n",
    "tqdm.pandas()\n",
    "\n",
    "\n",
    "\n",
    "\n",
    "dt = DialogREDatasetTransformer(LOCAL_PROCESSED_DATA_PATH / 'dialog-re-with-no-relation')\n",
    "df1 = dt.load_data_to_dataframe()\n"
   ]
  },
  {
   "cell_type": "code",
   "execution_count": 4,
   "metadata": {},
   "outputs": [
    {
     "name": "stderr",
     "output_type": "stream",
     "text": [
      "07/09/2023 15:12:21 - INFO - \t missing_keys: []\n",
      "07/09/2023 15:12:21 - INFO - \t unexpected_keys: []\n",
      "07/09/2023 15:12:21 - INFO - \t mismatched_keys: []\n",
      "07/09/2023 15:12:21 - INFO - \t error_msgs: []\n",
      "07/09/2023 15:12:21 - INFO - \t Model Parameters: 90.5M, Transformer: 82.1M, Coref head: 8.4M\n"
     ]
    }
   ],
   "source": [
    "import json\n",
    "from src.processing.text_preprocessing import CoreferenceResolver, FeatureExtractor\n",
    "\n",
    "coref_resolver = CoreferenceResolver()\n",
    "extractor = FeatureExtractor()\n",
    "\n",
    "# output_dicts = extractor.process_dialogue(resolved_dialogue, entities)"
   ]
  },
  {
   "cell_type": "code",
   "execution_count": 25,
   "metadata": {},
   "outputs": [
    {
     "data": {
      "text/plain": [
       "0     24\n",
       "1      7\n",
       "2     10\n",
       "3      9\n",
       "4      1\n",
       "5      7\n",
       "6      6\n",
       "7     11\n",
       "8      9\n",
       "9     19\n",
       "10    15\n",
       "11     7\n",
       "12    10\n",
       "13    15\n",
       "14     4\n",
       "15     9\n",
       "16    14\n",
       "17     9\n",
       "18    26\n",
       "19     6\n",
       "Name: Dialogue, dtype: int64"
      ]
     },
     "execution_count": 25,
     "metadata": {},
     "output_type": "execute_result"
    }
   ],
   "source": [
    "df1.Dialogue.apply(len).head(20)"
   ]
  },
  {
   "cell_type": "code",
   "execution_count": 127,
   "metadata": {},
   "outputs": [
    {
     "name": "stderr",
     "output_type": "stream",
     "text": [
      "07/09/2023 16:08:29 - INFO - \t Tokenize 1 inputs...\n"
     ]
    },
    {
     "data": {
      "application/vnd.jupyter.widget-view+json": {
       "model_id": "31980c1337954fb292e7f0a51c524a04",
       "version_major": 2,
       "version_minor": 0
      },
      "text/plain": [
       "Map:   0%|          | 0/1 [00:00<?, ? examples/s]"
      ]
     },
     "metadata": {},
     "output_type": "display_data"
    },
    {
     "name": "stderr",
     "output_type": "stream",
     "text": [
      "07/09/2023 16:08:30 - INFO - \t ***** Running Inference on 1 texts *****\n"
     ]
    },
    {
     "data": {
      "application/vnd.jupyter.widget-view+json": {
       "model_id": "6c7d6df9fe6a4cb0bc45d4f20fbaac11",
       "version_major": 2,
       "version_minor": 0
      },
      "text/plain": [
       "Inference:   0%|          | 0/1 [00:00<?, ?it/s]"
      ]
     },
     "metadata": {},
     "output_type": "display_data"
    },
    {
     "data": {
      "text/plain": [
       "(['Speaker 1, Speaker 2: Hi!',\n",
       "  'Speaker 3: Hey!',\n",
       "  'Speaker 4: So glad you came!',\n",
       "  \"Speaker 1: I can't believe Emma is already one!\",\n",
       "  'Speaker 2: I remember your first birthday! Ross was jealous of all the attention we were giving you. He pulled on his testicles so hard! We had to take him to the emergency room!',\n",
       "  \"Speaker 3: There's something you didn't know about your dad!\",\n",
       "  'Speaker 5: Hey Mr. and Mrs. Geller! Let me help you with that.',\n",
       "  'Speaker 1: Thank you!',\n",
       "  'Speaker 5: Oh man, this is great, uh? The three of us together again! You know what would be fun? If we gave this present to Emma from all of us!',\n",
       "  'Speaker 1: Which one are you?'],\n",
       " ['Speaker 1, Speaker 2: Hi!',\n",
       "  'Speaker 3: Hey!',\n",
       "  'Speaker 4: So glad you came!',\n",
       "  \"Speaker 1: Speaker 1 can't believe Emma is already one!\",\n",
       "  \"Speaker 2: I remember Emma's first birthday! Ross was jealous of all the attention we were giving Emma. Ross pulled on Ross's testicles so hard! We had to take Ross to the emergency room!\",\n",
       "  \"Speaker 3: There's something Emma didn't know about Emma's dad!\",\n",
       "  \"Speaker 5: Hey Mr. and Mrs. Geller! Let me help you with something you didn't know about your dad.\",\n",
       "  'Speaker 1: Thank you!',\n",
       "  'Speaker 5: Oh man, this is great, uh? The three of us together again! You know what would be fun? If we gave this present to Emma from all of us!',\n",
       "  'Speaker 1: Which one are Emma?'])"
      ]
     },
     "execution_count": 127,
     "metadata": {},
     "output_type": "execute_result"
    }
   ],
   "source": [
    "idx = 2\n",
    "dialogue = df1.iloc[idx].Dialogue\n",
    "entity_pairs = df1.Relations.apply(lambda relations: [(r['x'], r['y']) for r in relations]).iloc[idx]\n",
    "\n",
    "resolved_dialogue = coref_resolver.process_dialogue(dialogue)\n",
    "dialogue, resolved_dialogue\n"
   ]
  },
  {
   "cell_type": "code",
   "execution_count": 142,
   "metadata": {},
   "outputs": [],
   "source": [
    "class DialogueReducer:\n",
    "    def __init__(self, split_by='turn'):\n",
    "        self.nlp = spacy.load(\"en_core_web_sm\")\n",
    "        self.split_by = split_by\n",
    "\n",
    "    def _split_dialogue(self, dialogue):\n",
    "        if self.split_by == 'turn':\n",
    "            return dialogue.split('\\n')\n",
    "        elif self.split_by == 'sentence':\n",
    "            doc = self.nlp(dialogue)\n",
    "            return [str(sent) for sent in doc.sents]\n",
    "        else:\n",
    "            raise ValueError(\"Invalid value for split_by. Expected 'turn' or 'sentence'.\")\n",
    "\n",
    "    def _update_indices(self, i, sent, entity1, entity2, start_index, end_index, split_on_colon=False):\n",
    "        if split_on_colon:\n",
    "            content = sent.split(\":\", 1)[-1]  # This will get the content after the first \":\"\n",
    "        else:\n",
    "            content = sent\n",
    "        if entity1 in content or entity2 in content:\n",
    "            if start_index is None:\n",
    "                start_index = i\n",
    "            end_index = i\n",
    "        return start_index, end_index\n",
    "\n",
    "    def _extract_sub_dialogue(self, dialogue_list, start_index, end_index):\n",
    "        if start_index is not None and end_index is not None:\n",
    "            return dialogue_list[start_index:end_index+1]\n",
    "    \n",
    "    def get_sub_dialogues(self, dialogue, entity_pairs):\n",
    "        dialogue_list = self._split_dialogue(dialogue)\n",
    "        all_sub_dialogues = {}\n",
    "        for pair in entity_pairs:\n",
    "            all_sub_dialogues[pair] = []\n",
    "            start_index = None\n",
    "            end_index = None\n",
    "            for i, sent in enumerate(dialogue_list):\n",
    "                start_index, end_index = self._update_indices(i, sent, *pair, start_index, end_index)\n",
    "            if start_index is not None and end_index is not None:\n",
    "                sub_dialogue = self._extract_sub_dialogue(dialogue_list, start_index, end_index)\n",
    "                all_sub_dialogues[pair].append(sub_dialogue)\n",
    "        \n",
    "        shortest_sub_dialogues = {pair: max(dialogues, key=len) for pair, dialogues in all_sub_dialogues.items() if dialogues}\n",
    "        return shortest_sub_dialogues\n",
    "\n",
    "\n",
    "\n",
    "reducer = DialogueReducer(split_by='turn')\n",
    "# sub_dialogues = reducer.get_sub_dialogues('\\n'.join(resolved_dialogue), entity_pairs)\n",
    "\n",
    "# sub_dialogues"
   ]
  },
  {
   "cell_type": "code",
   "execution_count": 143,
   "metadata": {},
   "outputs": [],
   "source": [
    "@handle_exceptions\n",
    "def resolve_dialogue(dialogue):\n",
    "    return coref_resolver.process_dialogue(dialogue)\n",
    "\n",
    "df1['ResolvedDialogue'] = df1.Dialogue.progress_apply(resolve_dialogue)"
   ]
  },
  {
   "cell_type": "code",
   "execution_count": 138,
   "metadata": {},
   "outputs": [
    {
     "data": {
      "text/html": [
       "<div>\n",
       "<style scoped>\n",
       "    .dataframe tbody tr th:only-of-type {\n",
       "        vertical-align: middle;\n",
       "    }\n",
       "\n",
       "    .dataframe tbody tr th {\n",
       "        vertical-align: top;\n",
       "    }\n",
       "\n",
       "    .dataframe thead th {\n",
       "        text-align: right;\n",
       "    }\n",
       "</style>\n",
       "<table border=\"1\" class=\"dataframe\">\n",
       "  <thead>\n",
       "    <tr style=\"text-align: right;\">\n",
       "      <th></th>\n",
       "      <th>Dialogue</th>\n",
       "      <th>Relations</th>\n",
       "      <th>Origin</th>\n",
       "      <th>ResolvedDialogue</th>\n",
       "    </tr>\n",
       "  </thead>\n",
       "  <tbody>\n",
       "    <tr>\n",
       "      <th>1120</th>\n",
       "      <td>[Speaker 1: Here you are., Speaker 2: Thank yo...</td>\n",
       "      <td>[{'y': 'Speaker 2', 'x': 'Dr. Wiener', 'rid': ...</td>\n",
       "      <td>train</td>\n",
       "      <td>None</td>\n",
       "    </tr>\n",
       "    <tr>\n",
       "      <th>1236</th>\n",
       "      <td>[Speaker 1: Hey! Hey alright! Hey, glad you co...</td>\n",
       "      <td>[{'y': 'Speaker 3', 'x': 'Speaker 2', 'rid': [...</td>\n",
       "      <td>train</td>\n",
       "      <td>None</td>\n",
       "    </tr>\n",
       "    <tr>\n",
       "      <th>1511</th>\n",
       "      <td>[Speaker 1: Good evening, sir. My name is Ross...</td>\n",
       "      <td>[{'y': 'Speaker 1', 'x': 'Speaker 3', 'rid': [...</td>\n",
       "      <td>train</td>\n",
       "      <td>None</td>\n",
       "    </tr>\n",
       "  </tbody>\n",
       "</table>\n",
       "</div>"
      ],
      "text/plain": [
       "                                               Dialogue  \\\n",
       "1120  [Speaker 1: Here you are., Speaker 2: Thank yo...   \n",
       "1236  [Speaker 1: Hey! Hey alright! Hey, glad you co...   \n",
       "1511  [Speaker 1: Good evening, sir. My name is Ross...   \n",
       "\n",
       "                                              Relations Origin  \\\n",
       "1120  [{'y': 'Speaker 2', 'x': 'Dr. Wiener', 'rid': ...  train   \n",
       "1236  [{'y': 'Speaker 3', 'x': 'Speaker 2', 'rid': [...  train   \n",
       "1511  [{'y': 'Speaker 1', 'x': 'Speaker 3', 'rid': [...  train   \n",
       "\n",
       "     ResolvedDialogue  \n",
       "1120             None  \n",
       "1236             None  \n",
       "1511             None  "
      ]
     },
     "execution_count": 138,
     "metadata": {},
     "output_type": "execute_result"
    }
   ],
   "source": [
    "df1[df1.ResolvedDialogue.isna()]"
   ]
  },
  {
   "cell_type": "code",
   "execution_count": 141,
   "metadata": {},
   "outputs": [
    {
     "name": "stderr",
     "output_type": "stream",
     "text": [
      "100%|██████████| 26238/26238 [00:01<00:00, 17669.51it/s]\n"
     ]
    }
   ],
   "source": [
    "tmp = df1.explode('Relations')\n",
    "\n",
    "@handle_exceptions\n",
    "def extract_sub_dialogues(row, resolve_coref=True):\n",
    "    relations = (row['Relations']['x'], row['Relations']['y'])\n",
    "    if resolve_coref:\n",
    "        dialogue = '\\n'.join(row['ResolvedDialogue'])\n",
    "    else:\n",
    "        dialogue = '\\n'.join(row['Dialogue'])\n",
    "    sub_dialogues = reducer.get_sub_dialogues(dialogue, [relations])\n",
    "    return list(sub_dialogues.values())[0] if sub_dialogues else None\n",
    "\n",
    "tmp['SubDialogue'] = tmp.progress_apply(extract_sub_dialogues, axis=1)\n"
   ]
  },
  {
   "cell_type": "code",
   "execution_count": 166,
   "metadata": {},
   "outputs": [],
   "source": [
    "tmp['SubDialogue'] = tmp['SubDialogue'].fillna(tmp['Dialogue'])"
   ]
  },
  {
   "cell_type": "code",
   "execution_count": 167,
   "metadata": {},
   "outputs": [],
   "source": [
    "\n",
    "# Assuming your dataset is stored in a DataFrame called 'df'\n",
    "tmp['SubDialogue'] = tmp['SubDialogue'].astype(str)  # Convert SubDialogue column to string\n",
    "\n",
    "tmp = tmp.reset_index()\n",
    "\n",
    "grouped_df = tmp.groupby('SubDialogue').agg({\n",
    "    'index': lambda x: max(x),\n",
    "    'Dialogue': lambda x: max(x),\n",
    "    'Relations': lambda x: list(x),\n",
    "    'Origin': lambda x: max(x)\n",
    "}).reset_index()\n",
    "\n",
    "grouped_df['SubDialogue'] = grouped_df['SubDialogue'].apply(eval)  # Convert SubDialogue column back to list\n"
   ]
  },
  {
   "cell_type": "code",
   "execution_count": 180,
   "metadata": {},
   "outputs": [
    {
     "data": {
      "text/plain": [
       "<Axes: ylabel='Frequency'>"
      ]
     },
     "execution_count": 180,
     "metadata": {},
     "output_type": "execute_result"
    },
    {
     "data": {
      "image/png": "[encoded data removed]",
      "text/plain": [
       "<Figure size 640x480 with 1 Axes>"
      ]
     },
     "metadata": {},
     "output_type": "display_data"
    }
   ],
   "source": [
    "grouped_df['index'].value_counts().plot(kind='hist')"
   ]
  },
  {
   "cell_type": "code",
   "execution_count": 183,
   "metadata": {},
   "outputs": [
    {
     "name": "stdout",
     "output_type": "stream",
     "text": [
      "                                             SubDialogue  index  \\\n",
      "0                                                   None   1769   \n",
      "1      [Speaker 1:  'Hi, I have Phoebe Buffay returni...   1174   \n",
      "2      [Speaker 1:  'Hi, I have Phoebe Buffay returni...   1174   \n",
      "3      [Speaker 1:  Hey, my little boy's not crying.,...    810   \n",
      "4      [Speaker 1:  Hey, my little boy's not crying.,...    810   \n",
      "...                                                  ...    ...   \n",
      "10176  [Speaker 8: Rach?, Speaker 2: Oh yeah, sorry. ...    585   \n",
      "10177  [Speaker 8: Rach?, Speaker 2: Oh yeah, sorry. ...    585   \n",
      "10178  [Speaker 8: Thank Phoebe!, Speaker 3: No! Than...    519   \n",
      "10179  [Speaker 8: Well, this is ironic. Of your last...    501   \n",
      "10180      [Speaker 9: Not for me. Chip and I broke up!]    380   \n",
      "\n",
      "                                                Dialogue  \\\n",
      "0      [Speaker 1:: Tribbiani! Hold on, I’ll get the ...   \n",
      "1      [Speaker 1: Oh, it's your audition from this m...   \n",
      "2      [Speaker 1: Oh, it's your audition from this m...   \n",
      "3      [Speaker 1:  Hey, he's not crying., Speaker 2:...   \n",
      "4      [Speaker 1:  Hey, he's not crying., Speaker 2:...   \n",
      "...                                                  ...   \n",
      "10176  [Speaker 1: Hi, is Rachel here? I’m her sister...   \n",
      "10177  [Speaker 1: Hi, is Rachel here? I’m her sister...   \n",
      "10178  [Speaker 1: Ross? Let’s go., Speaker 2: Oh yea...   \n",
      "10179  [Speaker 1: Pete Becker is circling the ring n...   \n",
      "10180  [Speaker 1: In this life, Phoebe., Speaker 2: ...   \n",
      "\n",
      "                                               Relations Origin  \n",
      "0      [{'y': 'Mr. Bing', 'x': 'Mr. Bing', 'rid': [38...  train  \n",
      "1      [{'y': 'Phoebe Buffay', 'x': 'Estelle', 'rid':...  train  \n",
      "2      [{'y': 'Phoebe Buffay', 'x': 'Annie', 'rid': [...  train  \n",
      "3      [{'y': 'boy', 'x': 'Speaker 1', 'rid': [37], '...  train  \n",
      "4      [{'y': 'my little boy', 'x': 'Ben', 'rid': [30...  train  \n",
      "...                                                  ...    ...  \n",
      "10176  [{'y': 'Boy', 'x': 'Speaker 8', 'rid': [38], '...   test  \n",
      "10177  [{'y': 'honey', 'x': 'Speaker 8', 'rid': [38],...   test  \n",
      "10178  [{'y': 'son', 'x': 'Speaker 8', 'rid': [37], '...   test  \n",
      "10179  [{'y': 'Richard', 'x': 'Richard', 'rid': [38],...   test  \n",
      "10180  [{'y': 'Chip', 'x': 'Speaker 9', 'rid': [10], ...   test  \n",
      "\n",
      "[10181 rows x 5 columns]\n"
     ]
    }
   ],
   "source": [
    "print(grouped_df)"
   ]
  },
  {
   "cell_type": "code",
   "execution_count": 207,
   "metadata": {},
   "outputs": [],
   "source": [
    "# Assuming your dataset is stored in a DataFrame called 'grouped_df'\n",
    "import os\n",
    "import json\n",
    "\n",
    "\n",
    "# Get the unique values in the 'Origin' column\n",
    "origins = grouped_df['Origin'].unique()\n",
    "\n",
    "# Dump the dataset as JSON files for each group in the 'Origin' column\n",
    "for origin in origins:\n",
    "    filtered_df = grouped_df[grouped_df['Origin'] == origin]\n",
    "    data = filtered_df.to_dict(orient='records')\n",
    "\n",
    "    # Assuming your dataset is stored in a variable called 'data'\n",
    "\n",
    "    formatted_data = []\n",
    "\n",
    "    for row in data:\n",
    "        subdialogue = row['SubDialogue']\n",
    "        dialogue = row['Dialogue']\n",
    "        relations = row['Relations']\n",
    "        \n",
    "        formatted_subdialogue = []\n",
    "        formatted_subdialogue.append(dialogue)\n",
    "        formatted_subdialogue.append(relations)\n",
    "        \n",
    "        formatted_data.append(formatted_subdialogue)\n",
    "\n",
    "    directory = LOCAL_PROCESSED_DATA_PATH / f'dialog-re-subdialogues'\n",
    "    if not os.path.exists(directory):\n",
    "        os.makedirs(directory)\n",
    "\n",
    "\n",
    "    with open(directory / f'{origin}.json', 'w') as f:\n",
    "        json.dump(formatted_data, f)\n"
   ]
  }
 ],
 "metadata": {
  "kernelspec": {
   "display_name": "RelNetCare-pBkonNa4",
   "language": "python",
   "name": "python3"
  },
  "language_info": {
   "codemirror_mode": {
    "name": "ipython",
    "version": 3
   },
   "file_extension": ".py",
   "mimetype": "text/x-python",
   "name": "python",
   "nbconvert_exporter": "python",
   "pygments_lexer": "ipython3",
   "version": "3.10.4"
  },
  "orig_nbformat": 4
 },
 "nbformat": 4,
 "nbformat_minor": 2
}
